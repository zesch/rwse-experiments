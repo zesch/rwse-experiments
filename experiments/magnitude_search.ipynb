{
 "cells": [
  {
   "metadata": {
    "ExecuteTime": {
     "end_time": "2025-06-06T06:08:54.887697Z",
     "start_time": "2025-06-06T06:08:46.777750Z"
    }
   },
   "cell_type": "code",
   "source": [
    "import os\n",
    "import pandas as pd\n",
    "import matplotlib.pyplot as plt\n",
    "\n",
    "from rwse_checker.rwse import RWSE_Checker"
   ],
   "id": "37e79849fa68c37c",
   "outputs": [
    {
     "name": "stderr",
     "output_type": "stream",
     "text": [
      "/Users/dgardner/GitHub/catalpa-cl/rwse-experiments/.venv/lib/python3.11/site-packages/tqdm/auto.py:21: TqdmWarning: IProgress not found. Please update jupyter and ipywidgets. See https://ipywidgets.readthedocs.io/en/stable/user_install.html\n",
      "  from .autonotebook import tqdm as notebook_tqdm\n"
     ]
    }
   ],
   "execution_count": 1
  },
  {
   "metadata": {
    "collapsed": true,
    "ExecuteTime": {
     "end_time": "2025-06-06T06:08:55.739836Z",
     "start_time": "2025-06-06T06:08:54.895964Z"
    }
   },
   "cell_type": "code",
   "source": [
    "rwse = RWSE_Checker()\n",
    "ranges = list(range(1, 10)) + list(range(10, 101, 10))\n",
    "\n",
    "\n",
    "def run_falsified_data(input_lines):\n",
    "    result = dict()\n",
    "    for line in input_lines:\n",
    "        confusion_set, expected, sentence = line.strip().split('\\t')\n",
    "        rwse.set_confusion_sets([set(confusion_set.split(','))])\n",
    "        for target in confusion_set.split(','):\n",
    "            if target != expected:  # analyze mistakes only\n",
    "                results = rwse.check(target, sentence, return_all=True)\n",
    "                for magnitude in ranges:\n",
    "                    suggestion, _ = rwse.evaluate(target, results, magnitude)\n",
    "                    result.setdefault(magnitude, {'num_sentences': 0, 'num_matches': 0})\n",
    "                    result[magnitude]['num_sentences'] += 1\n",
    "                    if suggestion.lower() == expected.lower():  # no case discrimination in RWSE result, true positive\n",
    "                        result[magnitude]['num_matches'] += 1\n",
    "    return result\n",
    "\n",
    "\n",
    "def run_original_data(input_lines):\n",
    "    result = dict()\n",
    "    for line in input_lines:\n",
    "        confusion_set, target, sentence = line.strip().split('\\t')\n",
    "        rwse.set_confusion_sets([set(confusion_set.split(','))])\n",
    "        results = rwse.check(target, sentence, return_all=True)\n",
    "        for magnitude in ranges:\n",
    "            suggestion, _ = rwse.evaluate(target, results, magnitude)\n",
    "            result.setdefault(magnitude, {'num_sentences':0, 'num_matches':0})\n",
    "            result[magnitude]['num_sentences'] += 1\n",
    "            if suggestion.lower() != target.lower(): # no case discrimination in RWSE result\n",
    "                result[magnitude]['num_matches'] += 1\n",
    "    return result"
   ],
   "id": "initial_id",
   "outputs": [
    {
     "name": "stderr",
     "output_type": "stream",
     "text": [
      "BertForMaskedLM has generative capabilities, as `prepare_inputs_for_generation` is explicitly overwritten. However, it doesn't directly inherit from `GenerationMixin`. From 👉v4.50👈 onwards, `PreTrainedModel` will NOT inherit from `GenerationMixin`, and this model will lose the ability to call `generate` and other related functions.\n",
      "  - If you're using `trust_remote_code=True`, you can get rid of this warning by loading the model with an auto class. See https://huggingface.co/docs/transformers/en/model_doc/auto#auto-classes\n",
      "  - If you are the owner of the model architecture code, please modify your model class such that it inherits from `GenerationMixin` (after `PreTrainedModel`, otherwise you'll get an exception).\n",
      "  - If you are not the owner of the model architecture class, please contact the model code owner to update it.\n",
      "Some weights of the model checkpoint at bert-base-cased were not used when initializing BertForMaskedLM: ['bert.pooler.dense.bias', 'bert.pooler.dense.weight', 'cls.seq_relationship.bias', 'cls.seq_relationship.weight']\n",
      "- This IS expected if you are initializing BertForMaskedLM from the checkpoint of a model trained on another task or with another architecture (e.g. initializing a BertForSequenceClassification model from a BertForPreTraining model).\n",
      "- This IS NOT expected if you are initializing BertForMaskedLM from the checkpoint of a model that you expect to be exactly identical (initializing a BertForSequenceClassification model from a BertForSequenceClassification model).\n",
      "Device set to use cpu\n"
     ]
    }
   ],
   "execution_count": 2
  },
  {
   "metadata": {
    "ExecuteTime": {
     "end_time": "2025-06-06T06:49:14.917798Z",
     "start_time": "2025-06-06T06:08:55.829392Z"
    }
   },
   "cell_type": "code",
   "source": [
    "report_file_name = 'output/report_magnitude_search_balanced.csv'\n",
    "input_file_name = 'input/eng_news_2023_balanced-masked-sentences.csv'\n",
    "\n",
    "if not os.path.exists(report_file_name):\n",
    "\n",
    "    magnitude_search = dict()\n",
    "    with open(input_file_name, 'r') as f:\n",
    "        lines = f.readlines()[1:]  #skip Header\n",
    "\n",
    "    print('Starting with false positives.')\n",
    "    false_positive_result = run_original_data(lines)\n",
    "    print('Starting with true positives.')\n",
    "    true_positive_result = run_falsified_data(lines)\n",
    "\n",
    "    with open(report_file_name, 'w') as output_file:\n",
    "\n",
    "        print('magnitude', 'TP', 'TN', 'FP', 'FN', 'total', sep=';', file=output_file)\n",
    "        for magnitude in ranges:\n",
    "\n",
    "            print(f'Printing magnitude {magnitude}...')\n",
    "\n",
    "            TP, TN, FP, FN = 0, 0, 0, 0\n",
    "            total = 0\n",
    "            num_sentences = false_positive_result[magnitude]['num_sentences']\n",
    "            num_matches = false_positive_result[magnitude]['num_matches']\n",
    "            TN = num_sentences - num_matches\n",
    "            FP = num_matches\n",
    "            total += num_sentences\n",
    "\n",
    "            num_sentences = true_positive_result[magnitude]['num_sentences']\n",
    "            num_matches = true_positive_result[magnitude]['num_matches']\n",
    "            FN = num_sentences - num_matches\n",
    "            TP = num_matches\n",
    "            total += num_sentences\n",
    "\n",
    "            print(magnitude, TP, TN, FP, FN, total, sep=';', file=output_file)\n"
   ],
   "id": "4d0d2752b2b02771",
   "outputs": [
    {
     "name": "stdout",
     "output_type": "stream",
     "text": [
      "Starting with false positives.\n",
      "Starting with true positives.\n",
      "Printing magnitude 1...\n",
      "Printing magnitude 2...\n",
      "Printing magnitude 3...\n",
      "Printing magnitude 4...\n",
      "Printing magnitude 5...\n",
      "Printing magnitude 6...\n",
      "Printing magnitude 7...\n",
      "Printing magnitude 8...\n",
      "Printing magnitude 9...\n",
      "Printing magnitude 10...\n",
      "Printing magnitude 20...\n",
      "Printing magnitude 30...\n",
      "Printing magnitude 40...\n",
      "Printing magnitude 50...\n",
      "Printing magnitude 60...\n",
      "Printing magnitude 70...\n",
      "Printing magnitude 80...\n",
      "Printing magnitude 90...\n",
      "Printing magnitude 100...\n"
     ]
    }
   ],
   "execution_count": 3
  },
  {
   "metadata": {
    "ExecuteTime": {
     "end_time": "2025-06-06T06:49:15.668793Z",
     "start_time": "2025-06-06T06:49:15.118563Z"
    }
   },
   "cell_type": "code",
   "source": [
    "report_data = pd.read_csv('output/report_magnitude_search_balanced.csv', sep=';')\n",
    "report_data.set_index('magnitude', inplace=True)\n",
    "report_data['false-alarm rate'] = report_data['FP'] / (report_data['FP'] + report_data['TN']) #false-positive-rate\n",
    "report_data['miss rate'] = report_data['FN'] / (report_data['FN'] + report_data['TP'])\n",
    "\n",
    "y_1 = report_data['false-alarm rate']\n",
    "y_2 = report_data['miss rate']\n",
    "x = report_data.index\n",
    "\n",
    "plt.rc('text', usetex=True)\n",
    "\n",
    "fig, ax = plt.subplots(figsize=(4,2))\n",
    "ax.set_xticks(list(range(0,101,10)))\n",
    "#ax.set_yticks([0, 0.01, 0.02, 0.03, 0.04, 0.05, 0.06, 0.07, 0.08, 0.09, 0.1])\n",
    "ax.grid(color='lightgray', linestyle='dotted')\n",
    "ax.margins(x=0.0102, y=0)\n",
    "ax.set_xlabel(\"$\\mu$\", fontsize=14)\n",
    "\n",
    "plt.plot(x, y_1, label=\"false-alarm rate\", color=\"lightblue\", linewidth=2)\n",
    "plt.plot(x, y_2, label=\"miss rate\", color=\"lightcoral\", linewidth=2)\n",
    "plt.plot([10, 10],[0, 0.085] , zorder=1, color=\"black\", linewidth=1, linestyle=\"dotted\")\n",
    "plt.legend()\n",
    "plt.show()"
   ],
   "id": "39431c695bff9b3d",
   "outputs": [
    {
     "name": "stderr",
     "output_type": "stream",
     "text": [
      "huggingface/tokenizers: The current process just got forked, after parallelism has already been used. Disabling parallelism to avoid deadlocks...\n",
      "To disable this warning, you can either:\n",
      "\t- Avoid using `tokenizers` before the fork if possible\n",
      "\t- Explicitly set the environment variable TOKENIZERS_PARALLELISM=(true | false)\n"
     ]
    },
    {
     "data": {
      "text/plain": [
       "<Figure size 400x200 with 1 Axes>"
      ],
      "image/png": "[encoded data removed]"
     },
     "metadata": {},
     "output_type": "display_data"
    }
   ],
   "execution_count": 4
  }
 ],
 "metadata": {
  "kernelspec": {
   "display_name": "Python 3",
   "language": "python",
   "name": "python3"
  },
  "language_info": {
   "codemirror_mode": {
    "name": "ipython",
    "version": 2
   },
   "file_extension": ".py",
   "mimetype": "text/x-python",
   "name": "python",
   "nbconvert_exporter": "python",
   "pygments_lexer": "ipython2",
   "version": "2.7.6"
  }
 },
 "nbformat": 4,
 "nbformat_minor": 5
}
