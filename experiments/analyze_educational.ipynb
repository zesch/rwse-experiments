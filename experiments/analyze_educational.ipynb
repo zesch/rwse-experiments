{
 "cells": [
  {
   "metadata": {},
   "cell_type": "markdown",
   "source": "# Analyze Educational Corpus",
   "id": "216b71729455d1ff"
  },
  {
   "metadata": {
    "ExecuteTime": {
     "end_time": "2025-04-17T10:16:05.574359Z",
     "start_time": "2025-04-17T10:16:05.571383Z"
    }
   },
   "cell_type": "code",
   "outputs": [],
   "execution_count": 77,
   "source": [
    "from rwse_checker.rwse import RWSE_Checker\n",
    "from cas_visualizer.visualizer import SpacySpanVisualiser\n",
    "from IPython.display import display, HTML\n",
    "\n",
    "import cassis\n",
    "import os\n",
    "import pandas as pd\n",
    "import spacy"
   ],
   "id": "780dc2b71289aa32"
  },
  {
   "metadata": {},
   "cell_type": "markdown",
   "source": "### Analyze FCE dataset",
   "id": "7768f06ae489cbbf"
  },
  {
   "metadata": {
    "ExecuteTime": {
     "end_time": "2025-04-06T15:01:33.299078Z",
     "start_time": "2025-04-06T15:01:33.297070Z"
    }
   },
   "cell_type": "code",
   "source": "report_file_name = 'output/report_use_case_fce.tsv'",
   "id": "f465caca81664520",
   "outputs": [],
   "execution_count": 2
  },
  {
   "metadata": {
    "ExecuteTime": {
     "end_time": "2025-04-06T15:01:33.381432Z",
     "start_time": "2025-04-06T15:01:33.378617Z"
    }
   },
   "cell_type": "code",
   "source": [
    "confusion_set_file = 'input/confusion_sets_modified.csv'\n",
    "confusion_set_dict = dict()\n",
    "confusion_set_words = []\n",
    "with open(confusion_set_file, 'r') as f:\n",
    "    for line in f.readlines():\n",
    "        words = line.strip().split(',')\n",
    "        for word in words:\n",
    "            confusion_set_dict[word] = line.strip()\n",
    "        confusion_set_words.extend(words)\n",
    "confusion_set_words = set([s.lower() for s in confusion_set_words])"
   ],
   "id": "84b6b26b3f949391",
   "outputs": [],
   "execution_count": 3
  },
  {
   "metadata": {
    "collapsed": true,
    "ExecuteTime": {
     "end_time": "2025-04-06T15:01:33.388296Z",
     "start_time": "2025-04-06T15:01:33.385975Z"
    }
   },
   "cell_type": "code",
   "source": [
    "file_name = 'input/fce_cleaned.txt'\n",
    "\n",
    "if not os.path.exists(file_name):\n",
    "    input_file = open('input/fce-public.train.original.tsv')\n",
    "    with open(file_name, 'w') as f:\n",
    "        sentence = ''\n",
    "        for line in input_file.readlines()[1:]:\n",
    "            if line.strip() == '':\n",
    "                print(sentence.strip(), file=f, end='\\n')\n",
    "                sentence = ''\n",
    "            else:\n",
    "                sentence += line.split('\\t')[0] + ' '\n",
    "    input_file.close()"
   ],
   "id": "initial_id",
   "outputs": [],
   "execution_count": 4
  },
  {
   "metadata": {
    "ExecuteTime": {
     "end_time": "2025-04-06T15:02:04.361476Z",
     "start_time": "2025-04-06T15:01:33.392526Z"
    }
   },
   "cell_type": "code",
   "source": [
    "ts_file = 'input/TypeSystem.xml'\n",
    "with open(ts_file, 'rb') as f:\n",
    "    ts = cassis.load_typesystem(f)\n",
    "\n",
    "\n",
    "T_SENTENCE = 'de.tudarmstadt.ukp.dkpro.core.api.segmentation.type.Sentence'\n",
    "T_TOKEN = 'de.tudarmstadt.ukp.dkpro.core.api.segmentation.type.Token'\n",
    "\n",
    "S = ts.get_type(T_SENTENCE)\n",
    "T = ts.get_type(T_TOKEN)\n",
    "\n",
    "cas = cassis.Cas(ts)\n",
    "\n",
    "input_file = 'input/fce_cleaned.txt'\n",
    "with open(input_file, 'r') as f:\n",
    "    cas_input = ''\n",
    "    for line in f.readlines():\n",
    "        for item in confusion_set_words:\n",
    "            if item in line.split(' '):\n",
    "                cas_input += line + ' '\n",
    "                break\n",
    "    cas.sofa_string = cas_input\n",
    "\n",
    "nlp = spacy.load(\"en_core_web_sm\")\n",
    "nlp.max_length = 1800000\n",
    "doc = nlp(cas.sofa_string)\n",
    "for sent in doc.sents:\n",
    "    cas_sentence = S(begin=sent.start_char, end=sent.end_char)\n",
    "    cas.add(cas_sentence)\n",
    "for token in doc:\n",
    "    cas_token = T(begin=token.idx, end=token.idx+len(token.text), id=token.i)\n",
    "    cas.add(cas_token)\n",
    "\n",
    "len(cas.sofa_string)"
   ],
   "id": "acda2bdcb431bb35",
   "outputs": [
    {
     "data": {
      "text/plain": [
       "1752223"
      ]
     },
     "execution_count": 5,
     "metadata": {},
     "output_type": "execute_result"
    }
   ],
   "execution_count": 5
  },
  {
   "metadata": {
    "ExecuteTime": {
     "end_time": "2025-04-06T15:02:04.464034Z",
     "start_time": "2025-04-06T15:02:04.451731Z"
    }
   },
   "cell_type": "code",
   "source": "len(list(doc.sents))",
   "id": "cb4b7bddeadb8329",
   "outputs": [
    {
     "data": {
      "text/plain": [
       "18984"
      ]
     },
     "execution_count": 6,
     "metadata": {},
     "output_type": "execute_result"
    }
   ],
   "execution_count": 6
  },
  {
   "metadata": {
    "ExecuteTime": {
     "end_time": "2025-04-06T15:02:04.554004Z",
     "start_time": "2025-04-06T15:02:04.551940Z"
    }
   },
   "cell_type": "code",
   "source": [
    "if not os.path.exists(report_file_name):\n",
    "    rwse = RWSE_Checker()\n",
    "    rwse.set_confusion_sets(confusion_set_file)\n",
    "    rwse.check_cas(cas, ts)"
   ],
   "id": "ebe3a6526d4bc8d3",
   "outputs": [],
   "execution_count": 7
  },
  {
   "metadata": {},
   "cell_type": "markdown",
   "source": "### Report RWSE",
   "id": "972c8a45e0e43525"
  },
  {
   "metadata": {
    "ExecuteTime": {
     "end_time": "2025-04-06T15:02:55.503376Z",
     "start_time": "2025-04-06T15:02:55.497234Z"
    }
   },
   "cell_type": "code",
   "source": [
    "T_RWSE = 'de.tudarmstadt.ukp.dkpro.core.api.anomaly.type.RWSE'\n",
    "\n",
    "if not os.path.exists(report_file_name):\n",
    "    with open(report_file_name, 'w') as f:\n",
    "        print('confusion_set', 'target', 'suggestion', 'sentence', sep='\\t', end='\\n', file=f)\n",
    "        for annotation in cas.select(T_RWSE):\n",
    "            confusion_set = confusion_set_dict[annotation.suggestion]\n",
    "            target = annotation.get_covered_text()\n",
    "            suggestion = annotation.suggestion\n",
    "            rwse_text = f\"{annotation.get_covered_text()}=>{annotation.suggestion}\"\n",
    "            begin = annotation.begin\n",
    "            end = annotation.end\n",
    "            for sentence in cas.select(T_SENTENCE):\n",
    "                if sentence.begin <= begin and sentence.end >= end:\n",
    "                    sentence_text = sentence.get_covered_text()\n",
    "                    sentence_text = sentence_text[:(begin-sentence.begin)] + f'[{annotation.get_covered_text()}]' + sentence_text[(end-sentence.begin):]\n",
    "                    sentence_text = sentence_text.replace('\\n', ' ')\n",
    "                    sentence_text = sentence_text.replace('\\t', ' ')\n",
    "                    break\n",
    "            print(confusion_set, target, suggestion, sentence_text, sep='\\t', end='\\n', file=f)"
   ],
   "id": "bb26d23e897b7693",
   "outputs": [],
   "execution_count": 12
  },
  {
   "metadata": {
    "ExecuteTime": {
     "end_time": "2025-04-06T15:03:43.161546Z",
     "start_time": "2025-04-06T15:03:43.152410Z"
    }
   },
   "cell_type": "code",
   "source": [
    "data = pd.read_csv(report_file_name, sep='\\t')\n",
    "data.head()"
   ],
   "id": "88ba6e63d329eeac",
   "outputs": [
    {
     "data": {
      "text/plain": [
       "                       confusion_set  target suggestion  \\\n",
       "0              To,Too,Two,to,too,two      to        too   \n",
       "1               Effect,affect,effect  effect     affect   \n",
       "2                  Plain,plain,plane   plane      plain   \n",
       "3      Country,County,country,county  county    country   \n",
       "4  Their,There,They,their,there,they   their      there   \n",
       "\n",
       "                                            sentence  \n",
       "0  And at the end , my opinion is that one weeken...  \n",
       "1  Shopping does not just [effect] us mentally , ...  \n",
       "2  If we came back to the past , we felt everythi...  \n",
       "3  I used to be play in school team when I was in...  \n",
       "4  so I had an argument with the people Who worke...  "
      ],
      "text/html": [
       "<div>\n",
       "<style scoped>\n",
       "    .dataframe tbody tr th:only-of-type {\n",
       "        vertical-align: middle;\n",
       "    }\n",
       "\n",
       "    .dataframe tbody tr th {\n",
       "        vertical-align: top;\n",
       "    }\n",
       "\n",
       "    .dataframe thead th {\n",
       "        text-align: right;\n",
       "    }\n",
       "</style>\n",
       "<table border=\"1\" class=\"dataframe\">\n",
       "  <thead>\n",
       "    <tr style=\"text-align: right;\">\n",
       "      <th></th>\n",
       "      <th>confusion_set</th>\n",
       "      <th>target</th>\n",
       "      <th>suggestion</th>\n",
       "      <th>sentence</th>\n",
       "    </tr>\n",
       "  </thead>\n",
       "  <tbody>\n",
       "    <tr>\n",
       "      <th>0</th>\n",
       "      <td>To,Too,Two,to,too,two</td>\n",
       "      <td>to</td>\n",
       "      <td>too</td>\n",
       "      <td>And at the end , my opinion is that one weeken...</td>\n",
       "    </tr>\n",
       "    <tr>\n",
       "      <th>1</th>\n",
       "      <td>Effect,affect,effect</td>\n",
       "      <td>effect</td>\n",
       "      <td>affect</td>\n",
       "      <td>Shopping does not just [effect] us mentally , ...</td>\n",
       "    </tr>\n",
       "    <tr>\n",
       "      <th>2</th>\n",
       "      <td>Plain,plain,plane</td>\n",
       "      <td>plane</td>\n",
       "      <td>plain</td>\n",
       "      <td>If we came back to the past , we felt everythi...</td>\n",
       "    </tr>\n",
       "    <tr>\n",
       "      <th>3</th>\n",
       "      <td>Country,County,country,county</td>\n",
       "      <td>county</td>\n",
       "      <td>country</td>\n",
       "      <td>I used to be play in school team when I was in...</td>\n",
       "    </tr>\n",
       "    <tr>\n",
       "      <th>4</th>\n",
       "      <td>Their,There,They,their,there,they</td>\n",
       "      <td>their</td>\n",
       "      <td>there</td>\n",
       "      <td>so I had an argument with the people Who worke...</td>\n",
       "    </tr>\n",
       "  </tbody>\n",
       "</table>\n",
       "</div>"
      ]
     },
     "execution_count": 15,
     "metadata": {},
     "output_type": "execute_result"
    }
   ],
   "execution_count": 15
  },
  {
   "metadata": {
    "ExecuteTime": {
     "end_time": "2025-04-06T15:03:46.600206Z",
     "start_time": "2025-04-06T15:03:46.594141Z"
    }
   },
   "cell_type": "code",
   "source": "data['confusion_set'].value_counts()",
   "id": "73a4428525d3118c",
   "outputs": [
    {
     "data": {
      "text/plain": [
       "confusion_set\n",
       "You,Your,you,your                    94\n",
       "To,Too,Two,to,too,two                48\n",
       "Their,There,They,their,there,they    47\n",
       "Than,Then,than,then                  32\n",
       "Life,Live,life,live                  24\n",
       "Were,Where,were,where                19\n",
       "Quiet,Quite,quiet,quite              14\n",
       "Hole,Whole,hole,whole                12\n",
       "advice,advise                         8\n",
       "Things,things,thinks                  8\n",
       "loose,lose                            6\n",
       "Word,World,word,world                 6\n",
       "Country,County,country,county         6\n",
       "Which,Witch,which,witch               5\n",
       "Mad,Made,mad,made                     4\n",
       "Effects,affects,effects               4\n",
       "Weather,Whether,weather,whether       4\n",
       "Peace,Piece,peace,piece               3\n",
       "Except,accept,except                  3\n",
       "Form,From,form,from                   3\n",
       "Week,weak,week                        3\n",
       "Past,passed,past                      2\n",
       "Them,Theme,them,theme                 2\n",
       "Effect,affect,effect                  2\n",
       "Plain,plain,plane                     2\n",
       "Rise,raise,rise                       1\n",
       "brakes,breaks                         1\n",
       "Lead,Led,lead,led                     1\n",
       "Name: count, dtype: int64"
      ]
     },
     "execution_count": 16,
     "metadata": {},
     "output_type": "execute_result"
    }
   ],
   "execution_count": 16
  },
  {
   "metadata": {},
   "cell_type": "markdown",
   "source": "### Limitation of Confusion Set Approach",
   "id": "338769cdd22a772d"
  },
  {
   "metadata": {
    "ExecuteTime": {
     "end_time": "2025-06-04T15:49:49.777731Z",
     "start_time": "2025-06-04T15:49:39.383162Z"
    }
   },
   "cell_type": "code",
   "source": [
    "from transformers import pipeline\n",
    "\n",
    "pipe = pipeline(\"fill-mask\", model=\"bert-base-cased\", device=-1)\n",
    "masked_sentence = \"[MASK] you for reading.\"\n",
    "results = pipe(masked_sentence, targets=[\"Then\", \"Than\", \"then\", \"than\"])\n",
    "#0.99769 Thanks (best prediction overall)\n",
    "#3.5702942113857716e-07 Then (best prediction from confusion set)\n",
    "#2.8134087060038837e-08 Than (original token)\n",
    "results"
   ],
   "id": "c5a59152cd49969d",
   "outputs": [
    {
     "name": "stderr",
     "output_type": "stream",
     "text": [
      "/Users/dgardner/GitHub/catalpa-cl/rwse-experiments/.venv/lib/python3.11/site-packages/tqdm/auto.py:21: TqdmWarning: IProgress not found. Please update jupyter and ipywidgets. See https://ipywidgets.readthedocs.io/en/stable/user_install.html\n",
      "  from .autonotebook import tqdm as notebook_tqdm\n",
      "BertForMaskedLM has generative capabilities, as `prepare_inputs_for_generation` is explicitly overwritten. However, it doesn't directly inherit from `GenerationMixin`. From 👉v4.50👈 onwards, `PreTrainedModel` will NOT inherit from `GenerationMixin`, and this model will lose the ability to call `generate` and other related functions.\n",
      "  - If you're using `trust_remote_code=True`, you can get rid of this warning by loading the model with an auto class. See https://huggingface.co/docs/transformers/en/model_doc/auto#auto-classes\n",
      "  - If you are the owner of the model architecture code, please modify your model class such that it inherits from `GenerationMixin` (after `PreTrainedModel`, otherwise you'll get an exception).\n",
      "  - If you are not the owner of the model architecture class, please contact the model code owner to update it.\n",
      "Some weights of the model checkpoint at bert-base-cased were not used when initializing BertForMaskedLM: ['bert.pooler.dense.bias', 'bert.pooler.dense.weight', 'cls.seq_relationship.bias', 'cls.seq_relationship.weight']\n",
      "- This IS expected if you are initializing BertForMaskedLM from the checkpoint of a model trained on another task or with another architecture (e.g. initializing a BertForSequenceClassification model from a BertForPreTraining model).\n",
      "- This IS NOT expected if you are initializing BertForMaskedLM from the checkpoint of a model that you expect to be exactly identical (initializing a BertForSequenceClassification model from a BertForSequenceClassification model).\n",
      "Device set to use cpu\n"
     ]
    },
    {
     "data": {
      "text/plain": [
       "[{'score': 3.5702942113857716e-07,\n",
       "  'token': 1599,\n",
       "  'token_str': 'Then',\n",
       "  'sequence': 'Then you for reading.'},\n",
       " {'score': 2.8134087060038837e-08,\n",
       "  'token': 16062,\n",
       "  'token_str': 'Than',\n",
       "  'sequence': 'Than you for reading.'},\n",
       " {'score': 1.3301545642718793e-08,\n",
       "  'token': 1190,\n",
       "  'token_str': 'than',\n",
       "  'sequence': 'than you for reading.'},\n",
       " {'score': 9.532203470996592e-09,\n",
       "  'token': 1173,\n",
       "  'token_str': 'then',\n",
       "  'sequence': 'then you for reading.'}]"
      ]
     },
     "execution_count": 1,
     "metadata": {},
     "output_type": "execute_result"
    }
   ],
   "execution_count": 1
  },
  {
   "metadata": {},
   "cell_type": "markdown",
   "source": "### Mocked Visualization",
   "id": "9c4090304cc4caee"
  },
  {
   "metadata": {
    "ExecuteTime": {
     "end_time": "2025-04-17T06:59:08.573992Z",
     "start_time": "2025-04-17T06:59:08.530105Z"
    }
   },
   "cell_type": "code",
   "outputs": [
    {
     "data": {
      "text/plain": [
       "<IPython.core.display.HTML object>"
      ],
      "text/html": [
       "\n",
       "<div class=\"entities\" style=\"line-height: 2.5; direction: ltr\">My \n",
       "<mark class=\"entity\" style=\"background: palegreen; padding: 0.45em 0.6em; margin: 0 0.25em; line-height: 1; border-radius: 0.35em;\">\n",
       "    advise\n",
       "    <span style=\"font-size: 0.8em; font-weight: bold; line-height: 1; border-radius: 0.35em; vertical-align: middle; margin-left: 0.5rem\">RWSE</span>\n",
       "</mark>\n",
       " \n",
       "<mark class=\"entity\" style=\"background: limegreen; padding: 0.45em 0.6em; margin: 0 0.25em; line-height: 1; border-radius: 0.35em;\">\n",
       "    advice\n",
       "    <span style=\"font-size: 0.8em; font-weight: bold; line-height: 1; border-radius: 0.35em; vertical-align: middle; margin-left: 0.5rem\">CORR</span>\n",
       "</mark>\n",
       " for you is: Do not put \n",
       "<mark class=\"entity\" style=\"background: palegreen; padding: 0.45em 0.6em; margin: 0 0.25em; line-height: 1; border-radius: 0.35em;\">\n",
       "    to\n",
       "    <span style=\"font-size: 0.8em; font-weight: bold; line-height: 1; border-radius: 0.35em; vertical-align: middle; margin-left: 0.5rem\">RWSE</span>\n",
       "</mark>\n",
       " \n",
       "<mark class=\"entity\" style=\"background: limegreen; padding: 0.45em 0.6em; margin: 0 0.25em; line-height: 1; border-radius: 0.35em;\">\n",
       "    too\n",
       "    <span style=\"font-size: 0.8em; font-weight: bold; line-height: 1; border-radius: 0.35em; vertical-align: middle; margin-left: 0.5rem\">CORR</span>\n",
       "</mark>\n",
       " much subjects, just put a few subject and make them look interesting.</div>\n"
      ]
     },
     "metadata": {},
     "output_type": "display_data"
    }
   ],
   "execution_count": 75,
   "source": [
    "ts_file = 'input/TypeSystem.xml'\n",
    "with open(ts_file, 'rb') as f:\n",
    "    ts = cassis.load_typesystem(f)\n",
    "\n",
    "cas = cassis.Cas(ts)\n",
    "cas.sofa_string = \"My advise advice for you is: Do not put to too much subjects, just put a few subject and make them look interesting.\"\n",
    "\n",
    "T_TOKEN = 'de.tudarmstadt.ukp.dkpro.core.api.segmentation.type.Token'\n",
    "RWSE = ts.get_type(T_RWSE)\n",
    "ts.create_type('CORR')\n",
    "CORR = ts.get_type('CORR')\n",
    "\n",
    "token = 'to'\n",
    "begin = cas.sofa_string.find(token)\n",
    "end = begin + len(token)\n",
    "custom = RWSE(begin=begin, end=end)\n",
    "cas.add(custom)\n",
    "\n",
    "token = 'too'\n",
    "begin = cas.sofa_string.find(token)\n",
    "end = begin + len(token)\n",
    "custom = CORR(begin=begin, end=end)\n",
    "cas.add(custom)\n",
    "\n",
    "token = 'advise'\n",
    "begin = cas.sofa_string.find(token)\n",
    "end = begin + len(token)\n",
    "custom = RWSE(begin=begin, end=end)\n",
    "cas.add(custom)\n",
    "\n",
    "token = 'advice'\n",
    "begin = cas.sofa_string.find(token)\n",
    "end = begin + len(token)\n",
    "custom = CORR(begin=begin, end=end)\n",
    "cas.add(custom)\n",
    "\n",
    "spacy_span_vis = SpacySpanVisualiser(cas, [])\n",
    "\n",
    "spacy_span_vis.set_selected_annotations_to_types({\n",
    "    'RWSE': RWSE,\n",
    "    'CORR': CORR,\n",
    "})\n",
    "\n",
    "spacy_span_vis.set_annotations_to_colors({\n",
    "    'RWSE': 'palegreen',#'#0DF5B3',\n",
    "    'CORR': 'limegreen',#'#078A65',\n",
    "})\n",
    "spacy_span_vis.set_span_type(SpacySpanVisualiser.SPAN_STYLE_HIGHLIGHTING)\n",
    "spacy_span_vis.set_allow_highlighting_overlap(True)\n",
    "html = spacy_span_vis.visualise()\n",
    "display(HTML(html))"
   ],
   "id": "14ba054c5e4d55"
  },
  {
   "metadata": {},
   "cell_type": "code",
   "outputs": [],
   "source": "",
   "id": "4460f2a7825ae4b0",
   "execution_count": null
  }
 ],
 "metadata": {
  "kernelspec": {
   "display_name": "Python 3",
   "language": "python",
   "name": "python3"
  },
  "language_info": {
   "codemirror_mode": {
    "name": "ipython",
    "version": 2
   },
   "file_extension": ".py",
   "mimetype": "text/x-python",
   "name": "python",
   "nbconvert_exporter": "python",
   "pygments_lexer": "ipython2",
   "version": "2.7.6"
  }
 },
 "nbformat": 4,
 "nbformat_minor": 5
}
