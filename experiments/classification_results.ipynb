{
 "cells": [
  {
   "cell_type": "code",
   "id": "initial_id",
   "metadata": {
    "collapsed": true,
    "ExecuteTime": {
     "end_time": "2025-03-20T08:48:04.369070Z",
     "start_time": "2025-03-20T08:48:01.039769Z"
    }
   },
   "source": [
    "from sklearn.metrics import ConfusionMatrixDisplay\n",
    "from util.helper import calculate_metrics\n",
    "\n",
    "import pandas as pd"
   ],
   "outputs": [
    {
     "name": "stderr",
     "output_type": "stream",
     "text": [
      "/Users/dgardner/GitHub/catalpa-cl/rwse-experiments/.venv/lib/python3.11/site-packages/tqdm/auto.py:21: TqdmWarning: IProgress not found. Please update jupyter and ipywidgets. See https://ipywidgets.readthedocs.io/en/stable/user_install.html\n",
      "  from .autonotebook import tqdm as notebook_tqdm\n"
     ]
    }
   ],
   "execution_count": 2
  },
  {
   "metadata": {},
   "cell_type": "markdown",
   "source": "# 10k data set",
   "id": "93def51502f0607e"
  },
  {
   "metadata": {
    "ExecuteTime": {
     "end_time": "2025-03-05T13:27:41.591306Z",
     "start_time": "2025-03-05T13:27:41.279243Z"
    }
   },
   "cell_type": "code",
   "source": [
    "file_false_positives = 'output/report_false_positives.csv'\n",
    "file_true_positives = 'output/report_true_positives.csv'\n",
    "\n",
    "report_10k, confusion_matrix = calculate_metrics(file_false_positives, file_true_positives)\n",
    "\n",
    "disp = ConfusionMatrixDisplay(confusion_matrix=confusion_matrix, display_labels=['RWSE', 'no RWSE'])\n",
    "disp.plot()\n",
    "# [confusion_matrix_dict['TP'], confusion_matrix_dict['FN']],\n",
    "# [confusion_matrix_dict['FP'], confusion_matrix_dict['TN']]\n"
   ],
   "id": "d27d1ebc22f1887b",
   "outputs": [
    {
     "data": {
      "text/plain": [
       "<sklearn.metrics._plot.confusion_matrix.ConfusionMatrixDisplay at 0x1099efcd0>"
      ]
     },
     "execution_count": 2,
     "metadata": {},
     "output_type": "execute_result"
    },
    {
     "data": {
      "text/plain": [
       "<Figure size 640x480 with 2 Axes>"
      ],
      "image/png": "[encoded data removed]"
     },
     "metadata": {},
     "output_type": "display_data"
    }
   ],
   "execution_count": 2
  },
  {
   "metadata": {
    "ExecuteTime": {
     "end_time": "2025-03-05T13:27:41.686572Z",
     "start_time": "2025-03-05T13:27:41.680500Z"
    }
   },
   "cell_type": "code",
   "source": [
    "df_10k = pd.DataFrame.from_dict(report_10k, orient='index', columns=['value'])\n",
    "df_10k.to_csv('output/metrics_10k.csv', header=None)\n",
    "df_10k"
   ],
   "id": "570a145e115a4e21",
   "outputs": [
    {
     "data": {
      "text/plain": [
       "                                   value\n",
       "precision                       0.999785\n",
       "mean false-positive rate        0.001297\n",
       "mean sensitivity (mean recall)  0.973319\n",
       "sensitivity (recall)            0.994854\n",
       "specificity                     0.999185\n",
       "f1                              0.997313"
      ],
      "text/html": [
       "<div>\n",
       "<style scoped>\n",
       "    .dataframe tbody tr th:only-of-type {\n",
       "        vertical-align: middle;\n",
       "    }\n",
       "\n",
       "    .dataframe tbody tr th {\n",
       "        vertical-align: top;\n",
       "    }\n",
       "\n",
       "    .dataframe thead th {\n",
       "        text-align: right;\n",
       "    }\n",
       "</style>\n",
       "<table border=\"1\" class=\"dataframe\">\n",
       "  <thead>\n",
       "    <tr style=\"text-align: right;\">\n",
       "      <th></th>\n",
       "      <th>value</th>\n",
       "    </tr>\n",
       "  </thead>\n",
       "  <tbody>\n",
       "    <tr>\n",
       "      <th>precision</th>\n",
       "      <td>0.999785</td>\n",
       "    </tr>\n",
       "    <tr>\n",
       "      <th>mean false-positive rate</th>\n",
       "      <td>0.001297</td>\n",
       "    </tr>\n",
       "    <tr>\n",
       "      <th>mean sensitivity (mean recall)</th>\n",
       "      <td>0.973319</td>\n",
       "    </tr>\n",
       "    <tr>\n",
       "      <th>sensitivity (recall)</th>\n",
       "      <td>0.994854</td>\n",
       "    </tr>\n",
       "    <tr>\n",
       "      <th>specificity</th>\n",
       "      <td>0.999185</td>\n",
       "    </tr>\n",
       "    <tr>\n",
       "      <th>f1</th>\n",
       "      <td>0.997313</td>\n",
       "    </tr>\n",
       "  </tbody>\n",
       "</table>\n",
       "</div>"
      ]
     },
     "execution_count": 3,
     "metadata": {},
     "output_type": "execute_result"
    }
   ],
   "execution_count": 3
  },
  {
   "metadata": {},
   "cell_type": "markdown",
   "source": "# Balanced data set",
   "id": "f330beae2d1fb199"
  },
  {
   "metadata": {
    "ExecuteTime": {
     "end_time": "2025-03-05T13:27:41.763535Z",
     "start_time": "2025-03-05T13:27:41.707834Z"
    }
   },
   "cell_type": "code",
   "source": [
    "file_false_positives = 'output/report_false_positives_balanced.csv'\n",
    "file_true_positives = 'output/report_true_positives_balanced.csv'\n",
    "\n",
    "report_balanced, confusion_matrix = calculate_metrics(file_false_positives, file_true_positives)\n",
    "\n",
    "disp = ConfusionMatrixDisplay(confusion_matrix=confusion_matrix, display_labels=['RWSE', 'no RWSE'])\n",
    "disp.plot()\n",
    "# [confusion_matrix_dict['TP'], confusion_matrix_dict['FN']],\n",
    "# [confusion_matrix_dict['FP'], confusion_matrix_dict['TN']]"
   ],
   "id": "202361403e165bd",
   "outputs": [
    {
     "data": {
      "text/plain": [
       "<sklearn.metrics._plot.confusion_matrix.ConfusionMatrixDisplay at 0x14c969d10>"
      ]
     },
     "execution_count": 4,
     "metadata": {},
     "output_type": "execute_result"
    },
    {
     "data": {
      "text/plain": [
       "<Figure size 640x480 with 2 Axes>"
      ],
      "image/png": "[encoded data removed]"
     },
     "metadata": {},
     "output_type": "display_data"
    }
   ],
   "execution_count": 4
  },
  {
   "metadata": {
    "ExecuteTime": {
     "end_time": "2025-03-05T13:27:41.787376Z",
     "start_time": "2025-03-05T13:27:41.782860Z"
    }
   },
   "cell_type": "code",
   "source": [
    "df_balanced = pd.DataFrame.from_dict(report_balanced, orient='index', columns=['value'])\n",
    "df_balanced.to_csv('output/metrics_balanced.csv', header=None)\n",
    "df_balanced"
   ],
   "id": "8aabd8ddd74e1cd2",
   "outputs": [
    {
     "data": {
      "text/plain": [
       "                                   value\n",
       "precision                       0.995668\n",
       "mean false-positive rate        0.010578\n",
       "mean sensitivity (mean recall)  0.951251\n",
       "sensitivity (recall)            0.955842\n",
       "specificity                     0.989129\n",
       "f1                              0.975349"
      ],
      "text/html": [
       "<div>\n",
       "<style scoped>\n",
       "    .dataframe tbody tr th:only-of-type {\n",
       "        vertical-align: middle;\n",
       "    }\n",
       "\n",
       "    .dataframe tbody tr th {\n",
       "        vertical-align: top;\n",
       "    }\n",
       "\n",
       "    .dataframe thead th {\n",
       "        text-align: right;\n",
       "    }\n",
       "</style>\n",
       "<table border=\"1\" class=\"dataframe\">\n",
       "  <thead>\n",
       "    <tr style=\"text-align: right;\">\n",
       "      <th></th>\n",
       "      <th>value</th>\n",
       "    </tr>\n",
       "  </thead>\n",
       "  <tbody>\n",
       "    <tr>\n",
       "      <th>precision</th>\n",
       "      <td>0.995668</td>\n",
       "    </tr>\n",
       "    <tr>\n",
       "      <th>mean false-positive rate</th>\n",
       "      <td>0.010578</td>\n",
       "    </tr>\n",
       "    <tr>\n",
       "      <th>mean sensitivity (mean recall)</th>\n",
       "      <td>0.951251</td>\n",
       "    </tr>\n",
       "    <tr>\n",
       "      <th>sensitivity (recall)</th>\n",
       "      <td>0.955842</td>\n",
       "    </tr>\n",
       "    <tr>\n",
       "      <th>specificity</th>\n",
       "      <td>0.989129</td>\n",
       "    </tr>\n",
       "    <tr>\n",
       "      <th>f1</th>\n",
       "      <td>0.975349</td>\n",
       "    </tr>\n",
       "  </tbody>\n",
       "</table>\n",
       "</div>"
      ]
     },
     "execution_count": 5,
     "metadata": {},
     "output_type": "execute_result"
    }
   ],
   "execution_count": 5
  },
  {
   "metadata": {},
   "cell_type": "markdown",
   "source": "# Comparision",
   "id": "3c6708f17165a4bb"
  },
  {
   "metadata": {
    "ExecuteTime": {
     "end_time": "2025-03-05T13:27:41.814918Z",
     "start_time": "2025-03-05T13:27:41.811083Z"
    }
   },
   "cell_type": "code",
   "source": "df_10k - df_balanced",
   "id": "894ed42b4b8e2454",
   "outputs": [
    {
     "data": {
      "text/plain": [
       "                                   value\n",
       "precision                       0.004116\n",
       "mean false-positive rate       -0.009281\n",
       "mean sensitivity (mean recall)  0.022068\n",
       "sensitivity (recall)            0.039013\n",
       "specificity                     0.010056\n",
       "f1                              0.021965"
      ],
      "text/html": [
       "<div>\n",
       "<style scoped>\n",
       "    .dataframe tbody tr th:only-of-type {\n",
       "        vertical-align: middle;\n",
       "    }\n",
       "\n",
       "    .dataframe tbody tr th {\n",
       "        vertical-align: top;\n",
       "    }\n",
       "\n",
       "    .dataframe thead th {\n",
       "        text-align: right;\n",
       "    }\n",
       "</style>\n",
       "<table border=\"1\" class=\"dataframe\">\n",
       "  <thead>\n",
       "    <tr style=\"text-align: right;\">\n",
       "      <th></th>\n",
       "      <th>value</th>\n",
       "    </tr>\n",
       "  </thead>\n",
       "  <tbody>\n",
       "    <tr>\n",
       "      <th>precision</th>\n",
       "      <td>0.004116</td>\n",
       "    </tr>\n",
       "    <tr>\n",
       "      <th>mean false-positive rate</th>\n",
       "      <td>-0.009281</td>\n",
       "    </tr>\n",
       "    <tr>\n",
       "      <th>mean sensitivity (mean recall)</th>\n",
       "      <td>0.022068</td>\n",
       "    </tr>\n",
       "    <tr>\n",
       "      <th>sensitivity (recall)</th>\n",
       "      <td>0.039013</td>\n",
       "    </tr>\n",
       "    <tr>\n",
       "      <th>specificity</th>\n",
       "      <td>0.010056</td>\n",
       "    </tr>\n",
       "    <tr>\n",
       "      <th>f1</th>\n",
       "      <td>0.021965</td>\n",
       "    </tr>\n",
       "  </tbody>\n",
       "</table>\n",
       "</div>"
      ]
     },
     "execution_count": 6,
     "metadata": {},
     "output_type": "execute_result"
    }
   ],
   "execution_count": 6
  },
  {
   "metadata": {},
   "cell_type": "markdown",
   "source": "# Magnitude Search (Balanced)",
   "id": "5ea37de1ac155be0"
  },
  {
   "metadata": {
    "ExecuteTime": {
     "end_time": "2025-03-23T20:04:01.323176Z",
     "start_time": "2025-03-23T20:04:01.290314Z"
    }
   },
   "cell_type": "code",
   "source": [
    "report_data = pd.read_csv('output/report_magnitude_search_balanced.csv', sep=';')\n",
    "report_data.set_index('magnitude', inplace=True)\n",
    "report_data['precision'] = report_data['TP'] / (report_data['TP'] + report_data['FP'])\n",
    "report_data['fallout'] = report_data['FP'] / (report_data['FP'] + report_data['TN']) #false-positive-rate\n",
    "report_data['sensitivity'] = report_data['TP'] / (report_data['FN'] + report_data['TP']) #true-positive-rate\n",
    "report_data['specificity'] = report_data['TN'] / (report_data['FP'] + report_data['TN'])\n",
    "report_data['f1'] = 2 * report_data['precision'] * report_data['sensitivity'] / (report_data['precision'] + report_data['sensitivity'])\n",
    "report_data['miss rate'] = report_data['FN'] / (report_data['FN'] + report_data['TP']) #true-positive-rate\n",
    "report_data"
   ],
   "id": "dd91ec246a3d4354",
   "outputs": [
    {
     "data": {
      "text/plain": [
       "              TP     TN   FP    FN  total  precision   fallout  sensitivity  \\\n",
       "magnitude                                                                     \n",
       "1          39242  15024  430  1158  55854   0.989161  0.027825     0.971337   \n",
       "2          39124  15139  315  1276  55854   0.992013  0.020383     0.968416   \n",
       "3          39036  15191  263  1364  55854   0.993308  0.017018     0.966238   \n",
       "4          38954  15221  233  1446  55854   0.994054  0.015077     0.964208   \n",
       "5          38887  15240  214  1513  55854   0.994527  0.013848     0.962550   \n",
       "6          38823  15252  202  1577  55854   0.994824  0.013071     0.960965   \n",
       "7          38761  15264  190  1639  55854   0.995122  0.012295     0.959431   \n",
       "8          38708  15275  179  1692  55854   0.995397  0.011583     0.958119   \n",
       "9          38668  15283  171  1732  55854   0.995597  0.011065     0.957129   \n",
       "10         38616  15286  168  1784  55854   0.995668  0.010871     0.955842   \n",
       "20         38261  15334  120  2139  55854   0.996873  0.007765     0.947054   \n",
       "30         38026  15346  108  2374  55854   0.997168  0.006988     0.941238   \n",
       "40         37823  15358   96  2577  55854   0.997468  0.006212     0.936213   \n",
       "50         37674  15365   89  2726  55854   0.997643  0.005759     0.932525   \n",
       "60         37546  15374   80  2854  55854   0.997874  0.005177     0.929356   \n",
       "70         37428  15380   74  2972  55854   0.998027  0.004788     0.926436   \n",
       "80         37306  15385   69  3094  55854   0.998154  0.004465     0.923416   \n",
       "90         37203  15386   68  3197  55854   0.998176  0.004400     0.920866   \n",
       "100        37102  15388   66  3298  55854   0.998224  0.004271     0.918366   \n",
       "\n",
       "           specificity        f1  miss rate  \n",
       "magnitude                                    \n",
       "1             0.972175  0.980168   0.028663  \n",
       "2             0.979617  0.980072   0.031584  \n",
       "3             0.982982  0.979586   0.033762  \n",
       "4             0.984923  0.978904   0.035792  \n",
       "5             0.986152  0.978277   0.037450  \n",
       "6             0.986929  0.977602   0.039035  \n",
       "7             0.987705  0.976951   0.040569  \n",
       "8             0.988417  0.976402   0.041881  \n",
       "9             0.988935  0.975984   0.042871  \n",
       "10            0.989129  0.975349   0.044158  \n",
       "20            0.992235  0.971326   0.052946  \n",
       "30            0.993012  0.968396   0.058762  \n",
       "40            0.993788  0.965870   0.063787  \n",
       "50            0.994241  0.963986   0.067475  \n",
       "60            0.994823  0.962397   0.070644  \n",
       "70            0.995212  0.960900   0.073564  \n",
       "80            0.995535  0.959331   0.076584  \n",
       "90            0.995600  0.957964   0.079134  \n",
       "100           0.995729  0.956632   0.081634  "
      ],
      "text/html": [
       "<div>\n",
       "<style scoped>\n",
       "    .dataframe tbody tr th:only-of-type {\n",
       "        vertical-align: middle;\n",
       "    }\n",
       "\n",
       "    .dataframe tbody tr th {\n",
       "        vertical-align: top;\n",
       "    }\n",
       "\n",
       "    .dataframe thead th {\n",
       "        text-align: right;\n",
       "    }\n",
       "</style>\n",
       "<table border=\"1\" class=\"dataframe\">\n",
       "  <thead>\n",
       "    <tr style=\"text-align: right;\">\n",
       "      <th></th>\n",
       "      <th>TP</th>\n",
       "      <th>TN</th>\n",
       "      <th>FP</th>\n",
       "      <th>FN</th>\n",
       "      <th>total</th>\n",
       "      <th>precision</th>\n",
       "      <th>fallout</th>\n",
       "      <th>sensitivity</th>\n",
       "      <th>specificity</th>\n",
       "      <th>f1</th>\n",
       "      <th>miss rate</th>\n",
       "    </tr>\n",
       "    <tr>\n",
       "      <th>magnitude</th>\n",
       "      <th></th>\n",
       "      <th></th>\n",
       "      <th></th>\n",
       "      <th></th>\n",
       "      <th></th>\n",
       "      <th></th>\n",
       "      <th></th>\n",
       "      <th></th>\n",
       "      <th></th>\n",
       "      <th></th>\n",
       "      <th></th>\n",
       "    </tr>\n",
       "  </thead>\n",
       "  <tbody>\n",
       "    <tr>\n",
       "      <th>1</th>\n",
       "      <td>39242</td>\n",
       "      <td>15024</td>\n",
       "      <td>430</td>\n",
       "      <td>1158</td>\n",
       "      <td>55854</td>\n",
       "      <td>0.989161</td>\n",
       "      <td>0.027825</td>\n",
       "      <td>0.971337</td>\n",
       "      <td>0.972175</td>\n",
       "      <td>0.980168</td>\n",
       "      <td>0.028663</td>\n",
       "    </tr>\n",
       "    <tr>\n",
       "      <th>2</th>\n",
       "      <td>39124</td>\n",
       "      <td>15139</td>\n",
       "      <td>315</td>\n",
       "      <td>1276</td>\n",
       "      <td>55854</td>\n",
       "      <td>0.992013</td>\n",
       "      <td>0.020383</td>\n",
       "      <td>0.968416</td>\n",
       "      <td>0.979617</td>\n",
       "      <td>0.980072</td>\n",
       "      <td>0.031584</td>\n",
       "    </tr>\n",
       "    <tr>\n",
       "      <th>3</th>\n",
       "      <td>39036</td>\n",
       "      <td>15191</td>\n",
       "      <td>263</td>\n",
       "      <td>1364</td>\n",
       "      <td>55854</td>\n",
       "      <td>0.993308</td>\n",
       "      <td>0.017018</td>\n",
       "      <td>0.966238</td>\n",
       "      <td>0.982982</td>\n",
       "      <td>0.979586</td>\n",
       "      <td>0.033762</td>\n",
       "    </tr>\n",
       "    <tr>\n",
       "      <th>4</th>\n",
       "      <td>38954</td>\n",
       "      <td>15221</td>\n",
       "      <td>233</td>\n",
       "      <td>1446</td>\n",
       "      <td>55854</td>\n",
       "      <td>0.994054</td>\n",
       "      <td>0.015077</td>\n",
       "      <td>0.964208</td>\n",
       "      <td>0.984923</td>\n",
       "      <td>0.978904</td>\n",
       "      <td>0.035792</td>\n",
       "    </tr>\n",
       "    <tr>\n",
       "      <th>5</th>\n",
       "      <td>38887</td>\n",
       "      <td>15240</td>\n",
       "      <td>214</td>\n",
       "      <td>1513</td>\n",
       "      <td>55854</td>\n",
       "      <td>0.994527</td>\n",
       "      <td>0.013848</td>\n",
       "      <td>0.962550</td>\n",
       "      <td>0.986152</td>\n",
       "      <td>0.978277</td>\n",
       "      <td>0.037450</td>\n",
       "    </tr>\n",
       "    <tr>\n",
       "      <th>6</th>\n",
       "      <td>38823</td>\n",
       "      <td>15252</td>\n",
       "      <td>202</td>\n",
       "      <td>1577</td>\n",
       "      <td>55854</td>\n",
       "      <td>0.994824</td>\n",
       "      <td>0.013071</td>\n",
       "      <td>0.960965</td>\n",
       "      <td>0.986929</td>\n",
       "      <td>0.977602</td>\n",
       "      <td>0.039035</td>\n",
       "    </tr>\n",
       "    <tr>\n",
       "      <th>7</th>\n",
       "      <td>38761</td>\n",
       "      <td>15264</td>\n",
       "      <td>190</td>\n",
       "      <td>1639</td>\n",
       "      <td>55854</td>\n",
       "      <td>0.995122</td>\n",
       "      <td>0.012295</td>\n",
       "      <td>0.959431</td>\n",
       "      <td>0.987705</td>\n",
       "      <td>0.976951</td>\n",
       "      <td>0.040569</td>\n",
       "    </tr>\n",
       "    <tr>\n",
       "      <th>8</th>\n",
       "      <td>38708</td>\n",
       "      <td>15275</td>\n",
       "      <td>179</td>\n",
       "      <td>1692</td>\n",
       "      <td>55854</td>\n",
       "      <td>0.995397</td>\n",
       "      <td>0.011583</td>\n",
       "      <td>0.958119</td>\n",
       "      <td>0.988417</td>\n",
       "      <td>0.976402</td>\n",
       "      <td>0.041881</td>\n",
       "    </tr>\n",
       "    <tr>\n",
       "      <th>9</th>\n",
       "      <td>38668</td>\n",
       "      <td>15283</td>\n",
       "      <td>171</td>\n",
       "      <td>1732</td>\n",
       "      <td>55854</td>\n",
       "      <td>0.995597</td>\n",
       "      <td>0.011065</td>\n",
       "      <td>0.957129</td>\n",
       "      <td>0.988935</td>\n",
       "      <td>0.975984</td>\n",
       "      <td>0.042871</td>\n",
       "    </tr>\n",
       "    <tr>\n",
       "      <th>10</th>\n",
       "      <td>38616</td>\n",
       "      <td>15286</td>\n",
       "      <td>168</td>\n",
       "      <td>1784</td>\n",
       "      <td>55854</td>\n",
       "      <td>0.995668</td>\n",
       "      <td>0.010871</td>\n",
       "      <td>0.955842</td>\n",
       "      <td>0.989129</td>\n",
       "      <td>0.975349</td>\n",
       "      <td>0.044158</td>\n",
       "    </tr>\n",
       "    <tr>\n",
       "      <th>20</th>\n",
       "      <td>38261</td>\n",
       "      <td>15334</td>\n",
       "      <td>120</td>\n",
       "      <td>2139</td>\n",
       "      <td>55854</td>\n",
       "      <td>0.996873</td>\n",
       "      <td>0.007765</td>\n",
       "      <td>0.947054</td>\n",
       "      <td>0.992235</td>\n",
       "      <td>0.971326</td>\n",
       "      <td>0.052946</td>\n",
       "    </tr>\n",
       "    <tr>\n",
       "      <th>30</th>\n",
       "      <td>38026</td>\n",
       "      <td>15346</td>\n",
       "      <td>108</td>\n",
       "      <td>2374</td>\n",
       "      <td>55854</td>\n",
       "      <td>0.997168</td>\n",
       "      <td>0.006988</td>\n",
       "      <td>0.941238</td>\n",
       "      <td>0.993012</td>\n",
       "      <td>0.968396</td>\n",
       "      <td>0.058762</td>\n",
       "    </tr>\n",
       "    <tr>\n",
       "      <th>40</th>\n",
       "      <td>37823</td>\n",
       "      <td>15358</td>\n",
       "      <td>96</td>\n",
       "      <td>2577</td>\n",
       "      <td>55854</td>\n",
       "      <td>0.997468</td>\n",
       "      <td>0.006212</td>\n",
       "      <td>0.936213</td>\n",
       "      <td>0.993788</td>\n",
       "      <td>0.965870</td>\n",
       "      <td>0.063787</td>\n",
       "    </tr>\n",
       "    <tr>\n",
       "      <th>50</th>\n",
       "      <td>37674</td>\n",
       "      <td>15365</td>\n",
       "      <td>89</td>\n",
       "      <td>2726</td>\n",
       "      <td>55854</td>\n",
       "      <td>0.997643</td>\n",
       "      <td>0.005759</td>\n",
       "      <td>0.932525</td>\n",
       "      <td>0.994241</td>\n",
       "      <td>0.963986</td>\n",
       "      <td>0.067475</td>\n",
       "    </tr>\n",
       "    <tr>\n",
       "      <th>60</th>\n",
       "      <td>37546</td>\n",
       "      <td>15374</td>\n",
       "      <td>80</td>\n",
       "      <td>2854</td>\n",
       "      <td>55854</td>\n",
       "      <td>0.997874</td>\n",
       "      <td>0.005177</td>\n",
       "      <td>0.929356</td>\n",
       "      <td>0.994823</td>\n",
       "      <td>0.962397</td>\n",
       "      <td>0.070644</td>\n",
       "    </tr>\n",
       "    <tr>\n",
       "      <th>70</th>\n",
       "      <td>37428</td>\n",
       "      <td>15380</td>\n",
       "      <td>74</td>\n",
       "      <td>2972</td>\n",
       "      <td>55854</td>\n",
       "      <td>0.998027</td>\n",
       "      <td>0.004788</td>\n",
       "      <td>0.926436</td>\n",
       "      <td>0.995212</td>\n",
       "      <td>0.960900</td>\n",
       "      <td>0.073564</td>\n",
       "    </tr>\n",
       "    <tr>\n",
       "      <th>80</th>\n",
       "      <td>37306</td>\n",
       "      <td>15385</td>\n",
       "      <td>69</td>\n",
       "      <td>3094</td>\n",
       "      <td>55854</td>\n",
       "      <td>0.998154</td>\n",
       "      <td>0.004465</td>\n",
       "      <td>0.923416</td>\n",
       "      <td>0.995535</td>\n",
       "      <td>0.959331</td>\n",
       "      <td>0.076584</td>\n",
       "    </tr>\n",
       "    <tr>\n",
       "      <th>90</th>\n",
       "      <td>37203</td>\n",
       "      <td>15386</td>\n",
       "      <td>68</td>\n",
       "      <td>3197</td>\n",
       "      <td>55854</td>\n",
       "      <td>0.998176</td>\n",
       "      <td>0.004400</td>\n",
       "      <td>0.920866</td>\n",
       "      <td>0.995600</td>\n",
       "      <td>0.957964</td>\n",
       "      <td>0.079134</td>\n",
       "    </tr>\n",
       "    <tr>\n",
       "      <th>100</th>\n",
       "      <td>37102</td>\n",
       "      <td>15388</td>\n",
       "      <td>66</td>\n",
       "      <td>3298</td>\n",
       "      <td>55854</td>\n",
       "      <td>0.998224</td>\n",
       "      <td>0.004271</td>\n",
       "      <td>0.918366</td>\n",
       "      <td>0.995729</td>\n",
       "      <td>0.956632</td>\n",
       "      <td>0.081634</td>\n",
       "    </tr>\n",
       "  </tbody>\n",
       "</table>\n",
       "</div>"
      ]
     },
     "execution_count": 45,
     "metadata": {},
     "output_type": "execute_result"
    }
   ],
   "execution_count": 45
  },
  {
   "metadata": {
    "ExecuteTime": {
     "end_time": "2025-03-23T20:04:49.402098Z",
     "start_time": "2025-03-23T20:04:49.319345Z"
    }
   },
   "cell_type": "code",
   "source": "report_data[['sensitivity', 'fallout']].plot(subplots=True)",
   "id": "765a126d757aa8e",
   "outputs": [
    {
     "data": {
      "text/plain": [
       "array([<Axes: xlabel='magnitude'>, <Axes: xlabel='magnitude'>],\n",
       "      dtype=object)"
      ]
     },
     "execution_count": 48,
     "metadata": {},
     "output_type": "execute_result"
    },
    {
     "data": {
      "text/plain": [
       "<Figure size 640x480 with 2 Axes>"
      ],
      "image/png": "[encoded data removed]"
     },
     "metadata": {},
     "output_type": "display_data"
    }
   ],
   "execution_count": 48
  },
  {
   "metadata": {
    "ExecuteTime": {
     "end_time": "2025-03-20T09:45:51.976023Z",
     "start_time": "2025-03-20T09:45:51.824941Z"
    }
   },
   "cell_type": "code",
   "source": [
    "filtered_report_data = report_data[report_data.index < 11]\n",
    "filtered_report_data[['sensitivity', 'precision', 'specificity', 'fallout', 'f1']].plot(subplots=True)"
   ],
   "id": "3b80b628043b91fc",
   "outputs": [
    {
     "data": {
      "text/plain": [
       "array([<Axes: xlabel='magnitude'>, <Axes: xlabel='magnitude'>,\n",
       "       <Axes: xlabel='magnitude'>, <Axes: xlabel='magnitude'>,\n",
       "       <Axes: xlabel='magnitude'>], dtype=object)"
      ]
     },
     "execution_count": 42,
     "metadata": {},
     "output_type": "execute_result"
    },
    {
     "data": {
      "text/plain": [
       "<Figure size 640x480 with 5 Axes>"
      ],
      "image/png": "[encoded data removed]"
     },
     "metadata": {},
     "output_type": "display_data"
    }
   ],
   "execution_count": 42
  },
  {
   "metadata": {},
   "cell_type": "markdown",
   "source": "#### Paper: Threshold Search",
   "id": "1023907518e80133"
  },
  {
   "metadata": {
    "ExecuteTime": {
     "end_time": "2025-03-23T20:43:16.953952Z",
     "start_time": "2025-03-23T20:43:16.890807Z"
    }
   },
   "cell_type": "code",
   "source": [
    "report_data['false-alarm rate'] = report_data['fallout']\n",
    "report_data[['false-alarm rate','miss rate']].plot(xticks=list(range(0,101,10)), figsize=(4,2), xlabel='threshold factor', grid=True, color=['lightblue', 'lightcoral'], linewidth=3)"
   ],
   "id": "5f97ccb8889d1245",
   "outputs": [
    {
     "data": {
      "text/plain": [
       "<Axes: xlabel='threshold factor'>"
      ]
     },
     "execution_count": 69,
     "metadata": {},
     "output_type": "execute_result"
    },
    {
     "data": {
      "text/plain": [
       "<Figure size 400x200 with 1 Axes>"
      ],
      "image/png": "[encoded data removed]"
     },
     "metadata": {},
     "output_type": "display_data"
    }
   ],
   "execution_count": 69
  }
 ],
 "metadata": {
  "kernelspec": {
   "display_name": "Python 3",
   "language": "python",
   "name": "python3"
  },
  "language_info": {
   "codemirror_mode": {
    "name": "ipython",
    "version": 2
   },
   "file_extension": ".py",
   "mimetype": "text/x-python",
   "name": "python",
   "nbconvert_exporter": "python",
   "pygments_lexer": "ipython2",
   "version": "2.7.6"
  }
 },
 "nbformat": 4,
 "nbformat_minor": 5
}
