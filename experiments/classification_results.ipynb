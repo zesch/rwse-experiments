{
 "cells": [
  {
   "cell_type": "code",
   "id": "initial_id",
   "metadata": {
    "collapsed": true,
    "ExecuteTime": {
     "end_time": "2025-04-17T09:59:40.243081Z",
     "start_time": "2025-04-17T09:59:39.555705Z"
    }
   },
   "source": [
    "import pandas as pd\n",
    "import matplotlib.pyplot as plt\n"
   ],
   "outputs": [],
   "execution_count": 2
  },
  {
   "metadata": {
    "ExecuteTime": {
     "end_time": "2025-03-31T16:59:49.197893Z",
     "start_time": "2025-03-31T16:59:49.193559Z"
    }
   },
   "cell_type": "code",
   "source": [
    "def read_classification_report(file_name:str):\n",
    "    result = dict()\n",
    "    with open(file_name, 'r') as f:\n",
    "        lines = f.readlines()\n",
    "        for line in lines[1:]:\n",
    "            confusion_set, num_matches, num_sequences = line.strip().split(';')\n",
    "            result[confusion_set] = (int(num_matches), int(num_sequences))\n",
    "    return result\n",
    "\n",
    "def calculate_false_alarm_rate(file_name):\n",
    "    data = read_classification_report(file_name)\n",
    "    FP = sum(value[0] for value in data.values())\n",
    "    TN = sum(value[1] for value in data.values()) - FP\n",
    "    return FP/(TN+FP)\n",
    "\n",
    "def calculate_miss_rate(file_name):\n",
    "    data = read_classification_report(file_name)\n",
    "    TP = sum(value[0] for value in data.values())\n",
    "    FN = sum(value[1] for value in data.values()) - TP\n",
    "    return FN/(TP+FN)\n"
   ],
   "id": "a2cdc966b27e83da",
   "outputs": [],
   "execution_count": 21
  },
  {
   "metadata": {},
   "cell_type": "markdown",
   "source": "# 10k data set",
   "id": "93def51502f0607e"
  },
  {
   "metadata": {
    "ExecuteTime": {
     "end_time": "2025-03-31T17:01:25.879105Z",
     "start_time": "2025-03-31T17:01:25.876119Z"
    }
   },
   "cell_type": "code",
   "source": [
    "file_false_positives = 'output/report_false_positives.csv'\n",
    "file_true_positives = 'output/report_true_positives.csv'\n",
    "\n",
    "far = calculate_false_alarm_rate(file_false_positives)\n",
    "mr = calculate_miss_rate(file_true_positives)\n",
    "\n",
    "print(f\"false alarm rate: {far:.3f}\") #false alarm rate: 0.001\n",
    "print(f\"miss rate: {mr:.3f}\") #miss rate: 0.005"
   ],
   "id": "84466677e1d29367",
   "outputs": [
    {
     "name": "stdout",
     "output_type": "stream",
     "text": [
      "false alarm rate: 0.001\n",
      "miss rate: 0.005\n"
     ]
    }
   ],
   "execution_count": 23
  },
  {
   "metadata": {},
   "cell_type": "markdown",
   "source": "# Balanced data set",
   "id": "f330beae2d1fb199"
  },
  {
   "metadata": {
    "ExecuteTime": {
     "end_time": "2025-03-31T17:01:28.936512Z",
     "start_time": "2025-03-31T17:01:28.932199Z"
    }
   },
   "cell_type": "code",
   "source": [
    "file_false_positives = 'output/report_false_positives_balanced.csv'\n",
    "file_true_positives = 'output/report_true_positives_balanced.csv'\n",
    "\n",
    "far = calculate_false_alarm_rate(file_false_positives)\n",
    "mr = calculate_miss_rate(file_true_positives)\n",
    "\n",
    "print(f\"false alarm rate: {far:.3f}\") #false alarm rate: 0.001\n",
    "print(f\"miss rate: {mr:.3f}\")"
   ],
   "id": "202361403e165bd",
   "outputs": [
    {
     "name": "stdout",
     "output_type": "stream",
     "text": [
      "false alarm rate: 0.011\n",
      "miss rate: 0.044\n"
     ]
    }
   ],
   "execution_count": 24
  },
  {
   "metadata": {},
   "cell_type": "markdown",
   "source": "# Mu search (Balanced)",
   "id": "5ea37de1ac155be0"
  },
  {
   "metadata": {
    "ExecuteTime": {
     "end_time": "2025-04-17T09:59:51.034151Z",
     "start_time": "2025-04-17T09:59:51.022172Z"
    }
   },
   "cell_type": "code",
   "source": [
    "report_data = pd.read_csv('output/report_magnitude_search_balanced.csv', sep=';')\n",
    "report_data.set_index('magnitude', inplace=True)\n",
    "report_data['false-alarm rate'] = report_data['FP'] / (report_data['FP'] + report_data['TN']) #false-positive-rate\n",
    "report_data['miss rate'] = report_data['FN'] / (report_data['FN'] + report_data['TP']) #1 - true-positive-rate\n",
    "report_data"
   ],
   "id": "dd91ec246a3d4354",
   "outputs": [
    {
     "data": {
      "text/plain": [
       "              TP     TN   FP    FN  total  false-alarm rate  miss rate\n",
       "magnitude                                                             \n",
       "1          39242  15024  430  1158  55854          0.027825   0.028663\n",
       "2          39124  15139  315  1276  55854          0.020383   0.031584\n",
       "3          39036  15191  263  1364  55854          0.017018   0.033762\n",
       "4          38954  15221  233  1446  55854          0.015077   0.035792\n",
       "5          38887  15240  214  1513  55854          0.013848   0.037450\n",
       "6          38823  15252  202  1577  55854          0.013071   0.039035\n",
       "7          38761  15264  190  1639  55854          0.012295   0.040569\n",
       "8          38708  15275  179  1692  55854          0.011583   0.041881\n",
       "9          38668  15283  171  1732  55854          0.011065   0.042871\n",
       "10         38616  15286  168  1784  55854          0.010871   0.044158\n",
       "20         38261  15334  120  2139  55854          0.007765   0.052946\n",
       "30         38026  15346  108  2374  55854          0.006988   0.058762\n",
       "40         37823  15358   96  2577  55854          0.006212   0.063787\n",
       "50         37674  15365   89  2726  55854          0.005759   0.067475\n",
       "60         37546  15374   80  2854  55854          0.005177   0.070644\n",
       "70         37428  15380   74  2972  55854          0.004788   0.073564\n",
       "80         37306  15385   69  3094  55854          0.004465   0.076584\n",
       "90         37203  15386   68  3197  55854          0.004400   0.079134\n",
       "100        37102  15388   66  3298  55854          0.004271   0.081634"
      ],
      "text/html": [
       "<div>\n",
       "<style scoped>\n",
       "    .dataframe tbody tr th:only-of-type {\n",
       "        vertical-align: middle;\n",
       "    }\n",
       "\n",
       "    .dataframe tbody tr th {\n",
       "        vertical-align: top;\n",
       "    }\n",
       "\n",
       "    .dataframe thead th {\n",
       "        text-align: right;\n",
       "    }\n",
       "</style>\n",
       "<table border=\"1\" class=\"dataframe\">\n",
       "  <thead>\n",
       "    <tr style=\"text-align: right;\">\n",
       "      <th></th>\n",
       "      <th>TP</th>\n",
       "      <th>TN</th>\n",
       "      <th>FP</th>\n",
       "      <th>FN</th>\n",
       "      <th>total</th>\n",
       "      <th>false-alarm rate</th>\n",
       "      <th>miss rate</th>\n",
       "    </tr>\n",
       "    <tr>\n",
       "      <th>magnitude</th>\n",
       "      <th></th>\n",
       "      <th></th>\n",
       "      <th></th>\n",
       "      <th></th>\n",
       "      <th></th>\n",
       "      <th></th>\n",
       "      <th></th>\n",
       "    </tr>\n",
       "  </thead>\n",
       "  <tbody>\n",
       "    <tr>\n",
       "      <th>1</th>\n",
       "      <td>39242</td>\n",
       "      <td>15024</td>\n",
       "      <td>430</td>\n",
       "      <td>1158</td>\n",
       "      <td>55854</td>\n",
       "      <td>0.027825</td>\n",
       "      <td>0.028663</td>\n",
       "    </tr>\n",
       "    <tr>\n",
       "      <th>2</th>\n",
       "      <td>39124</td>\n",
       "      <td>15139</td>\n",
       "      <td>315</td>\n",
       "      <td>1276</td>\n",
       "      <td>55854</td>\n",
       "      <td>0.020383</td>\n",
       "      <td>0.031584</td>\n",
       "    </tr>\n",
       "    <tr>\n",
       "      <th>3</th>\n",
       "      <td>39036</td>\n",
       "      <td>15191</td>\n",
       "      <td>263</td>\n",
       "      <td>1364</td>\n",
       "      <td>55854</td>\n",
       "      <td>0.017018</td>\n",
       "      <td>0.033762</td>\n",
       "    </tr>\n",
       "    <tr>\n",
       "      <th>4</th>\n",
       "      <td>38954</td>\n",
       "      <td>15221</td>\n",
       "      <td>233</td>\n",
       "      <td>1446</td>\n",
       "      <td>55854</td>\n",
       "      <td>0.015077</td>\n",
       "      <td>0.035792</td>\n",
       "    </tr>\n",
       "    <tr>\n",
       "      <th>5</th>\n",
       "      <td>38887</td>\n",
       "      <td>15240</td>\n",
       "      <td>214</td>\n",
       "      <td>1513</td>\n",
       "      <td>55854</td>\n",
       "      <td>0.013848</td>\n",
       "      <td>0.037450</td>\n",
       "    </tr>\n",
       "    <tr>\n",
       "      <th>6</th>\n",
       "      <td>38823</td>\n",
       "      <td>15252</td>\n",
       "      <td>202</td>\n",
       "      <td>1577</td>\n",
       "      <td>55854</td>\n",
       "      <td>0.013071</td>\n",
       "      <td>0.039035</td>\n",
       "    </tr>\n",
       "    <tr>\n",
       "      <th>7</th>\n",
       "      <td>38761</td>\n",
       "      <td>15264</td>\n",
       "      <td>190</td>\n",
       "      <td>1639</td>\n",
       "      <td>55854</td>\n",
       "      <td>0.012295</td>\n",
       "      <td>0.040569</td>\n",
       "    </tr>\n",
       "    <tr>\n",
       "      <th>8</th>\n",
       "      <td>38708</td>\n",
       "      <td>15275</td>\n",
       "      <td>179</td>\n",
       "      <td>1692</td>\n",
       "      <td>55854</td>\n",
       "      <td>0.011583</td>\n",
       "      <td>0.041881</td>\n",
       "    </tr>\n",
       "    <tr>\n",
       "      <th>9</th>\n",
       "      <td>38668</td>\n",
       "      <td>15283</td>\n",
       "      <td>171</td>\n",
       "      <td>1732</td>\n",
       "      <td>55854</td>\n",
       "      <td>0.011065</td>\n",
       "      <td>0.042871</td>\n",
       "    </tr>\n",
       "    <tr>\n",
       "      <th>10</th>\n",
       "      <td>38616</td>\n",
       "      <td>15286</td>\n",
       "      <td>168</td>\n",
       "      <td>1784</td>\n",
       "      <td>55854</td>\n",
       "      <td>0.010871</td>\n",
       "      <td>0.044158</td>\n",
       "    </tr>\n",
       "    <tr>\n",
       "      <th>20</th>\n",
       "      <td>38261</td>\n",
       "      <td>15334</td>\n",
       "      <td>120</td>\n",
       "      <td>2139</td>\n",
       "      <td>55854</td>\n",
       "      <td>0.007765</td>\n",
       "      <td>0.052946</td>\n",
       "    </tr>\n",
       "    <tr>\n",
       "      <th>30</th>\n",
       "      <td>38026</td>\n",
       "      <td>15346</td>\n",
       "      <td>108</td>\n",
       "      <td>2374</td>\n",
       "      <td>55854</td>\n",
       "      <td>0.006988</td>\n",
       "      <td>0.058762</td>\n",
       "    </tr>\n",
       "    <tr>\n",
       "      <th>40</th>\n",
       "      <td>37823</td>\n",
       "      <td>15358</td>\n",
       "      <td>96</td>\n",
       "      <td>2577</td>\n",
       "      <td>55854</td>\n",
       "      <td>0.006212</td>\n",
       "      <td>0.063787</td>\n",
       "    </tr>\n",
       "    <tr>\n",
       "      <th>50</th>\n",
       "      <td>37674</td>\n",
       "      <td>15365</td>\n",
       "      <td>89</td>\n",
       "      <td>2726</td>\n",
       "      <td>55854</td>\n",
       "      <td>0.005759</td>\n",
       "      <td>0.067475</td>\n",
       "    </tr>\n",
       "    <tr>\n",
       "      <th>60</th>\n",
       "      <td>37546</td>\n",
       "      <td>15374</td>\n",
       "      <td>80</td>\n",
       "      <td>2854</td>\n",
       "      <td>55854</td>\n",
       "      <td>0.005177</td>\n",
       "      <td>0.070644</td>\n",
       "    </tr>\n",
       "    <tr>\n",
       "      <th>70</th>\n",
       "      <td>37428</td>\n",
       "      <td>15380</td>\n",
       "      <td>74</td>\n",
       "      <td>2972</td>\n",
       "      <td>55854</td>\n",
       "      <td>0.004788</td>\n",
       "      <td>0.073564</td>\n",
       "    </tr>\n",
       "    <tr>\n",
       "      <th>80</th>\n",
       "      <td>37306</td>\n",
       "      <td>15385</td>\n",
       "      <td>69</td>\n",
       "      <td>3094</td>\n",
       "      <td>55854</td>\n",
       "      <td>0.004465</td>\n",
       "      <td>0.076584</td>\n",
       "    </tr>\n",
       "    <tr>\n",
       "      <th>90</th>\n",
       "      <td>37203</td>\n",
       "      <td>15386</td>\n",
       "      <td>68</td>\n",
       "      <td>3197</td>\n",
       "      <td>55854</td>\n",
       "      <td>0.004400</td>\n",
       "      <td>0.079134</td>\n",
       "    </tr>\n",
       "    <tr>\n",
       "      <th>100</th>\n",
       "      <td>37102</td>\n",
       "      <td>15388</td>\n",
       "      <td>66</td>\n",
       "      <td>3298</td>\n",
       "      <td>55854</td>\n",
       "      <td>0.004271</td>\n",
       "      <td>0.081634</td>\n",
       "    </tr>\n",
       "  </tbody>\n",
       "</table>\n",
       "</div>"
      ]
     },
     "execution_count": 3,
     "metadata": {},
     "output_type": "execute_result"
    }
   ],
   "execution_count": 3
  },
  {
   "metadata": {
    "ExecuteTime": {
     "end_time": "2025-04-17T10:01:01.874464Z",
     "start_time": "2025-04-17T10:01:01.812255Z"
    }
   },
   "cell_type": "code",
   "source": [
    "#report_data[['false-alarm rate','miss rate']].plot(xticks=list(range(0,101,10)), figsize=(4,2), xlabel='threshold factor $\\mu$', grid=True, color=['lightblue', 'lightcoral'], linewidth=3)\n",
    "\n",
    "y_1 = report_data['false-alarm rate']\n",
    "y_2 = report_data['miss rate']\n",
    "x = report_data.index\n",
    "\n",
    "plt.rc('text', usetex=True)\n",
    "\n",
    "fig, ax = plt.subplots(figsize=(4,2))\n",
    "ax.set_xticks(list(range(0,101,10)))\n",
    "#ax.set_yticks([0, 0.01, 0.02, 0.03, 0.04, 0.05, 0.06, 0.07, 0.08, 0.09, 0.1])\n",
    "ax.grid(color='lightgray', linestyle='dotted')\n",
    "ax.margins(x=0.0102, y=0)\n",
    "ax.set_xlabel(\"$\\mu$\", fontsize=14)\n",
    "\n",
    "plt.plot(x, y_1, label=\"false-alarm rate\", color=\"lightblue\", linewidth=2)\n",
    "plt.plot(x, y_2, label=\"miss rate\", color=\"lightcoral\", linewidth=2)\n",
    "plt.plot([10, 10],[0, 0.085] , zorder=1, color=\"black\", linewidth=1, linestyle=\"dotted\")\n",
    "plt.legend()\n",
    "plt.show()\n"
   ],
   "id": "b0aa1f0387c28f19",
   "outputs": [
    {
     "data": {
      "text/plain": [
       "<Figure size 400x200 with 1 Axes>"
      ],
      "image/png": "[encoded data removed]"
     },
     "metadata": {},
     "output_type": "display_data"
    }
   ],
   "execution_count": 5
  },
  {
   "metadata": {},
   "cell_type": "code",
   "outputs": [],
   "execution_count": null,
   "source": "",
   "id": "50b86dc9a817d351"
  }
 ],
 "metadata": {
  "kernelspec": {
   "display_name": "Python 3",
   "language": "python",
   "name": "python3"
  },
  "language_info": {
   "codemirror_mode": {
    "name": "ipython",
    "version": 2
   },
   "file_extension": ".py",
   "mimetype": "text/x-python",
   "name": "python",
   "nbconvert_exporter": "python",
   "pygments_lexer": "ipython2",
   "version": "2.7.6"
  }
 },
 "nbformat": 4,
 "nbformat_minor": 5
}
