{
 "cells": [
  {
   "cell_type": "code",
   "id": "initial_id",
   "metadata": {
    "collapsed": true,
    "ExecuteTime": {
     "end_time": "2025-03-05T13:27:41.275326Z",
     "start_time": "2025-03-05T13:27:39.233351Z"
    }
   },
   "source": [
    "from sklearn.metrics import ConfusionMatrixDisplay\n",
    "from util.helper import calculate_metrics\n",
    "\n",
    "import pandas as pd"
   ],
   "outputs": [
    {
     "name": "stderr",
     "output_type": "stream",
     "text": [
      "/Users/dgardner/GitHub/catalpa-cl/rwse-experiments/.venv/lib/python3.11/site-packages/tqdm/auto.py:21: TqdmWarning: IProgress not found. Please update jupyter and ipywidgets. See https://ipywidgets.readthedocs.io/en/stable/user_install.html\n",
      "  from .autonotebook import tqdm as notebook_tqdm\n"
     ]
    }
   ],
   "execution_count": 1
  },
  {
   "metadata": {},
   "cell_type": "markdown",
   "source": "# 10k data set",
   "id": "93def51502f0607e"
  },
  {
   "metadata": {
    "ExecuteTime": {
     "end_time": "2025-03-05T13:27:41.591306Z",
     "start_time": "2025-03-05T13:27:41.279243Z"
    }
   },
   "cell_type": "code",
   "source": [
    "file_false_positives = 'output/report_false_positives.csv'\n",
    "file_true_positives = 'output/report_true_positives.csv'\n",
    "\n",
    "report_10k, confusion_matrix = calculate_metrics(file_false_positives, file_true_positives)\n",
    "\n",
    "disp = ConfusionMatrixDisplay(confusion_matrix=confusion_matrix, display_labels=['RWSE', 'no RWSE'])\n",
    "disp.plot()\n",
    "# [confusion_matrix_dict['TP'], confusion_matrix_dict['FN']],\n",
    "# [confusion_matrix_dict['FP'], confusion_matrix_dict['TN']]\n"
   ],
   "id": "d27d1ebc22f1887b",
   "outputs": [
    {
     "data": {
      "text/plain": [
       "<sklearn.metrics._plot.confusion_matrix.ConfusionMatrixDisplay at 0x1099efcd0>"
      ]
     },
     "execution_count": 2,
     "metadata": {},
     "output_type": "execute_result"
    },
    {
     "data": {
      "text/plain": [
       "<Figure size 640x480 with 2 Axes>"
      ],
      "image/png": "[encoded data removed]"
     },
     "metadata": {},
     "output_type": "display_data"
    }
   ],
   "execution_count": 2
  },
  {
   "metadata": {
    "ExecuteTime": {
     "end_time": "2025-03-05T13:27:41.686572Z",
     "start_time": "2025-03-05T13:27:41.680500Z"
    }
   },
   "cell_type": "code",
   "source": [
    "df_10k = pd.DataFrame.from_dict(report_10k, orient='index', columns=['value'])\n",
    "df_10k.to_csv('output/metrics_10k.csv', header=None)\n",
    "df_10k"
   ],
   "id": "570a145e115a4e21",
   "outputs": [
    {
     "data": {
      "text/plain": [
       "                                   value\n",
       "precision                       0.999785\n",
       "mean false-positive rate        0.001297\n",
       "mean sensitivity (mean recall)  0.973319\n",
       "sensitivity (recall)            0.994854\n",
       "specificity                     0.999185\n",
       "f1                              0.997313"
      ],
      "text/html": [
       "<div>\n",
       "<style scoped>\n",
       "    .dataframe tbody tr th:only-of-type {\n",
       "        vertical-align: middle;\n",
       "    }\n",
       "\n",
       "    .dataframe tbody tr th {\n",
       "        vertical-align: top;\n",
       "    }\n",
       "\n",
       "    .dataframe thead th {\n",
       "        text-align: right;\n",
       "    }\n",
       "</style>\n",
       "<table border=\"1\" class=\"dataframe\">\n",
       "  <thead>\n",
       "    <tr style=\"text-align: right;\">\n",
       "      <th></th>\n",
       "      <th>value</th>\n",
       "    </tr>\n",
       "  </thead>\n",
       "  <tbody>\n",
       "    <tr>\n",
       "      <th>precision</th>\n",
       "      <td>0.999785</td>\n",
       "    </tr>\n",
       "    <tr>\n",
       "      <th>mean false-positive rate</th>\n",
       "      <td>0.001297</td>\n",
       "    </tr>\n",
       "    <tr>\n",
       "      <th>mean sensitivity (mean recall)</th>\n",
       "      <td>0.973319</td>\n",
       "    </tr>\n",
       "    <tr>\n",
       "      <th>sensitivity (recall)</th>\n",
       "      <td>0.994854</td>\n",
       "    </tr>\n",
       "    <tr>\n",
       "      <th>specificity</th>\n",
       "      <td>0.999185</td>\n",
       "    </tr>\n",
       "    <tr>\n",
       "      <th>f1</th>\n",
       "      <td>0.997313</td>\n",
       "    </tr>\n",
       "  </tbody>\n",
       "</table>\n",
       "</div>"
      ]
     },
     "execution_count": 3,
     "metadata": {},
     "output_type": "execute_result"
    }
   ],
   "execution_count": 3
  },
  {
   "metadata": {},
   "cell_type": "markdown",
   "source": "# Balanced data set",
   "id": "f330beae2d1fb199"
  },
  {
   "metadata": {
    "ExecuteTime": {
     "end_time": "2025-03-05T13:27:41.763535Z",
     "start_time": "2025-03-05T13:27:41.707834Z"
    }
   },
   "cell_type": "code",
   "source": [
    "file_false_positives = 'output/report_false_positives_balanced.csv'\n",
    "file_true_positives = 'output/report_true_positives_balanced.csv'\n",
    "\n",
    "report_balanced, confusion_matrix = calculate_metrics(file_false_positives, file_true_positives)\n",
    "\n",
    "disp = ConfusionMatrixDisplay(confusion_matrix=confusion_matrix, display_labels=['RWSE', 'no RWSE'])\n",
    "disp.plot()\n",
    "# [confusion_matrix_dict['TP'], confusion_matrix_dict['FN']],\n",
    "# [confusion_matrix_dict['FP'], confusion_matrix_dict['TN']]"
   ],
   "id": "202361403e165bd",
   "outputs": [
    {
     "data": {
      "text/plain": [
       "<sklearn.metrics._plot.confusion_matrix.ConfusionMatrixDisplay at 0x14c969d10>"
      ]
     },
     "execution_count": 4,
     "metadata": {},
     "output_type": "execute_result"
    },
    {
     "data": {
      "text/plain": [
       "<Figure size 640x480 with 2 Axes>"
      ],
      "image/png": "[encoded data removed]"
     },
     "metadata": {},
     "output_type": "display_data"
    }
   ],
   "execution_count": 4
  },
  {
   "metadata": {
    "ExecuteTime": {
     "end_time": "2025-03-05T13:27:41.787376Z",
     "start_time": "2025-03-05T13:27:41.782860Z"
    }
   },
   "cell_type": "code",
   "source": [
    "df_balanced = pd.DataFrame.from_dict(report_balanced, orient='index', columns=['value'])\n",
    "df_balanced.to_csv('output/metrics_balanced.csv', header=None)\n",
    "df_balanced"
   ],
   "id": "8aabd8ddd74e1cd2",
   "outputs": [
    {
     "data": {
      "text/plain": [
       "                                   value\n",
       "precision                       0.995668\n",
       "mean false-positive rate        0.010578\n",
       "mean sensitivity (mean recall)  0.951251\n",
       "sensitivity (recall)            0.955842\n",
       "specificity                     0.989129\n",
       "f1                              0.975349"
      ],
      "text/html": [
       "<div>\n",
       "<style scoped>\n",
       "    .dataframe tbody tr th:only-of-type {\n",
       "        vertical-align: middle;\n",
       "    }\n",
       "\n",
       "    .dataframe tbody tr th {\n",
       "        vertical-align: top;\n",
       "    }\n",
       "\n",
       "    .dataframe thead th {\n",
       "        text-align: right;\n",
       "    }\n",
       "</style>\n",
       "<table border=\"1\" class=\"dataframe\">\n",
       "  <thead>\n",
       "    <tr style=\"text-align: right;\">\n",
       "      <th></th>\n",
       "      <th>value</th>\n",
       "    </tr>\n",
       "  </thead>\n",
       "  <tbody>\n",
       "    <tr>\n",
       "      <th>precision</th>\n",
       "      <td>0.995668</td>\n",
       "    </tr>\n",
       "    <tr>\n",
       "      <th>mean false-positive rate</th>\n",
       "      <td>0.010578</td>\n",
       "    </tr>\n",
       "    <tr>\n",
       "      <th>mean sensitivity (mean recall)</th>\n",
       "      <td>0.951251</td>\n",
       "    </tr>\n",
       "    <tr>\n",
       "      <th>sensitivity (recall)</th>\n",
       "      <td>0.955842</td>\n",
       "    </tr>\n",
       "    <tr>\n",
       "      <th>specificity</th>\n",
       "      <td>0.989129</td>\n",
       "    </tr>\n",
       "    <tr>\n",
       "      <th>f1</th>\n",
       "      <td>0.975349</td>\n",
       "    </tr>\n",
       "  </tbody>\n",
       "</table>\n",
       "</div>"
      ]
     },
     "execution_count": 5,
     "metadata": {},
     "output_type": "execute_result"
    }
   ],
   "execution_count": 5
  },
  {
   "metadata": {},
   "cell_type": "markdown",
   "source": "# Comparision",
   "id": "3c6708f17165a4bb"
  },
  {
   "metadata": {
    "ExecuteTime": {
     "end_time": "2025-03-05T13:27:41.814918Z",
     "start_time": "2025-03-05T13:27:41.811083Z"
    }
   },
   "cell_type": "code",
   "source": "df_10k - df_balanced",
   "id": "894ed42b4b8e2454",
   "outputs": [
    {
     "data": {
      "text/plain": [
       "                                   value\n",
       "precision                       0.004116\n",
       "mean false-positive rate       -0.009281\n",
       "mean sensitivity (mean recall)  0.022068\n",
       "sensitivity (recall)            0.039013\n",
       "specificity                     0.010056\n",
       "f1                              0.021965"
      ],
      "text/html": [
       "<div>\n",
       "<style scoped>\n",
       "    .dataframe tbody tr th:only-of-type {\n",
       "        vertical-align: middle;\n",
       "    }\n",
       "\n",
       "    .dataframe tbody tr th {\n",
       "        vertical-align: top;\n",
       "    }\n",
       "\n",
       "    .dataframe thead th {\n",
       "        text-align: right;\n",
       "    }\n",
       "</style>\n",
       "<table border=\"1\" class=\"dataframe\">\n",
       "  <thead>\n",
       "    <tr style=\"text-align: right;\">\n",
       "      <th></th>\n",
       "      <th>value</th>\n",
       "    </tr>\n",
       "  </thead>\n",
       "  <tbody>\n",
       "    <tr>\n",
       "      <th>precision</th>\n",
       "      <td>0.004116</td>\n",
       "    </tr>\n",
       "    <tr>\n",
       "      <th>mean false-positive rate</th>\n",
       "      <td>-0.009281</td>\n",
       "    </tr>\n",
       "    <tr>\n",
       "      <th>mean sensitivity (mean recall)</th>\n",
       "      <td>0.022068</td>\n",
       "    </tr>\n",
       "    <tr>\n",
       "      <th>sensitivity (recall)</th>\n",
       "      <td>0.039013</td>\n",
       "    </tr>\n",
       "    <tr>\n",
       "      <th>specificity</th>\n",
       "      <td>0.010056</td>\n",
       "    </tr>\n",
       "    <tr>\n",
       "      <th>f1</th>\n",
       "      <td>0.021965</td>\n",
       "    </tr>\n",
       "  </tbody>\n",
       "</table>\n",
       "</div>"
      ]
     },
     "execution_count": 6,
     "metadata": {},
     "output_type": "execute_result"
    }
   ],
   "execution_count": 6
  },
  {
   "metadata": {},
   "cell_type": "code",
   "outputs": [],
   "execution_count": null,
   "source": "",
   "id": "e2b34448b63cb7a1"
  }
 ],
 "metadata": {
  "kernelspec": {
   "display_name": "Python 3",
   "language": "python",
   "name": "python3"
  },
  "language_info": {
   "codemirror_mode": {
    "name": "ipython",
    "version": 2
   },
   "file_extension": ".py",
   "mimetype": "text/x-python",
   "name": "python",
   "nbconvert_exporter": "python",
   "pygments_lexer": "ipython2",
   "version": "2.7.6"
  }
 },
 "nbformat": 4,
 "nbformat_minor": 5
}
