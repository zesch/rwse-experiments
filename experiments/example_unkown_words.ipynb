{
 "cells": [
  {
   "metadata": {},
   "cell_type": "markdown",
   "source": "### RWSE-Checker: unkown words",
   "id": "421a2e9efb7631ae"
  },
  {
   "cell_type": "code",
   "id": "initial_id",
   "metadata": {
    "collapsed": true,
    "ExecuteTime": {
     "end_time": "2025-01-19T14:40:49.764385Z",
     "start_time": "2025-01-19T14:40:48.581957Z"
    }
   },
   "source": "from rwse import RWSE_Checker",
   "outputs": [
    {
     "name": "stderr",
     "output_type": "stream",
     "text": [
      "/Users/dgardner/GitHub/catalpa-cl/rwse-experiments/.venv/lib/python3.11/site-packages/tqdm/auto.py:21: TqdmWarning: IProgress not found. Please update jupyter and ipywidgets. See https://ipywidgets.readthedocs.io/en/stable/user_install.html\n",
      "  from .autonotebook import tqdm as notebook_tqdm\n"
     ]
    }
   ],
   "execution_count": 1
  },
  {
   "metadata": {
    "ExecuteTime": {
     "end_time": "2025-01-19T14:40:50.852308Z",
     "start_time": "2025-01-19T14:40:49.768692Z"
    }
   },
   "cell_type": "code",
   "source": [
    "rwse = RWSE_Checker()\n",
    "rwse.set_confusion_sets('../data/confusion_sets.csv')"
   ],
   "id": "a0932c10ebc1e5af",
   "outputs": [
    {
     "name": "stderr",
     "output_type": "stream",
     "text": [
      "Some weights of the model checkpoint at bert-base-cased were not used when initializing BertForMaskedLM: ['bert.pooler.dense.bias', 'bert.pooler.dense.weight', 'cls.seq_relationship.bias', 'cls.seq_relationship.weight']\n",
      "- This IS expected if you are initializing BertForMaskedLM from the checkpoint of a model trained on another task or with another architecture (e.g. initializing a BertForSequenceClassification model from a BertForPreTraining model).\n",
      "- This IS NOT expected if you are initializing BertForMaskedLM from the checkpoint of a model that you expect to be exactly identical (initializing a BertForSequenceClassification model from a BertForSequenceClassification model).\n",
      "/Users/dgardner/GitHub/catalpa-cl/rwse-experiments/.venv/lib/python3.11/site-packages/transformers/tokenization_utils_base.py:1601: FutureWarning: `clean_up_tokenization_spaces` was not set. It will be set to `True` by default. This behavior will be depracted in transformers v4.45, and will be then set to `False` by default. For more details check this issue: https://github.com/huggingface/transformers/issues/31884\n",
      "  warnings.warn(\n",
      "Hardware accelerator e.g. GPU is available in the environment, but no `device` argument is passed to the `Pipeline` object. Model will be on CPU.\n"
     ]
    }
   ],
   "execution_count": 2
  },
  {
   "metadata": {},
   "cell_type": "markdown",
   "source": "#### Read from corpus and transform to CAS",
   "id": "b15b220fc4c36fa6"
  },
  {
   "metadata": {
    "ExecuteTime": {
     "end_time": "2025-01-19T14:40:50.958172Z",
     "start_time": "2025-01-19T14:40:50.953216Z"
    }
   },
   "cell_type": "code",
   "source": [
    "with open('../data/eng_news_2023_10K-sentences.txt', 'r') as f:\n",
    "    sentences = f.readlines()"
   ],
   "id": "ad7219e32c9680b2",
   "outputs": [],
   "execution_count": 3
  },
  {
   "metadata": {
    "ExecuteTime": {
     "end_time": "2025-01-19T14:40:51.150106Z",
     "start_time": "2025-01-19T14:40:50.963029Z"
    }
   },
   "cell_type": "code",
   "source": [
    "from cassis import Cas, load_typesystem\n",
    "\n",
    "path = '../data/TypeSystem.xml'\n",
    "\n",
    "with open(path, 'rb') as f:\n",
    "    ts = load_typesystem(f)\n",
    "cas = Cas(ts)\n",
    "\n",
    "sentences_cleaned = [sentence.split('\\t')[1].strip() for sentence in sentences]\n",
    "cas.sofa_string = ' '.join(sentences_cleaned[:8000]) # limited computational resources"
   ],
   "id": "f8c9a06c6660d638",
   "outputs": [],
   "execution_count": 4
  },
  {
   "metadata": {
    "ExecuteTime": {
     "end_time": "2025-01-19T14:41:07.338110Z",
     "start_time": "2025-01-19T14:40:51.155197Z"
    }
   },
   "cell_type": "code",
   "source": [
    "import spacy\n",
    "T_SENTENCE = 'de.tudarmstadt.ukp.dkpro.core.api.segmentation.type.Sentence'\n",
    "T_RWSE = 'de.tudarmstadt.ukp.dkpro.core.api.anomaly.type.RWSE'\n",
    "T_TOKEN = 'de.tudarmstadt.ukp.dkpro.core.api.segmentation.type.Token'\n",
    "\n",
    "nlp = spacy.load('en_core_web_sm')\n",
    "\n",
    "S = ts.get_type(T_SENTENCE)\n",
    "T = ts.get_type(T_TOKEN)\n",
    "\n",
    "doc = nlp(cas.sofa_string)\n",
    "for sent in doc.sents:\n",
    "    cas_sentence = S(begin=sent.start_char, end=sent.end_char)\n",
    "    cas.add(cas_sentence)\n",
    "for token in doc:\n",
    "    cas_token = T(begin=token.idx, end=token.idx+len(token.text), id=token.i)\n",
    "    cas.add(cas_token)"
   ],
   "id": "2db82ca79085232b",
   "outputs": [],
   "execution_count": 5
  },
  {
   "metadata": {},
   "cell_type": "markdown",
   "source": "#### Find RSWEs in CAS",
   "id": "cbccd978237c779d"
  },
  {
   "metadata": {
    "ExecuteTime": {
     "end_time": "2025-01-19T14:50:10.120714Z",
     "start_time": "2025-01-19T14:41:07.387846Z"
    }
   },
   "cell_type": "code",
   "source": "rwse.check_cas(cas, ts)",
   "id": "2170a696f7a58dce",
   "outputs": [
    {
     "name": "stderr",
     "output_type": "stream",
     "text": [
      "The specified target token `it's` does not exist in the model vocabulary. Replacing with `it`.\n",
      "The specified target token `it's` does not exist in the model vocabulary. Replacing with `it`.\n",
      "The specified target token `cite` does not exist in the model vocabulary. Replacing with `c`.\n",
      "The specified target token `capitol` does not exist in the model vocabulary. Replacing with `cap`.\n",
      "The specified target token `it's` does not exist in the model vocabulary. Replacing with `it`.\n",
      "The specified target token `it's` does not exist in the model vocabulary. Replacing with `it`.\n",
      "The specified target token `it's` does not exist in the model vocabulary. Replacing with `it`.\n",
      "The specified target token `it's` does not exist in the model vocabulary. Replacing with `it`.\n",
      "The specified target token `it's` does not exist in the model vocabulary. Replacing with `it`.\n",
      "The specified target token `it's` does not exist in the model vocabulary. Replacing with `it`.\n",
      "The specified target token `it's` does not exist in the model vocabulary. Replacing with `it`.\n",
      "The specified target token `capitol` does not exist in the model vocabulary. Replacing with `cap`.\n"
     ]
    },
    {
     "name": "stdout",
     "output_type": "stream",
     "text": [
      "d.t.u.d.c.a.a.t.RWSE(begin=26932, end=26939)\n"
     ]
    },
    {
     "name": "stderr",
     "output_type": "stream",
     "text": [
      "The specified target token `cite` does not exist in the model vocabulary. Replacing with `c`.\n",
      "The specified target token `it's` does not exist in the model vocabulary. Replacing with `it`.\n",
      "The specified target token `it's` does not exist in the model vocabulary. Replacing with `it`.\n",
      "The specified target token `it's` does not exist in the model vocabulary. Replacing with `it`.\n",
      "The specified target token `it's` does not exist in the model vocabulary. Replacing with `it`.\n",
      "The specified target token `it's` does not exist in the model vocabulary. Replacing with `it`.\n",
      "The specified target token `it's` does not exist in the model vocabulary. Replacing with `it`.\n",
      "The specified target token `it's` does not exist in the model vocabulary. Replacing with `it`.\n",
      "The specified target token `it's` does not exist in the model vocabulary. Replacing with `it`.\n",
      "The specified target token `capitol` does not exist in the model vocabulary. Replacing with `cap`.\n",
      "The specified target token `corse` does not exist in the model vocabulary. Replacing with `co`.\n",
      "The specified target token `it's` does not exist in the model vocabulary. Replacing with `it`.\n",
      "The specified target token `it's` does not exist in the model vocabulary. Replacing with `it`.\n",
      "The specified target token `it's` does not exist in the model vocabulary. Replacing with `it`.\n",
      "The specified target token `it's` does not exist in the model vocabulary. Replacing with `it`.\n",
      "The specified target token `it's` does not exist in the model vocabulary. Replacing with `it`.\n",
      "The specified target token `it's` does not exist in the model vocabulary. Replacing with `it`.\n",
      "The specified target token `it's` does not exist in the model vocabulary. Replacing with `it`.\n",
      "The specified target token `cite` does not exist in the model vocabulary. Replacing with `c`.\n",
      "The specified target token `it's` does not exist in the model vocabulary. Replacing with `it`.\n",
      "The specified target token `it's` does not exist in the model vocabulary. Replacing with `it`.\n",
      "The specified target token `it's` does not exist in the model vocabulary. Replacing with `it`.\n",
      "The specified target token `corse` does not exist in the model vocabulary. Replacing with `co`.\n",
      "The specified target token `it's` does not exist in the model vocabulary. Replacing with `it`.\n",
      "The specified target token `it's` does not exist in the model vocabulary. Replacing with `it`.\n",
      "The specified target token `it's` does not exist in the model vocabulary. Replacing with `it`.\n"
     ]
    },
    {
     "name": "stdout",
     "output_type": "stream",
     "text": [
      "d.t.u.d.c.a.a.t.RWSE(begin=81820, end=81826)\n"
     ]
    },
    {
     "name": "stderr",
     "output_type": "stream",
     "text": [
      "The specified target token `cite` does not exist in the model vocabulary. Replacing with `c`.\n",
      "The specified target token `it's` does not exist in the model vocabulary. Replacing with `it`.\n",
      "The specified target token `it's` does not exist in the model vocabulary. Replacing with `it`.\n",
      "The specified target token `capitol` does not exist in the model vocabulary. Replacing with `cap`.\n",
      "The specified target token `it's` does not exist in the model vocabulary. Replacing with `it`.\n",
      "The specified target token `capitol` does not exist in the model vocabulary. Replacing with `cap`.\n"
     ]
    },
    {
     "name": "stdout",
     "output_type": "stream",
     "text": [
      "d.t.u.d.c.a.a.t.RWSE(begin=95290, end=95297)\n"
     ]
    },
    {
     "name": "stderr",
     "output_type": "stream",
     "text": [
      "The specified target token `it's` does not exist in the model vocabulary. Replacing with `it`.\n",
      "The specified target token `it's` does not exist in the model vocabulary. Replacing with `it`.\n",
      "The specified target token `it's` does not exist in the model vocabulary. Replacing with `it`.\n",
      "The specified target token `it's` does not exist in the model vocabulary. Replacing with `it`.\n",
      "The specified target token `it's` does not exist in the model vocabulary. Replacing with `it`.\n",
      "The specified target token `it's` does not exist in the model vocabulary. Replacing with `it`.\n",
      "The specified target token `capitol` does not exist in the model vocabulary. Replacing with `cap`.\n",
      "The specified target token `it's` does not exist in the model vocabulary. Replacing with `it`.\n"
     ]
    },
    {
     "name": "stdout",
     "output_type": "stream",
     "text": [
      "d.t.u.d.c.a.a.t.RWSE(begin=115783, end=115789)\n"
     ]
    },
    {
     "name": "stderr",
     "output_type": "stream",
     "text": [
      "The specified target token `it's` does not exist in the model vocabulary. Replacing with `it`.\n",
      "The specified target token `it's` does not exist in the model vocabulary. Replacing with `it`.\n",
      "The specified target token `it's` does not exist in the model vocabulary. Replacing with `it`.\n",
      "The specified target token `it's` does not exist in the model vocabulary. Replacing with `it`.\n",
      "The specified target token `it's` does not exist in the model vocabulary. Replacing with `it`.\n",
      "The specified target token `it's` does not exist in the model vocabulary. Replacing with `it`.\n",
      "The specified target token `it's` does not exist in the model vocabulary. Replacing with `it`.\n",
      "The specified target token `it's` does not exist in the model vocabulary. Replacing with `it`.\n",
      "The specified target token `it's` does not exist in the model vocabulary. Replacing with `it`.\n",
      "The specified target token `it's` does not exist in the model vocabulary. Replacing with `it`.\n",
      "The specified target token `corse` does not exist in the model vocabulary. Replacing with `co`.\n",
      "The specified target token `corse` does not exist in the model vocabulary. Replacing with `co`.\n",
      "The specified target token `it's` does not exist in the model vocabulary. Replacing with `it`.\n",
      "The specified target token `it's` does not exist in the model vocabulary. Replacing with `it`.\n",
      "The specified target token `it's` does not exist in the model vocabulary. Replacing with `it`.\n",
      "The specified target token `it's` does not exist in the model vocabulary. Replacing with `it`.\n",
      "The specified target token `corse` does not exist in the model vocabulary. Replacing with `co`.\n",
      "The specified target token `it's` does not exist in the model vocabulary. Replacing with `it`.\n",
      "The specified target token `it's` does not exist in the model vocabulary. Replacing with `it`.\n",
      "The specified target token `it's` does not exist in the model vocabulary. Replacing with `it`.\n",
      "The specified target token `it's` does not exist in the model vocabulary. Replacing with `it`.\n",
      "The specified target token `it's` does not exist in the model vocabulary. Replacing with `it`.\n",
      "The specified target token `cite` does not exist in the model vocabulary. Replacing with `c`.\n",
      "The specified target token `it's` does not exist in the model vocabulary. Replacing with `it`.\n",
      "The specified target token `it's` does not exist in the model vocabulary. Replacing with `it`.\n",
      "The specified target token `manly` does not exist in the model vocabulary. Replacing with `man`.\n",
      "The specified target token `capitol` does not exist in the model vocabulary. Replacing with `cap`.\n",
      "The specified target token `capitol` does not exist in the model vocabulary. Replacing with `cap`.\n",
      "The specified target token `it's` does not exist in the model vocabulary. Replacing with `it`.\n",
      "The specified target token `it's` does not exist in the model vocabulary. Replacing with `it`.\n",
      "The specified target token `it's` does not exist in the model vocabulary. Replacing with `it`.\n",
      "The specified target token `capitol` does not exist in the model vocabulary. Replacing with `cap`.\n",
      "The specified target token `it's` does not exist in the model vocabulary. Replacing with `it`.\n",
      "The specified target token `it's` does not exist in the model vocabulary. Replacing with `it`.\n"
     ]
    },
    {
     "name": "stdout",
     "output_type": "stream",
     "text": [
      "d.t.u.d.c.a.a.t.RWSE(begin=182246, end=182250)\n"
     ]
    },
    {
     "name": "stderr",
     "output_type": "stream",
     "text": [
      "The specified target token `it's` does not exist in the model vocabulary. Replacing with `it`.\n",
      "The specified target token `it's` does not exist in the model vocabulary. Replacing with `it`.\n",
      "The specified target token `it's` does not exist in the model vocabulary. Replacing with `it`.\n",
      "The specified target token `it's` does not exist in the model vocabulary. Replacing with `it`.\n",
      "The specified target token `cite` does not exist in the model vocabulary. Replacing with `c`.\n"
     ]
    },
    {
     "name": "stdout",
     "output_type": "stream",
     "text": [
      "d.t.u.d.c.a.a.t.RWSE(begin=189408, end=189412)\n"
     ]
    },
    {
     "name": "stderr",
     "output_type": "stream",
     "text": [
      "The specified target token `it's` does not exist in the model vocabulary. Replacing with `it`.\n",
      "The specified target token `it's` does not exist in the model vocabulary. Replacing with `it`.\n",
      "The specified target token `it's` does not exist in the model vocabulary. Replacing with `it`.\n",
      "The specified target token `it's` does not exist in the model vocabulary. Replacing with `it`.\n",
      "The specified target token `cite` does not exist in the model vocabulary. Replacing with `c`.\n",
      "The specified target token `it's` does not exist in the model vocabulary. Replacing with `it`.\n",
      "The specified target token `it's` does not exist in the model vocabulary. Replacing with `it`.\n",
      "The specified target token `it's` does not exist in the model vocabulary. Replacing with `it`.\n",
      "The specified target token `cite` does not exist in the model vocabulary. Replacing with `c`.\n",
      "The specified target token `it's` does not exist in the model vocabulary. Replacing with `it`.\n",
      "The specified target token `it's` does not exist in the model vocabulary. Replacing with `it`.\n",
      "The specified target token `it's` does not exist in the model vocabulary. Replacing with `it`.\n",
      "The specified target token `it's` does not exist in the model vocabulary. Replacing with `it`.\n",
      "The specified target token `it's` does not exist in the model vocabulary. Replacing with `it`.\n",
      "The specified target token `it's` does not exist in the model vocabulary. Replacing with `it`.\n",
      "The specified target token `cite` does not exist in the model vocabulary. Replacing with `c`.\n",
      "The specified target token `it's` does not exist in the model vocabulary. Replacing with `it`.\n"
     ]
    },
    {
     "name": "stdout",
     "output_type": "stream",
     "text": [
      "d.t.u.d.c.a.a.t.RWSE(begin=216127, end=216131)\n"
     ]
    },
    {
     "name": "stderr",
     "output_type": "stream",
     "text": [
      "The specified target token `it's` does not exist in the model vocabulary. Replacing with `it`.\n",
      "The specified target token `it's` does not exist in the model vocabulary. Replacing with `it`.\n",
      "The specified target token `it's` does not exist in the model vocabulary. Replacing with `it`.\n",
      "The specified target token `it's` does not exist in the model vocabulary. Replacing with `it`.\n",
      "The specified target token `manly` does not exist in the model vocabulary. Replacing with `man`.\n",
      "The specified target token `cite` does not exist in the model vocabulary. Replacing with `c`.\n",
      "The specified target token `it's` does not exist in the model vocabulary. Replacing with `it`.\n",
      "The specified target token `it's` does not exist in the model vocabulary. Replacing with `it`.\n",
      "The specified target token `it's` does not exist in the model vocabulary. Replacing with `it`.\n",
      "The specified target token `it's` does not exist in the model vocabulary. Replacing with `it`.\n",
      "The specified target token `it's` does not exist in the model vocabulary. Replacing with `it`.\n",
      "The specified target token `capitol` does not exist in the model vocabulary. Replacing with `cap`.\n",
      "The specified target token `provence` does not exist in the model vocabulary. Replacing with `proven`.\n",
      "The specified target token `cite` does not exist in the model vocabulary. Replacing with `c`.\n",
      "The specified target token `it's` does not exist in the model vocabulary. Replacing with `it`.\n",
      "The specified target token `corse` does not exist in the model vocabulary. Replacing with `co`.\n",
      "The specified target token `it's` does not exist in the model vocabulary. Replacing with `it`.\n",
      "The specified target token `it's` does not exist in the model vocabulary. Replacing with `it`.\n",
      "The specified target token `it's` does not exist in the model vocabulary. Replacing with `it`.\n",
      "The specified target token `it's` does not exist in the model vocabulary. Replacing with `it`.\n",
      "The specified target token `it's` does not exist in the model vocabulary. Replacing with `it`.\n",
      "The specified target token `it's` does not exist in the model vocabulary. Replacing with `it`.\n",
      "The specified target token `it's` does not exist in the model vocabulary. Replacing with `it`.\n",
      "The specified target token `it's` does not exist in the model vocabulary. Replacing with `it`.\n",
      "The specified target token `it's` does not exist in the model vocabulary. Replacing with `it`.\n",
      "The specified target token `it's` does not exist in the model vocabulary. Replacing with `it`.\n",
      "The specified target token `it's` does not exist in the model vocabulary. Replacing with `it`.\n",
      "The specified target token `it's` does not exist in the model vocabulary. Replacing with `it`.\n",
      "The specified target token `it's` does not exist in the model vocabulary. Replacing with `it`.\n",
      "The specified target token `it's` does not exist in the model vocabulary. Replacing with `it`.\n",
      "The specified target token `it's` does not exist in the model vocabulary. Replacing with `it`.\n",
      "The specified target token `it's` does not exist in the model vocabulary. Replacing with `it`.\n",
      "The specified target token `it's` does not exist in the model vocabulary. Replacing with `it`.\n",
      "The specified target token `it's` does not exist in the model vocabulary. Replacing with `it`.\n",
      "The specified target token `it's` does not exist in the model vocabulary. Replacing with `it`.\n",
      "The specified target token `it's` does not exist in the model vocabulary. Replacing with `it`.\n",
      "The specified target token `it's` does not exist in the model vocabulary. Replacing with `it`.\n",
      "The specified target token `it's` does not exist in the model vocabulary. Replacing with `it`.\n",
      "The specified target token `it's` does not exist in the model vocabulary. Replacing with `it`.\n",
      "The specified target token `corse` does not exist in the model vocabulary. Replacing with `co`.\n",
      "The specified target token `it's` does not exist in the model vocabulary. Replacing with `it`.\n",
      "The specified target token `it's` does not exist in the model vocabulary. Replacing with `it`.\n",
      "The specified target token `it's` does not exist in the model vocabulary. Replacing with `it`.\n",
      "The specified target token `capitol` does not exist in the model vocabulary. Replacing with `cap`.\n",
      "The specified target token `it's` does not exist in the model vocabulary. Replacing with `it`.\n",
      "The specified target token `it's` does not exist in the model vocabulary. Replacing with `it`.\n",
      "The specified target token `it's` does not exist in the model vocabulary. Replacing with `it`.\n",
      "The specified target token `it's` does not exist in the model vocabulary. Replacing with `it`.\n",
      "The specified target token `it's` does not exist in the model vocabulary. Replacing with `it`.\n",
      "The specified target token `it's` does not exist in the model vocabulary. Replacing with `it`.\n",
      "The specified target token `it's` does not exist in the model vocabulary. Replacing with `it`.\n",
      "The specified target token `it's` does not exist in the model vocabulary. Replacing with `it`.\n",
      "The specified target token `cite` does not exist in the model vocabulary. Replacing with `c`.\n",
      "The specified target token `capitol` does not exist in the model vocabulary. Replacing with `cap`.\n",
      "The specified target token `it's` does not exist in the model vocabulary. Replacing with `it`.\n",
      "The specified target token `it's` does not exist in the model vocabulary. Replacing with `it`.\n",
      "The specified target token `it's` does not exist in the model vocabulary. Replacing with `it`.\n",
      "The specified target token `it's` does not exist in the model vocabulary. Replacing with `it`.\n"
     ]
    },
    {
     "name": "stdout",
     "output_type": "stream",
     "text": [
      "d.t.u.d.c.a.a.t.RWSE(begin=323598, end=323601)\n"
     ]
    },
    {
     "name": "stderr",
     "output_type": "stream",
     "text": [
      "The specified target token `it's` does not exist in the model vocabulary. Replacing with `it`.\n",
      "The specified target token `capitol` does not exist in the model vocabulary. Replacing with `cap`.\n",
      "The specified target token `cite` does not exist in the model vocabulary. Replacing with `c`.\n"
     ]
    },
    {
     "name": "stdout",
     "output_type": "stream",
     "text": [
      "d.t.u.d.c.a.a.t.RWSE(begin=324642, end=324646)\n"
     ]
    },
    {
     "name": "stderr",
     "output_type": "stream",
     "text": [
      "The specified target token `corse` does not exist in the model vocabulary. Replacing with `co`.\n",
      "The specified target token `provence` does not exist in the model vocabulary. Replacing with `proven`.\n",
      "The specified target token `it's` does not exist in the model vocabulary. Replacing with `it`.\n",
      "The specified target token `it's` does not exist in the model vocabulary. Replacing with `it`.\n",
      "The specified target token `it's` does not exist in the model vocabulary. Replacing with `it`.\n",
      "The specified target token `it's` does not exist in the model vocabulary. Replacing with `it`.\n",
      "The specified target token `it's` does not exist in the model vocabulary. Replacing with `it`.\n"
     ]
    },
    {
     "name": "stdout",
     "output_type": "stream",
     "text": [
      "d.t.u.d.c.a.a.t.RWSE(begin=340555, end=340561)\n"
     ]
    },
    {
     "name": "stderr",
     "output_type": "stream",
     "text": [
      "The specified target token `breadth` does not exist in the model vocabulary. Replacing with `bread`.\n",
      "The specified target token `corse` does not exist in the model vocabulary. Replacing with `co`.\n",
      "The specified target token `it's` does not exist in the model vocabulary. Replacing with `it`.\n",
      "The specified target token `it's` does not exist in the model vocabulary. Replacing with `it`.\n",
      "The specified target token `it's` does not exist in the model vocabulary. Replacing with `it`.\n",
      "The specified target token `it's` does not exist in the model vocabulary. Replacing with `it`.\n",
      "The specified target token `it's` does not exist in the model vocabulary. Replacing with `it`.\n",
      "The specified target token `it's` does not exist in the model vocabulary. Replacing with `it`.\n",
      "The specified target token `it's` does not exist in the model vocabulary. Replacing with `it`.\n",
      "The specified target token `corse` does not exist in the model vocabulary. Replacing with `co`.\n",
      "The specified target token `corse` does not exist in the model vocabulary. Replacing with `co`.\n",
      "The specified target token `it's` does not exist in the model vocabulary. Replacing with `it`.\n",
      "The specified target token `it's` does not exist in the model vocabulary. Replacing with `it`.\n",
      "The specified target token `it's` does not exist in the model vocabulary. Replacing with `it`.\n",
      "The specified target token `it's` does not exist in the model vocabulary. Replacing with `it`.\n",
      "The specified target token `it's` does not exist in the model vocabulary. Replacing with `it`.\n",
      "The specified target token `cite` does not exist in the model vocabulary. Replacing with `c`.\n",
      "The specified target token `it's` does not exist in the model vocabulary. Replacing with `it`.\n",
      "The specified target token `it's` does not exist in the model vocabulary. Replacing with `it`.\n",
      "The specified target token `corse` does not exist in the model vocabulary. Replacing with `co`.\n",
      "The specified target token `it's` does not exist in the model vocabulary. Replacing with `it`.\n",
      "The specified target token `it's` does not exist in the model vocabulary. Replacing with `it`.\n",
      "The specified target token `it's` does not exist in the model vocabulary. Replacing with `it`.\n",
      "The specified target token `cite` does not exist in the model vocabulary. Replacing with `c`.\n",
      "The specified target token `it's` does not exist in the model vocabulary. Replacing with `it`.\n",
      "The specified target token `capitol` does not exist in the model vocabulary. Replacing with `cap`.\n",
      "The specified target token `it's` does not exist in the model vocabulary. Replacing with `it`.\n",
      "The specified target token `capitol` does not exist in the model vocabulary. Replacing with `cap`.\n",
      "The specified target token `it's` does not exist in the model vocabulary. Replacing with `it`.\n",
      "The specified target token `manly` does not exist in the model vocabulary. Replacing with `man`.\n",
      "The specified target token `it's` does not exist in the model vocabulary. Replacing with `it`.\n",
      "The specified target token `it's` does not exist in the model vocabulary. Replacing with `it`.\n",
      "The specified target token `it's` does not exist in the model vocabulary. Replacing with `it`.\n",
      "The specified target token `it's` does not exist in the model vocabulary. Replacing with `it`.\n",
      "The specified target token `it's` does not exist in the model vocabulary. Replacing with `it`.\n",
      "The specified target token `it's` does not exist in the model vocabulary. Replacing with `it`.\n",
      "The specified target token `it's` does not exist in the model vocabulary. Replacing with `it`.\n",
      "The specified target token `it's` does not exist in the model vocabulary. Replacing with `it`.\n",
      "The specified target token `it's` does not exist in the model vocabulary. Replacing with `it`.\n",
      "The specified target token `it's` does not exist in the model vocabulary. Replacing with `it`.\n",
      "The specified target token `capitol` does not exist in the model vocabulary. Replacing with `cap`.\n",
      "The specified target token `it's` does not exist in the model vocabulary. Replacing with `it`.\n",
      "The specified target token `capitol` does not exist in the model vocabulary. Replacing with `cap`.\n",
      "The specified target token `it's` does not exist in the model vocabulary. Replacing with `it`.\n",
      "The specified target token `it's` does not exist in the model vocabulary. Replacing with `it`.\n",
      "The specified target token `it's` does not exist in the model vocabulary. Replacing with `it`.\n",
      "The specified target token `cite` does not exist in the model vocabulary. Replacing with `c`.\n",
      "The specified target token `it's` does not exist in the model vocabulary. Replacing with `it`.\n",
      "The specified target token `corse` does not exist in the model vocabulary. Replacing with `co`.\n",
      "The specified target token `it's` does not exist in the model vocabulary. Replacing with `it`.\n",
      "The specified target token `corse` does not exist in the model vocabulary. Replacing with `co`.\n",
      "The specified target token `it's` does not exist in the model vocabulary. Replacing with `it`.\n",
      "The specified target token `it's` does not exist in the model vocabulary. Replacing with `it`.\n",
      "The specified target token `it's` does not exist in the model vocabulary. Replacing with `it`.\n",
      "The specified target token `it's` does not exist in the model vocabulary. Replacing with `it`.\n",
      "The specified target token `it's` does not exist in the model vocabulary. Replacing with `it`.\n",
      "The specified target token `it's` does not exist in the model vocabulary. Replacing with `it`.\n",
      "The specified target token `it's` does not exist in the model vocabulary. Replacing with `it`.\n",
      "The specified target token `it's` does not exist in the model vocabulary. Replacing with `it`.\n",
      "The specified target token `it's` does not exist in the model vocabulary. Replacing with `it`.\n",
      "The specified target token `it's` does not exist in the model vocabulary. Replacing with `it`.\n",
      "The specified target token `it's` does not exist in the model vocabulary. Replacing with `it`.\n",
      "The specified target token `it's` does not exist in the model vocabulary. Replacing with `it`.\n",
      "The specified target token `it's` does not exist in the model vocabulary. Replacing with `it`.\n",
      "The specified target token `it's` does not exist in the model vocabulary. Replacing with `it`.\n",
      "The specified target token `it's` does not exist in the model vocabulary. Replacing with `it`.\n",
      "The specified target token `it's` does not exist in the model vocabulary. Replacing with `it`.\n",
      "The specified target token `it's` does not exist in the model vocabulary. Replacing with `it`.\n",
      "The specified target token `it's` does not exist in the model vocabulary. Replacing with `it`.\n",
      "The specified target token `it's` does not exist in the model vocabulary. Replacing with `it`.\n",
      "The specified target token `it's` does not exist in the model vocabulary. Replacing with `it`.\n",
      "The specified target token `corse` does not exist in the model vocabulary. Replacing with `co`.\n",
      "The specified target token `it's` does not exist in the model vocabulary. Replacing with `it`.\n",
      "The specified target token `corse` does not exist in the model vocabulary. Replacing with `co`.\n",
      "The specified target token `capitol` does not exist in the model vocabulary. Replacing with `cap`.\n"
     ]
    },
    {
     "name": "stdout",
     "output_type": "stream",
     "text": [
      "d.t.u.d.c.a.a.t.RWSE(begin=513607, end=513614)\n"
     ]
    },
    {
     "name": "stderr",
     "output_type": "stream",
     "text": [
      "The specified target token `it's` does not exist in the model vocabulary. Replacing with `it`.\n",
      "The specified target token `it's` does not exist in the model vocabulary. Replacing with `it`.\n",
      "The specified target token `it's` does not exist in the model vocabulary. Replacing with `it`.\n",
      "The specified target token `it's` does not exist in the model vocabulary. Replacing with `it`.\n",
      "The specified target token `it's` does not exist in the model vocabulary. Replacing with `it`.\n",
      "The specified target token `it's` does not exist in the model vocabulary. Replacing with `it`.\n",
      "The specified target token `corse` does not exist in the model vocabulary. Replacing with `co`.\n",
      "The specified target token `it's` does not exist in the model vocabulary. Replacing with `it`.\n",
      "The specified target token `corse` does not exist in the model vocabulary. Replacing with `co`.\n",
      "The specified target token `it's` does not exist in the model vocabulary. Replacing with `it`.\n",
      "The specified target token `it's` does not exist in the model vocabulary. Replacing with `it`.\n",
      "The specified target token `it's` does not exist in the model vocabulary. Replacing with `it`.\n",
      "The specified target token `it's` does not exist in the model vocabulary. Replacing with `it`.\n",
      "The specified target token `it's` does not exist in the model vocabulary. Replacing with `it`.\n",
      "The specified target token `it's` does not exist in the model vocabulary. Replacing with `it`.\n",
      "The specified target token `it's` does not exist in the model vocabulary. Replacing with `it`.\n",
      "The specified target token `it's` does not exist in the model vocabulary. Replacing with `it`.\n",
      "The specified target token `it's` does not exist in the model vocabulary. Replacing with `it`.\n",
      "The specified target token `it's` does not exist in the model vocabulary. Replacing with `it`.\n",
      "The specified target token `it's` does not exist in the model vocabulary. Replacing with `it`.\n",
      "The specified target token `it's` does not exist in the model vocabulary. Replacing with `it`.\n",
      "The specified target token `manly` does not exist in the model vocabulary. Replacing with `man`.\n"
     ]
    },
    {
     "name": "stdout",
     "output_type": "stream",
     "text": [
      "d.t.u.d.c.a.a.t.RWSE(begin=569782, end=569787)\n"
     ]
    },
    {
     "name": "stderr",
     "output_type": "stream",
     "text": [
      "The specified target token `it's` does not exist in the model vocabulary. Replacing with `it`.\n",
      "The specified target token `it's` does not exist in the model vocabulary. Replacing with `it`.\n",
      "The specified target token `it's` does not exist in the model vocabulary. Replacing with `it`.\n",
      "The specified target token `it's` does not exist in the model vocabulary. Replacing with `it`.\n",
      "The specified target token `it's` does not exist in the model vocabulary. Replacing with `it`.\n",
      "The specified target token `it's` does not exist in the model vocabulary. Replacing with `it`.\n",
      "The specified target token `it's` does not exist in the model vocabulary. Replacing with `it`.\n",
      "The specified target token `it's` does not exist in the model vocabulary. Replacing with `it`.\n",
      "The specified target token `it's` does not exist in the model vocabulary. Replacing with `it`.\n",
      "The specified target token `corse` does not exist in the model vocabulary. Replacing with `co`.\n",
      "The specified target token `it's` does not exist in the model vocabulary. Replacing with `it`.\n",
      "The specified target token `it's` does not exist in the model vocabulary. Replacing with `it`.\n",
      "The specified target token `simulate` does not exist in the model vocabulary. Replacing with `si`.\n",
      "The specified target token `it's` does not exist in the model vocabulary. Replacing with `it`.\n",
      "The specified target token `it's` does not exist in the model vocabulary. Replacing with `it`.\n",
      "The specified target token `it's` does not exist in the model vocabulary. Replacing with `it`.\n",
      "The specified target token `cite` does not exist in the model vocabulary. Replacing with `c`.\n",
      "The specified target token `it's` does not exist in the model vocabulary. Replacing with `it`.\n",
      "The specified target token `corse` does not exist in the model vocabulary. Replacing with `co`.\n",
      "The specified target token `it's` does not exist in the model vocabulary. Replacing with `it`.\n",
      "The specified target token `it's` does not exist in the model vocabulary. Replacing with `it`.\n",
      "The specified target token `it's` does not exist in the model vocabulary. Replacing with `it`.\n",
      "The specified target token `it's` does not exist in the model vocabulary. Replacing with `it`.\n"
     ]
    },
    {
     "name": "stdout",
     "output_type": "stream",
     "text": [
      "d.t.u.d.c.a.a.t.RWSE(begin=617422, end=617426)\n"
     ]
    },
    {
     "name": "stderr",
     "output_type": "stream",
     "text": [
      "The specified target token `capitol` does not exist in the model vocabulary. Replacing with `cap`.\n",
      "The specified target token `it's` does not exist in the model vocabulary. Replacing with `it`.\n",
      "The specified target token `corse` does not exist in the model vocabulary. Replacing with `co`.\n",
      "The specified target token `it's` does not exist in the model vocabulary. Replacing with `it`.\n",
      "The specified target token `corse` does not exist in the model vocabulary. Replacing with `co`.\n",
      "The specified target token `it's` does not exist in the model vocabulary. Replacing with `it`.\n"
     ]
    },
    {
     "name": "stdout",
     "output_type": "stream",
     "text": [
      "d.t.u.d.c.a.a.t.RWSE(begin=630500, end=630505)\n"
     ]
    },
    {
     "name": "stderr",
     "output_type": "stream",
     "text": [
      "The specified target token `corse` does not exist in the model vocabulary. Replacing with `co`.\n",
      "The specified target token `corse` does not exist in the model vocabulary. Replacing with `co`.\n",
      "The specified target token `corse` does not exist in the model vocabulary. Replacing with `co`.\n",
      "The specified target token `corse` does not exist in the model vocabulary. Replacing with `co`.\n",
      "The specified target token `corse` does not exist in the model vocabulary. Replacing with `co`.\n",
      "The specified target token `corse` does not exist in the model vocabulary. Replacing with `co`.\n",
      "The specified target token `corse` does not exist in the model vocabulary. Replacing with `co`.\n",
      "The specified target token `it's` does not exist in the model vocabulary. Replacing with `it`.\n",
      "The specified target token `it's` does not exist in the model vocabulary. Replacing with `it`.\n",
      "The specified target token `capitol` does not exist in the model vocabulary. Replacing with `cap`.\n",
      "The specified target token `it's` does not exist in the model vocabulary. Replacing with `it`.\n",
      "The specified target token `it's` does not exist in the model vocabulary. Replacing with `it`.\n",
      "The specified target token `it's` does not exist in the model vocabulary. Replacing with `it`.\n",
      "The specified target token `it's` does not exist in the model vocabulary. Replacing with `it`.\n",
      "The specified target token `cite` does not exist in the model vocabulary. Replacing with `c`.\n",
      "The specified target token `it's` does not exist in the model vocabulary. Replacing with `it`.\n",
      "The specified target token `provence` does not exist in the model vocabulary. Replacing with `proven`.\n",
      "The specified target token `it's` does not exist in the model vocabulary. Replacing with `it`.\n",
      "The specified target token `it's` does not exist in the model vocabulary. Replacing with `it`.\n",
      "The specified target token `it's` does not exist in the model vocabulary. Replacing with `it`.\n",
      "The specified target token `it's` does not exist in the model vocabulary. Replacing with `it`.\n",
      "The specified target token `it's` does not exist in the model vocabulary. Replacing with `it`.\n",
      "The specified target token `it's` does not exist in the model vocabulary. Replacing with `it`.\n",
      "The specified target token `it's` does not exist in the model vocabulary. Replacing with `it`.\n",
      "The specified target token `it's` does not exist in the model vocabulary. Replacing with `it`.\n",
      "The specified target token `it's` does not exist in the model vocabulary. Replacing with `it`.\n",
      "The specified target token `it's` does not exist in the model vocabulary. Replacing with `it`.\n",
      "The specified target token `it's` does not exist in the model vocabulary. Replacing with `it`.\n",
      "The specified target token `it's` does not exist in the model vocabulary. Replacing with `it`.\n",
      "The specified target token `cite` does not exist in the model vocabulary. Replacing with `c`.\n",
      "The specified target token `manly` does not exist in the model vocabulary. Replacing with `man`.\n"
     ]
    },
    {
     "name": "stdout",
     "output_type": "stream",
     "text": [
      "d.t.u.d.c.a.a.t.RWSE(begin=696814, end=696817)\n"
     ]
    },
    {
     "name": "stderr",
     "output_type": "stream",
     "text": [
      "The specified target token `it's` does not exist in the model vocabulary. Replacing with `it`.\n",
      "The specified target token `it's` does not exist in the model vocabulary. Replacing with `it`.\n",
      "The specified target token `capitol` does not exist in the model vocabulary. Replacing with `cap`.\n",
      "The specified target token `it's` does not exist in the model vocabulary. Replacing with `it`.\n",
      "The specified target token `it's` does not exist in the model vocabulary. Replacing with `it`.\n",
      "The specified target token `it's` does not exist in the model vocabulary. Replacing with `it`.\n",
      "The specified target token `it's` does not exist in the model vocabulary. Replacing with `it`.\n",
      "The specified target token `it's` does not exist in the model vocabulary. Replacing with `it`.\n",
      "The specified target token `it's` does not exist in the model vocabulary. Replacing with `it`.\n",
      "The specified target token `it's` does not exist in the model vocabulary. Replacing with `it`.\n",
      "The specified target token `it's` does not exist in the model vocabulary. Replacing with `it`.\n",
      "The specified target token `it's` does not exist in the model vocabulary. Replacing with `it`.\n",
      "The specified target token `it's` does not exist in the model vocabulary. Replacing with `it`.\n",
      "The specified target token `it's` does not exist in the model vocabulary. Replacing with `it`.\n",
      "The specified target token `it's` does not exist in the model vocabulary. Replacing with `it`.\n",
      "The specified target token `it's` does not exist in the model vocabulary. Replacing with `it`.\n",
      "The specified target token `it's` does not exist in the model vocabulary. Replacing with `it`.\n",
      "The specified target token `it's` does not exist in the model vocabulary. Replacing with `it`.\n",
      "The specified target token `it's` does not exist in the model vocabulary. Replacing with `it`.\n",
      "The specified target token `it's` does not exist in the model vocabulary. Replacing with `it`.\n",
      "The specified target token `it's` does not exist in the model vocabulary. Replacing with `it`.\n",
      "The specified target token `it's` does not exist in the model vocabulary. Replacing with `it`.\n",
      "The specified target token `corse` does not exist in the model vocabulary. Replacing with `co`.\n",
      "The specified target token `corse` does not exist in the model vocabulary. Replacing with `co`.\n",
      "The specified target token `it's` does not exist in the model vocabulary. Replacing with `it`.\n",
      "The specified target token `it's` does not exist in the model vocabulary. Replacing with `it`.\n",
      "The specified target token `it's` does not exist in the model vocabulary. Replacing with `it`.\n",
      "The specified target token `it's` does not exist in the model vocabulary. Replacing with `it`.\n",
      "The specified target token `it's` does not exist in the model vocabulary. Replacing with `it`.\n",
      "The specified target token `cite` does not exist in the model vocabulary. Replacing with `c`.\n",
      "The specified target token `it's` does not exist in the model vocabulary. Replacing with `it`.\n",
      "The specified target token `provence` does not exist in the model vocabulary. Replacing with `proven`.\n",
      "The specified target token `it's` does not exist in the model vocabulary. Replacing with `it`.\n",
      "The specified target token `it's` does not exist in the model vocabulary. Replacing with `it`.\n",
      "The specified target token `it's` does not exist in the model vocabulary. Replacing with `it`.\n",
      "The specified target token `it's` does not exist in the model vocabulary. Replacing with `it`.\n",
      "The specified target token `it's` does not exist in the model vocabulary. Replacing with `it`.\n",
      "The specified target token `it's` does not exist in the model vocabulary. Replacing with `it`.\n",
      "The specified target token `capitol` does not exist in the model vocabulary. Replacing with `cap`.\n"
     ]
    },
    {
     "name": "stdout",
     "output_type": "stream",
     "text": [
      "d.t.u.d.c.a.a.t.RWSE(begin=806823, end=806828)\n"
     ]
    },
    {
     "name": "stderr",
     "output_type": "stream",
     "text": [
      "The specified target token `it's` does not exist in the model vocabulary. Replacing with `it`.\n",
      "The specified target token `it's` does not exist in the model vocabulary. Replacing with `it`.\n",
      "The specified target token `it's` does not exist in the model vocabulary. Replacing with `it`.\n",
      "The specified target token `manly` does not exist in the model vocabulary. Replacing with `man`.\n",
      "The specified target token `it's` does not exist in the model vocabulary. Replacing with `it`.\n",
      "The specified target token `it's` does not exist in the model vocabulary. Replacing with `it`.\n",
      "The specified target token `it's` does not exist in the model vocabulary. Replacing with `it`.\n",
      "The specified target token `it's` does not exist in the model vocabulary. Replacing with `it`.\n",
      "The specified target token `capitol` does not exist in the model vocabulary. Replacing with `cap`.\n",
      "The specified target token `it's` does not exist in the model vocabulary. Replacing with `it`.\n",
      "The specified target token `it's` does not exist in the model vocabulary. Replacing with `it`.\n",
      "The specified target token `it's` does not exist in the model vocabulary. Replacing with `it`.\n",
      "The specified target token `it's` does not exist in the model vocabulary. Replacing with `it`.\n",
      "The specified target token `it's` does not exist in the model vocabulary. Replacing with `it`.\n",
      "The specified target token `it's` does not exist in the model vocabulary. Replacing with `it`.\n",
      "The specified target token `it's` does not exist in the model vocabulary. Replacing with `it`.\n",
      "The specified target token `it's` does not exist in the model vocabulary. Replacing with `it`.\n",
      "The specified target token `it's` does not exist in the model vocabulary. Replacing with `it`.\n",
      "The specified target token `it's` does not exist in the model vocabulary. Replacing with `it`.\n",
      "The specified target token `it's` does not exist in the model vocabulary. Replacing with `it`.\n",
      "The specified target token `simulate` does not exist in the model vocabulary. Replacing with `si`.\n",
      "The specified target token `it's` does not exist in the model vocabulary. Replacing with `it`.\n",
      "The specified target token `it's` does not exist in the model vocabulary. Replacing with `it`.\n",
      "The specified target token `it's` does not exist in the model vocabulary. Replacing with `it`.\n",
      "The specified target token `it's` does not exist in the model vocabulary. Replacing with `it`.\n",
      "The specified target token `it's` does not exist in the model vocabulary. Replacing with `it`.\n",
      "The specified target token `it's` does not exist in the model vocabulary. Replacing with `it`.\n",
      "The specified target token `it's` does not exist in the model vocabulary. Replacing with `it`.\n",
      "The specified target token `capitol` does not exist in the model vocabulary. Replacing with `cap`.\n",
      "The specified target token `it's` does not exist in the model vocabulary. Replacing with `it`.\n",
      "The specified target token `it's` does not exist in the model vocabulary. Replacing with `it`.\n",
      "The specified target token `it's` does not exist in the model vocabulary. Replacing with `it`.\n",
      "The specified target token `it's` does not exist in the model vocabulary. Replacing with `it`.\n",
      "The specified target token `it's` does not exist in the model vocabulary. Replacing with `it`.\n",
      "The specified target token `it's` does not exist in the model vocabulary. Replacing with `it`.\n",
      "The specified target token `corse` does not exist in the model vocabulary. Replacing with `co`.\n",
      "The specified target token `cite` does not exist in the model vocabulary. Replacing with `c`.\n",
      "The specified target token `it's` does not exist in the model vocabulary. Replacing with `it`.\n",
      "The specified target token `it's` does not exist in the model vocabulary. Replacing with `it`.\n",
      "The specified target token `corse` does not exist in the model vocabulary. Replacing with `co`.\n",
      "The specified target token `it's` does not exist in the model vocabulary. Replacing with `it`.\n",
      "The specified target token `it's` does not exist in the model vocabulary. Replacing with `it`.\n",
      "The specified target token `it's` does not exist in the model vocabulary. Replacing with `it`.\n",
      "The specified target token `it's` does not exist in the model vocabulary. Replacing with `it`.\n",
      "The specified target token `it's` does not exist in the model vocabulary. Replacing with `it`.\n",
      "The specified target token `it's` does not exist in the model vocabulary. Replacing with `it`.\n",
      "The specified target token `it's` does not exist in the model vocabulary. Replacing with `it`.\n",
      "The specified target token `it's` does not exist in the model vocabulary. Replacing with `it`.\n",
      "The specified target token `it's` does not exist in the model vocabulary. Replacing with `it`.\n",
      "The specified target token `it's` does not exist in the model vocabulary. Replacing with `it`.\n",
      "The specified target token `it's` does not exist in the model vocabulary. Replacing with `it`.\n",
      "The specified target token `it's` does not exist in the model vocabulary. Replacing with `it`.\n",
      "The specified target token `it's` does not exist in the model vocabulary. Replacing with `it`.\n",
      "The specified target token `it's` does not exist in the model vocabulary. Replacing with `it`.\n",
      "The specified target token `it's` does not exist in the model vocabulary. Replacing with `it`.\n",
      "The specified target token `it's` does not exist in the model vocabulary. Replacing with `it`.\n",
      "The specified target token `it's` does not exist in the model vocabulary. Replacing with `it`.\n",
      "The specified target token `it's` does not exist in the model vocabulary. Replacing with `it`.\n",
      "The specified target token `it's` does not exist in the model vocabulary. Replacing with `it`.\n",
      "The specified target token `it's` does not exist in the model vocabulary. Replacing with `it`.\n",
      "The specified target token `it's` does not exist in the model vocabulary. Replacing with `it`.\n",
      "The specified target token `it's` does not exist in the model vocabulary. Replacing with `it`.\n",
      "The specified target token `it's` does not exist in the model vocabulary. Replacing with `it`.\n",
      "The specified target token `it's` does not exist in the model vocabulary. Replacing with `it`.\n",
      "The specified target token `it's` does not exist in the model vocabulary. Replacing with `it`.\n",
      "The specified target token `it's` does not exist in the model vocabulary. Replacing with `it`.\n",
      "The specified target token `it's` does not exist in the model vocabulary. Replacing with `it`.\n",
      "The specified target token `cite` does not exist in the model vocabulary. Replacing with `c`.\n",
      "The specified target token `it's` does not exist in the model vocabulary. Replacing with `it`.\n",
      "The specified target token `it's` does not exist in the model vocabulary. Replacing with `it`.\n",
      "The specified target token `provence` does not exist in the model vocabulary. Replacing with `proven`.\n",
      "The specified target token `cite` does not exist in the model vocabulary. Replacing with `c`.\n",
      "The specified target token `corse` does not exist in the model vocabulary. Replacing with `co`.\n",
      "The specified target token `corse` does not exist in the model vocabulary. Replacing with `co`.\n",
      "The specified target token `it's` does not exist in the model vocabulary. Replacing with `it`.\n",
      "The specified target token `it's` does not exist in the model vocabulary. Replacing with `it`.\n",
      "The specified target token `manly` does not exist in the model vocabulary. Replacing with `man`.\n",
      "The specified target token `it's` does not exist in the model vocabulary. Replacing with `it`.\n",
      "The specified target token `it's` does not exist in the model vocabulary. Replacing with `it`.\n",
      "The specified target token `it's` does not exist in the model vocabulary. Replacing with `it`.\n",
      "The specified target token `cite` does not exist in the model vocabulary. Replacing with `c`.\n"
     ]
    }
   ],
   "execution_count": 6
  },
  {
   "metadata": {
    "ExecuteTime": {
     "end_time": "2025-01-19T14:50:10.259887Z",
     "start_time": "2025-01-19T14:50:10.243078Z"
    }
   },
   "cell_type": "code",
   "source": [
    "false_positives = cas.select(T_RWSE) # Sofa-String of CAS is assumed to error-free\n",
    "\n",
    "false_positives_transformed = [(token.begin, token.end, cas.sofa_string[token.begin:token.end]) for token in false_positives]\n",
    "\n",
    "for sent in doc.sents:\n",
    "    for token in false_positives_transformed:\n",
    "        if sent.start_char <= token[0] and sent.end_char >= token[1]:\n",
    "            print(sent.text, '[['+token[2]+']]')"
   ],
   "id": "368cb61904b65384",
   "outputs": [
    {
     "name": "stdout",
     "output_type": "stream",
     "text": [
      "After discussions with researchers from Washington, D.C., King chose the Jefferson elm, a disease-resistant species with a sturdy structure currently thriving on the National Mall in the nation’s capitol. [[capitol]]\n",
      "An Officer of the OBE is awarded for distinguished regional or county-wide role in any field, through achievement or service to the community. [[county]]\n",
      "Around that March arrest, Bristol police announced that they had been asked to perform a wellness check on Hernandez the previous week after receiving an anonymous complaint saying Hernandez planned to smash windows at ESPN and at the state capitol. [[capitol]]\n",
      "\"As the county's Destination Management Organisation, we trust in the planning process to ensure a decision that balances all these important factors.\" [[county]]\n",
      "But they are two distinct and separate occurrences. [[they]]\n",
      "Can you cite that CA law? [[cite]]\n",
      "Crowds were entertained by the Broke FMX Motocross Stunt Team, as well as a crowd pleasing display form the Pony club Games. [[form]]\n",
      "Hayley Berg, lead economist at Hopper said the majority of delays are shorter than 15 or 30 minutes, but sometimes it can feel like its longer than what it actually is. [[its]]\n",
      "He added that if copies of the rulings aren’t submitted, he wanted “a thorough explanation of how the motion came to cite cases that do not exist and what role, if any, Mr. Cohen played in drafting or reviewing the motion before it was filed.” [[cite]]\n",
      "Henrico must continue to invest in the most up-to-date resources and infrastructure in its schools, and make sure to do so in both the east and west sides of the county, Rogish said. [[county]]\n",
      "It will be the first ever MMIP Day of Action at the capitol addressing the crisis and solutions for missing or murdered endangered indigenous people. [[capitol]]\n",
      "but you can refer to their to confirm if your local restaurant is open during the Christmas period and what times they are trading. [[their]]\n",
      "Next thing your going to post is that chopping the foreskin of babies isn't a symbol of virtuous enlightenment. [[your]]\n",
      "Now we get to the timeliness — and Novey’s knack for being on theme without ever being too on the nose. [[theme]]\n",
      "Probably not a real good look for you trade demand that you’re posting a pic excited with OBJ being a Raven. [[you]]\n",
      "That's the whole in the end: A single guess provides you with information that you then need to use to narrow down the list of subsequent guesses. [[whole]]\n"
     ]
    }
   ],
   "execution_count": 7
  },
  {
   "metadata": {
    "ExecuteTime": {
     "end_time": "2025-01-19T14:50:10.269328Z",
     "start_time": "2025-01-19T14:50:10.265841Z"
    }
   },
   "cell_type": "code",
   "source": "len(false_positives_transformed)",
   "id": "17d5192cd45b3829",
   "outputs": [
    {
     "data": {
      "text/plain": [
       "16"
      ]
     },
     "execution_count": 8,
     "metadata": {},
     "output_type": "execute_result"
    }
   ],
   "execution_count": 8
  },
  {
   "metadata": {},
   "cell_type": "markdown",
   "source": "#### Analyze members of confusion sets in CAS",
   "id": "299bf38c9237aca2"
  },
  {
   "metadata": {
    "ExecuteTime": {
     "end_time": "2025-01-19T14:50:10.374485Z",
     "start_time": "2025-01-19T14:50:10.319589Z"
    }
   },
   "cell_type": "code",
   "source": [
    "keys = rwse.confusion_sets.keys()\n",
    "\n",
    "key_count = {key: 0 for key in keys}\n",
    "\n",
    "for token in doc:\n",
    "    if token.lemma_ in keys:\n",
    "        key_count[token.lemma_] += 1\n",
    "\n",
    "confusion_set_counts = dict()\n",
    "\n",
    "with open('../data/confusion_sets.csv', 'r') as f:\n",
    "    lines = f.readlines()\n",
    "    for line in lines:\n",
    "        line_cleaned = line.strip()\n",
    "        confusion_set_counts[line_cleaned] = 0\n",
    "        line_split = line_cleaned.split(',')\n",
    "        for key, value in key_count.items():\n",
    "            if key in line_split:\n",
    "                confusion_set_counts[line_cleaned] += value\n",
    "\n",
    "for key, value in confusion_set_counts.items():\n",
    "    print(key, '=', value)"
   ],
   "id": "73f8845b91b6f706",
   "outputs": [
    {
     "name": "stdout",
     "output_type": "stream",
     "text": [
      "accept,except = 28\n",
      "advise,advice = 27\n",
      "affect,effect = 56\n",
      "begin,being = 64\n",
      "bitch,pitch = 10\n",
      "brakes,breaks = 0\n",
      "breath,breadth = 1\n",
      "burrows,borrows = 0\n",
      "capitol,capital = 26\n",
      "cite,sight,site = 47\n",
      "cords,chords = 0\n",
      "corse,course = 37\n",
      "country,county = 126\n",
      "crap,crab = 2\n",
      "dessert,desert = 7\n",
      "ease,easy = 44\n",
      "effects,affects = 0\n",
      "extend,extent = 15\n",
      "feet,feat = 3\n",
      "few,view = 110\n",
      "form,from = 752\n",
      "forth,fourth = 28\n",
      "forums,forms = 0\n",
      "fund,found = 44\n",
      "its,it's = 366\n",
      "lead,led = 124\n",
      "life,live = 178\n",
      "loose,lose = 64\n",
      "mad,made = 2\n",
      "manly,mainly = 8\n",
      "or,ore = 357\n",
      "passed,past = 38\n",
      "peace,piece = 31\n",
      "plane,plain = 11\n",
      "principal,principle = 18\n",
      "provence,province = 6\n",
      "quite,quiet = 33\n",
      "raise,rise = 100\n",
      "safe,save = 62\n",
      "simulate,stimulate = 2\n",
      "spit,split = 10\n",
      "than,then = 366\n",
      "their,there,they = 1513\n",
      "theme,them = 8\n",
      "things,thinks = 0\n",
      "trail,trial = 29\n",
      "tree,three = 151\n",
      "two,too,to = 4756\n",
      "weak,week = 145\n",
      "weather,whether = 46\n",
      "weed,wheat = 2\n",
      "where,were = 131\n",
      "which,witch = 345\n",
      "whole,hole = 29\n",
      "with,width = 1191\n",
      "world,word = 115\n",
      "you,your = 712\n"
     ]
    }
   ],
   "execution_count": 9
  },
  {
   "metadata": {
    "ExecuteTime": {
     "end_time": "2025-01-19T14:50:10.428806Z",
     "start_time": "2025-01-19T14:50:10.426249Z"
    }
   },
   "cell_type": "code",
   "source": "sum(confusion_set_counts.values())",
   "id": "ebf095b9cc73fd5d",
   "outputs": [
    {
     "data": {
      "text/plain": [
       "12376"
      ]
     },
     "execution_count": 10,
     "metadata": {},
     "output_type": "execute_result"
    }
   ],
   "execution_count": 10
  }
 ],
 "metadata": {
  "kernelspec": {
   "display_name": "Python 3",
   "language": "python",
   "name": "python3"
  },
  "language_info": {
   "codemirror_mode": {
    "name": "ipython",
    "version": 2
   },
   "file_extension": ".py",
   "mimetype": "text/x-python",
   "name": "python",
   "nbconvert_exporter": "python",
   "pygments_lexer": "ipython2",
   "version": "2.7.6"
  }
 },
 "nbformat": 4,
 "nbformat_minor": 5
}
