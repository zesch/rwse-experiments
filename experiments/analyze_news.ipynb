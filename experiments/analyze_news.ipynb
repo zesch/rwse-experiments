{
 "cells": [
  {
   "cell_type": "markdown",
   "id": "421a2e9efb7631ae",
   "metadata": {},
   "source": "# Analyze News Corpus"
  },
  {
   "cell_type": "code",
   "id": "initial_id",
   "metadata": {
    "collapsed": true,
    "ExecuteTime": {
     "end_time": "2025-06-04T09:26:03.614012Z",
     "start_time": "2025-06-04T09:25:59.075100Z"
    }
   },
   "source": [
    "from rwse_checker.rwse import RWSE_Checker\n",
    "\n",
    "import os\n",
    "import spacy"
   ],
   "outputs": [
    {
     "name": "stderr",
     "output_type": "stream",
     "text": [
      "/Users/dgardner/GitHub/catalpa-cl/rwse-experiments/.venv/lib/python3.11/site-packages/tqdm/auto.py:21: TqdmWarning: IProgress not found. Please update jupyter and ipywidgets. See https://ipywidgets.readthedocs.io/en/stable/user_install.html\n",
      "  from .autonotebook import tqdm as notebook_tqdm\n"
     ]
    }
   ],
   "execution_count": 3
  },
  {
   "cell_type": "code",
   "id": "a0932c10ebc1e5af",
   "metadata": {
    "ExecuteTime": {
     "end_time": "2025-06-04T09:26:04.551742Z",
     "start_time": "2025-06-04T09:26:03.618678Z"
    }
   },
   "source": [
    "rwse = RWSE_Checker()\n",
    "nlp = spacy.load('en_core_web_sm')"
   ],
   "outputs": [
    {
     "name": "stderr",
     "output_type": "stream",
     "text": [
      "BertForMaskedLM has generative capabilities, as `prepare_inputs_for_generation` is explicitly overwritten. However, it doesn't directly inherit from `GenerationMixin`. From 👉v4.50👈 onwards, `PreTrainedModel` will NOT inherit from `GenerationMixin`, and this model will lose the ability to call `generate` and other related functions.\n",
      "  - If you're using `trust_remote_code=True`, you can get rid of this warning by loading the model with an auto class. See https://huggingface.co/docs/transformers/en/model_doc/auto#auto-classes\n",
      "  - If you are the owner of the model architecture code, please modify your model class such that it inherits from `GenerationMixin` (after `PreTrainedModel`, otherwise you'll get an exception).\n",
      "  - If you are not the owner of the model architecture class, please contact the model code owner to update it.\n",
      "Some weights of the model checkpoint at bert-base-cased were not used when initializing BertForMaskedLM: ['bert.pooler.dense.bias', 'bert.pooler.dense.weight', 'cls.seq_relationship.bias', 'cls.seq_relationship.weight']\n",
      "- This IS expected if you are initializing BertForMaskedLM from the checkpoint of a model trained on another task or with another architecture (e.g. initializing a BertForSequenceClassification model from a BertForPreTraining model).\n",
      "- This IS NOT expected if you are initializing BertForMaskedLM from the checkpoint of a model that you expect to be exactly identical (initializing a BertForSequenceClassification model from a BertForSequenceClassification model).\n",
      "Device set to use cpu\n"
     ]
    }
   ],
   "execution_count": 4
  },
  {
   "metadata": {},
   "cell_type": "markdown",
   "source": "# False-Alarm Rate",
   "id": "18257d228708ab9f"
  },
  {
   "cell_type": "markdown",
   "id": "f1becca5e6105f9f",
   "metadata": {},
   "source": [
    "#### Determine RWSEs"
   ]
  },
  {
   "metadata": {
    "ExecuteTime": {
     "end_time": "2025-06-04T09:38:13.293288Z",
     "start_time": "2025-06-04T09:26:04.559955Z"
    }
   },
   "cell_type": "code",
   "source": [
    "report_file_name = 'output/report_false_positives.csv'\n",
    "input_file_name = 'input/eng_news_2023_10K-masked-sentences.csv'\n",
    "\n",
    "result = dict()\n",
    "\n",
    "if not os.path.exists(report_file_name):\n",
    "\n",
    "    with open('output/false_positives.csv', 'w') as f:\n",
    "        input_file = open(input_file_name, 'r')\n",
    "        for line in input_file.readlines()[1:]: # skip header\n",
    "            confusion_set, target, sentence = line.strip().split('\\t')\n",
    "            matches = 0\n",
    "            rwse.set_confusion_sets([set(confusion_set.split(','))])\n",
    "            suggestion, certainty = rwse.check(target, sentence)\n",
    "\n",
    "            result.setdefault(confusion_set, {'num_sentences':0, 'num_matches':0})\n",
    "            result[confusion_set]['num_sentences'] += 1\n",
    "            if suggestion.lower() != target.lower(): # no case discrimination in RWSE result\n",
    "                result[confusion_set]['num_matches'] += 1\n",
    "                print(f'{target} => {suggestion}' ,f'({certainty:.5f})' , sentence, sep='\\t', file=f)\n",
    "\n",
    "    with open(report_file_name, 'w') as f:\n",
    "        print('confusion_set', 'num_matches', 'num_sentences', sep=';', file=f)\n",
    "        for key in sorted(result.keys()):\n",
    "            print(key, result[key]['num_matches'], result[key]['num_sentences'], sep=';', file=f)\n",
    "else:\n",
    "    with open(report_file_name, 'r') as f:\n",
    "        for line in f.readlines()[1:]:\n",
    "            confusion_set, num_matches, num_sentences = line.strip().split(';')\n",
    "            result[confusion_set] = {'num_matches': int(num_matches), 'num_sentences': int(num_sentences)}\n"
   ],
   "id": "36cab8417d97c174",
   "outputs": [],
   "execution_count": 5
  },
  {
   "cell_type": "markdown",
   "id": "93f59c11ebde61c2",
   "metadata": {},
   "source": "#### Determine false-alarm rate"
  },
  {
   "cell_type": "code",
   "id": "d0b3814b18fa75fe",
   "metadata": {
    "ExecuteTime": {
     "end_time": "2025-06-04T09:38:13.309861Z",
     "start_time": "2025-06-04T09:38:13.307439Z"
    }
   },
   "source": [
    "total = sum(item['num_sentences'] for item in result.values())\n",
    "total_matches = sum(item['num_matches'] for item in result.values())\n",
    "print(f'false-alarm rate: {total_matches/total:.3f}')\n",
    "print(f'falsely identified {total_matches} out of {total}')"
   ],
   "outputs": [
    {
     "name": "stdout",
     "output_type": "stream",
     "text": [
      "false-alarm rate: 0.001\n",
      "falsely identified 13 out of 15960\n"
     ]
    }
   ],
   "execution_count": 6
  },
  {
   "metadata": {},
   "cell_type": "markdown",
   "source": "# Miss Rate",
   "id": "8e6b59f88f5885f8"
  },
  {
   "metadata": {},
   "cell_type": "markdown",
   "source": "#### Determine RWSEs",
   "id": "1a9235c0a8885faa"
  },
  {
   "metadata": {
    "ExecuteTime": {
     "end_time": "2025-06-04T10:26:01.437949Z",
     "start_time": "2025-06-04T09:41:26.039497Z"
    }
   },
   "cell_type": "code",
   "source": [
    "report_file_name = 'output/report_true_positives.csv'\n",
    "input_file_name = 'input/eng_news_2023_10K-masked-sentences.csv'\n",
    "\n",
    "result = dict()\n",
    "\n",
    "if not os.path.exists(report_file_name):\n",
    "\n",
    "    header = ['confusion_set', 'expected', 'target', 'suggestion', 'masked_sentence']\n",
    "    file_false_negatives = open('output/false_negatives.csv', 'w')\n",
    "    print(*header, sep='\\t', file=file_false_negatives)\n",
    "    file_misclassified_positives =  open('output/misclassified_positives.csv', 'w')\n",
    "    print(*header, sep='\\t', file=file_misclassified_positives)\n",
    "\n",
    "    input_file = open(input_file_name, 'r')\n",
    "    for line in input_file.readlines()[1:]: # skip header\n",
    "        confusion_set, expected, sentence = line.strip().split('\\t')\n",
    "        rwse.set_confusion_sets([set(confusion_set.split(','))])\n",
    "        result.setdefault(confusion_set, {'num_sentences':0, 'num_matches':0})\n",
    "        for target in confusion_set.split(','):\n",
    "            if target != expected: # analyze mistakes only\n",
    "                suggestion, certainty = rwse.check(target, sentence)\n",
    "                result[confusion_set]['num_sentences'] += 1\n",
    "\n",
    "                if suggestion.lower() == expected.lower(): # no case discrimination in RWSE result, true positive\n",
    "                    result[confusion_set]['num_matches'] += 1\n",
    "                elif suggestion.lower() == target.lower(): # false negative\n",
    "                    print(confusion_set, expected, target, suggestion, sentence, sep='\\t', file=file_false_negatives)\n",
    "                else: # complete misclassification\n",
    "                    print(confusion_set, expected, target, suggestion, sentence, sep='\\t', file=file_misclassified_positives)\n",
    "\n",
    "    file_false_negatives.close()\n",
    "    file_misclassified_positives.close()\n",
    "\n",
    "    with open(report_file_name, 'w') as f:\n",
    "        print('confusion_set', 'num_matches', 'num_sentences', sep=';', file=f)\n",
    "        for key in sorted(result.keys()):\n",
    "            print(key, result[key]['num_matches'], result[key]['num_sentences'], sep=';', file=f)\n",
    "else:\n",
    "    with open(report_file_name, 'r') as f:\n",
    "        for line in f.readlines()[1:]:\n",
    "            confusion_set, num_matches, num_sentences = line.strip().split(';')\n",
    "            result[confusion_set] = {'num_matches': int(num_matches), 'num_sentences': int(num_sentences)}"
   ],
   "id": "9bf029c3422607bf",
   "outputs": [],
   "execution_count": 11
  },
  {
   "metadata": {},
   "cell_type": "markdown",
   "source": "#### Determine miss rate",
   "id": "61e1c30ee9b760ba"
  },
  {
   "metadata": {
    "ExecuteTime": {
     "end_time": "2025-06-04T09:38:13.352659Z",
     "start_time": "2025-06-04T09:38:13.350314Z"
    }
   },
   "cell_type": "code",
   "source": [
    "total = sum(item['num_sentences'] for item in result.values())\n",
    "total_matches = sum(item['num_matches'] for item in result.values())\n",
    "print(f'miss rate: {(1 - total_matches/total):.3f}')\n",
    "print(f'missed {total - total_matches} out of {total}')"
   ],
   "id": "868df005931189cd",
   "outputs": [
    {
     "name": "stdout",
     "output_type": "stream",
     "text": [
      "miss rate: 0.005\n",
      "missed 312 out of 60632\n"
     ]
    }
   ],
   "execution_count": 9
  },
  {
   "metadata": {},
   "cell_type": "markdown",
   "source": "# Total Results",
   "id": "659697eb2f72d0b1"
  },
  {
   "metadata": {
    "ExecuteTime": {
     "end_time": "2025-06-04T14:31:05.280782Z",
     "start_time": "2025-06-04T14:31:03.030855Z"
    }
   },
   "cell_type": "code",
   "source": [
    "from helper import calculate_accuracy, calculate_miss_rate, calculate_false_alarm_rate\n",
    "\n",
    "file_false_positives = 'output/report_false_positives.csv'\n",
    "file_true_positives = 'output/report_true_positives.csv'\n",
    "\n",
    "far = calculate_false_alarm_rate(file_false_positives)\n",
    "mr = calculate_miss_rate(file_true_positives)\n",
    "acc = calculate_accuracy(file_false_positives, file_true_positives)\n",
    "\n",
    "print(f\"false alarm rate: {far:.3f}\") #false alarm rate: 0.001\n",
    "print(f\"miss rate: {mr:.3f}\") #miss rate: 0.005\n",
    "print(f\"accuracy: {acc:.3f}\") #accuracy: 0.996"
   ],
   "id": "f448f4256af22765",
   "outputs": [
    {
     "name": "stderr",
     "output_type": "stream",
     "text": [
      "/Users/dgardner/GitHub/catalpa-cl/rwse-experiments/.venv/lib/python3.11/site-packages/tqdm/auto.py:21: TqdmWarning: IProgress not found. Please update jupyter and ipywidgets. See https://ipywidgets.readthedocs.io/en/stable/user_install.html\n",
      "  from .autonotebook import tqdm as notebook_tqdm\n"
     ]
    },
    {
     "name": "stdout",
     "output_type": "stream",
     "text": [
      "false alarm rate: 0.001\n",
      "miss rate: 0.005\n",
      "accuracy: 0.996\n"
     ]
    }
   ],
   "execution_count": 1
  },
  {
   "metadata": {},
   "cell_type": "code",
   "outputs": [],
   "execution_count": null,
   "source": "",
   "id": "75d432692c9153a6"
  }
 ],
 "metadata": {
  "kernelspec": {
   "display_name": ".venv",
   "language": "python",
   "name": "python3"
  },
  "language_info": {
   "codemirror_mode": {
    "name": "ipython",
    "version": 3
   },
   "file_extension": ".py",
   "mimetype": "text/x-python",
   "name": "python",
   "nbconvert_exporter": "python",
   "pygments_lexer": "ipython3",
   "version": "3.11.10"
  }
 },
 "nbformat": 4,
 "nbformat_minor": 5
}
