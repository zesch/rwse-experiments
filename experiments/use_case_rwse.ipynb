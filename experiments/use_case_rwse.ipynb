{
 "cells": [
  {
   "cell_type": "code",
   "id": "initial_id",
   "metadata": {
    "collapsed": true,
    "ExecuteTime": {
     "end_time": "2025-03-30T17:47:49.380674Z",
     "start_time": "2025-03-30T17:47:49.370031Z"
    }
   },
   "source": [
    "from cas_visualizer.visualizer import SpacySpanVisualiser\n",
    "from IPython.display import display, HTML\n",
    "\n",
    "import spacy\n",
    "import cassis\n",
    "from rwse import RWSE_Checker"
   ],
   "outputs": [],
   "execution_count": 42
  },
  {
   "metadata": {
    "ExecuteTime": {
     "end_time": "2025-03-30T17:47:50.583636Z",
     "start_time": "2025-03-30T17:47:49.411814Z"
    }
   },
   "cell_type": "code",
   "source": [
    "rwse = RWSE_Checker()\n",
    "rwse.set_confusion_sets('input/confusion_sets_modified.csv')"
   ],
   "id": "c09dee8ed3c9476",
   "outputs": [
    {
     "name": "stderr",
     "output_type": "stream",
     "text": [
      "Some weights of the model checkpoint at bert-base-cased were not used when initializing BertForMaskedLM: ['bert.pooler.dense.bias', 'bert.pooler.dense.weight', 'cls.seq_relationship.bias', 'cls.seq_relationship.weight']\n",
      "- This IS expected if you are initializing BertForMaskedLM from the checkpoint of a model trained on another task or with another architecture (e.g. initializing a BertForSequenceClassification model from a BertForPreTraining model).\n",
      "- This IS NOT expected if you are initializing BertForMaskedLM from the checkpoint of a model that you expect to be exactly identical (initializing a BertForSequenceClassification model from a BertForSequenceClassification model).\n",
      "Device set to use cpu\n"
     ]
    }
   ],
   "execution_count": 43
  },
  {
   "metadata": {
    "ExecuteTime": {
     "end_time": "2025-03-30T17:47:50.870739Z",
     "start_time": "2025-03-30T17:47:50.587191Z"
    }
   },
   "cell_type": "code",
   "source": [
    "ts_file = 'input/TypeSystem.xml'\n",
    "with open(ts_file, 'rb') as f:\n",
    "    ts = cassis.load_typesystem(f)\n",
    "\n",
    "\n",
    "T_SENTENCE = 'de.tudarmstadt.ukp.dkpro.core.api.segmentation.type.Sentence'\n",
    "T_RWSE = 'de.tudarmstadt.ukp.dkpro.core.api.anomaly.type.RWSE'\n",
    "T_TOKEN = 'de.tudarmstadt.ukp.dkpro.core.api.segmentation.type.Token'\n",
    "\n",
    "S = ts.get_type(T_SENTENCE)\n",
    "T = ts.get_type(T_TOKEN)\n",
    "\n",
    "cas = cassis.Cas(ts)\n",
    "\n",
    "input_file = 'input/use_case_example_modified.txt'\n",
    "with open(input_file, 'r') as f:\n",
    "    cas.sofa_string = f.readlines()[0]\n",
    "\n",
    "#cas.sofa_string = \"If you want to embed an HTML page with JavaScript on your page now, the easiest thing to do is to save your HTML file to the directory with your notebook and then load the HTML as follows:\"\n",
    "\n",
    "nlp = spacy.load(\"en_core_web_sm\")\n",
    "doc = nlp(cas.sofa_string)\n",
    "for sent in doc.sents:\n",
    "    cas_sentence = S(begin=sent.start_char, end=sent.end_char)\n",
    "    cas.add(cas_sentence)\n",
    "for token in doc:\n",
    "    cas_token = T(begin=token.idx, end=token.idx+len(token.text), id=token.i)\n",
    "    cas.add(cas_token)\n",
    "\n",
    "def check_for_rwse(magnitude):\n",
    "    for annotation in cas.select(T_RWSE):\n",
    "        cas.remove(annotation)\n",
    "    rwse.check_cas(cas, ts, magnitude)\n",
    "\n",
    "    print('magnitude:', magnitude, 'found:', len(cas.select(T_RWSE)))\n",
    "    print(sorted([(x.begin, x.end, x.get_covered_text()) for x in cas.select(T_RWSE)]))\n",
    "\n",
    "    spacy_span_vis = SpacySpanVisualiser(cas, [])\n",
    "\n",
    "    spacy_span_vis.set_selected_annotations_to_types({\n",
    "        'RWSE': T_RWSE,\n",
    "    })\n",
    "    spacy_span_vis.set_annotations_to_colors({\n",
    "        'RWSE': 'lightgreen',\n",
    "    })\n",
    "    spacy_span_vis.set_span_type(SpacySpanVisualiser.SPAN_STYLE_HIGHLIGHTING)\n",
    "    spacy_span_vis.set_allow_highlighting_overlap(True)\n",
    "    return spacy_span_vis.visualise()"
   ],
   "id": "4033ae075c8eb62c",
   "outputs": [],
   "execution_count": 44
  },
  {
   "metadata": {
    "ExecuteTime": {
     "end_time": "2025-03-30T17:47:54.501013Z",
     "start_time": "2025-03-30T17:47:50.875577Z"
    }
   },
   "cell_type": "code",
   "source": "html_list = [check_for_rwse(i) for i in [1, 10, 20, 100]]",
   "id": "d0732c48ece17303",
   "outputs": [
    {
     "name": "stdout",
     "output_type": "stream",
     "text": [
      "magnitude: 1 found: 5\n",
      "[(59, 63, 'from'), (261, 265, 'Your'), (488, 491, 'you'), (579, 583, 'your'), (928, 932, 'live')]\n",
      "magnitude: 10 found: 3\n",
      "[(261, 265, 'Your'), (488, 491, 'you'), (579, 583, 'your')]\n",
      "magnitude: 20 found: 3\n",
      "[(261, 265, 'Your'), (488, 491, 'you'), (579, 583, 'your')]\n",
      "magnitude: 100 found: 3\n",
      "[(261, 265, 'Your'), (488, 491, 'you'), (579, 583, 'your')]\n"
     ]
    }
   ],
   "execution_count": 45
  },
  {
   "metadata": {
    "ExecuteTime": {
     "end_time": "2025-03-30T17:47:54.509655Z",
     "start_time": "2025-03-30T17:47:54.506615Z"
    }
   },
   "cell_type": "code",
   "source": "display(HTML(html_list[0]))",
   "id": "20c179689c9e5b69",
   "outputs": [
    {
     "data": {
      "text/plain": [
       "<IPython.core.display.HTML object>"
      ],
      "text/html": [
       "\n",
       "<div class=\"entities\" style=\"line-height: 2.5; direction: ltr\">[She] was referred to Medical Admissions Unit (MAU) on the \n",
       "<mark class=\"entity\" style=\"background: lightgreen; padding: 0.45em 0.6em; margin: 0 0.25em; line-height: 1; border-radius: 0.35em;\">\n",
       "    from\n",
       "    <span style=\"font-size: 0.8em; font-weight: bold; line-height: 1; border-radius: 0.35em; vertical-align: middle; margin-left: 0.5rem\">RWSE</span>\n",
       "</mark>\n",
       " his General Practitioner (GP) due to recurrent chest infections and a reduced response to antibiotics . had a productive cough that was not improving following three courses of antibiotics . [...] \n",
       "<mark class=\"entity\" style=\"background: lightgreen; padding: 0.45em 0.6em; margin: 0 0.25em; line-height: 1; border-radius: 0.35em;\">\n",
       "    Your\n",
       "    <span style=\"font-size: 0.8em; font-weight: bold; line-height: 1; border-radius: 0.35em; vertical-align: middle; margin-left: 0.5rem\">RWSE</span>\n",
       "</mark>\n",
       " have had a number of infections over the last year , which have in the past responded to antibiotics . [...] We would therefore also like to give you a blood transfusion , as you have had in the past , to try and increase \n",
       "<mark class=\"entity\" style=\"background: lightgreen; padding: 0.45em 0.6em; margin: 0 0.25em; line-height: 1; border-radius: 0.35em;\">\n",
       "    you\n",
       "    <span style=\"font-size: 0.8em; font-weight: bold; line-height: 1; border-radius: 0.35em; vertical-align: middle; margin-left: 0.5rem\">RWSE</span>\n",
       "</mark>\n",
       " haemoglobin levels . [...] We will refer to back to the care of your haematologist who \n",
       "<mark class=\"entity\" style=\"background: lightgreen; padding: 0.45em 0.6em; margin: 0 0.25em; line-height: 1; border-radius: 0.35em;\">\n",
       "    your\n",
       "    <span style=\"font-size: 0.8em; font-weight: bold; line-height: 1; border-radius: 0.35em; vertical-align: middle; margin-left: 0.5rem\">RWSE</span>\n",
       "</mark>\n",
       " have outpatient appointments with and inform her about what has been happening '' . [...] The most common symptoms in those patients who have symptoms at the time of diagnosis include weakness , fatigue , night sweats or proneness to repeated infections . On examination , such patients may have enlarged , non-tender lymph nodes , an enlarged \n",
       "<mark class=\"entity\" style=\"background: lightgreen; padding: 0.45em 0.6em; margin: 0 0.25em; line-height: 1; border-radius: 0.35em;\">\n",
       "    live\n",
       "    <span style=\"font-size: 0.8em; font-weight: bold; line-height: 1; border-radius: 0.35em; vertical-align: middle; margin-left: 0.5rem\">RWSE</span>\n",
       "</mark>\n",
       " and/or spleen .</div>\n"
      ]
     },
     "metadata": {},
     "output_type": "display_data"
    }
   ],
   "execution_count": 46
  },
  {
   "metadata": {},
   "cell_type": "markdown",
   "source": "### Modify CAS annotations",
   "id": "534e8164b34f24c4"
  },
  {
   "metadata": {
    "ExecuteTime": {
     "end_time": "2025-03-30T17:47:55.999498Z",
     "start_time": "2025-03-30T17:47:54.520146Z"
    }
   },
   "cell_type": "code",
   "source": [
    "#[(59, 63, 'from'), (261, 265, 'Your'), (488, 491, 'you'), (579, 583, 'your'), (928, 932, 'live')]\n",
    "ts_file = 'input/TypeSystem.xml'\n",
    "with open(ts_file, 'rb') as f:\n",
    "    mod_ts = cassis.load_typesystem(f)\n",
    "\n",
    "\n",
    "T_SENTENCE = 'de.tudarmstadt.ukp.dkpro.core.api.segmentation.type.Sentence'\n",
    "T_RWSE = 'de.tudarmstadt.ukp.dkpro.core.api.anomaly.type.RWSE'\n",
    "T_TOKEN = 'de.tudarmstadt.ukp.dkpro.core.api.segmentation.type.Token'\n",
    "\n",
    "mod_ts.create_type('custom_1', T_RWSE)\n",
    "C1 = mod_ts.get_type('custom_1')\n",
    "mod_ts.create_type('custom_st100', T_RWSE)\n",
    "C_st100 = mod_ts.get_type('custom_st100')\n",
    "mod_ts.create_type('custom_all', T_RWSE)\n",
    "C_all = mod_ts.get_type('custom_all')\n",
    "mod_cas = cassis.Cas(mod_ts)\n",
    "\n",
    "input_file = 'input/use_case_example_modified.txt'\n",
    "with open(input_file, 'r') as f:\n",
    "    mod_cas.sofa_string = f.readlines()[0]\n",
    "\n",
    "#cas.sofa_string = \"If you want to embed an HTML page with JavaScript on your page now, the easiest thing to do is to save your HTML file to the directory with your notebook and then load the HTML as follows:\"\n",
    "\n",
    "nlp = spacy.load(\"en_core_web_sm\")\n",
    "doc = nlp(mod_cas.sofa_string)\n",
    "for sent in doc.sents:\n",
    "    cas_sentence = S(begin=sent.start_char, end=sent.end_char)\n",
    "    mod_cas.add(cas_sentence)\n",
    "for token in doc:\n",
    "    cas_token = T(begin=token.idx, end=token.idx+len(token.text), id=token.i)\n",
    "    mod_cas.add(cas_token)\n",
    "\n",
    "rwse.check_cas(mod_cas, ts, 1)\n",
    "\n",
    "for annotation in mod_cas.select(T_RWSE):\n",
    "    if annotation.begin < 70:\n",
    "        custom = C1(begin=annotation.begin, end=annotation.end)\n",
    "        mod_cas.add(custom)\n",
    "    elif annotation.begin > 900:\n",
    "        custom = C_st100(begin=annotation.begin, end=annotation.end)\n",
    "        mod_cas.add(custom)\n",
    "    else:\n",
    "        custom = C_all(begin=annotation.begin, end=annotation.end)\n",
    "        mod_cas.add(custom)\n",
    "\n",
    "spacy_span_vis = SpacySpanVisualiser(mod_cas, [])\n",
    "\n",
    "spacy_span_vis.set_selected_annotations_to_types({\n",
    "    '1': C1,\n",
    "    '1,10,20': C_st100,\n",
    "    'ALL': C_all,\n",
    "})\n",
    "\n",
    "spacy_span_vis.set_annotations_to_colors({\n",
    "    '1': 'palegreen',#'#0DF5B3',\n",
    "    '1,10,20': 'lightgreen',#'#0AC590',\n",
    "    'ALL': 'limegreen',#'#078A65',\n",
    "})\n",
    "spacy_span_vis.set_span_type(SpacySpanVisualiser.SPAN_STYLE_HIGHLIGHTING)\n",
    "spacy_span_vis.set_allow_highlighting_overlap(True)\n",
    "html = spacy_span_vis.visualise()"
   ],
   "id": "c916d3c02f468387",
   "outputs": [],
   "execution_count": 47
  },
  {
   "metadata": {
    "ExecuteTime": {
     "end_time": "2025-03-30T17:47:56.005061Z",
     "start_time": "2025-03-30T17:47:56.002921Z"
    }
   },
   "cell_type": "code",
   "source": "display(HTML(html))",
   "id": "715de250e2d56abe",
   "outputs": [
    {
     "data": {
      "text/plain": [
       "<IPython.core.display.HTML object>"
      ],
      "text/html": [
       "\n",
       "<div class=\"entities\" style=\"line-height: 2.5; direction: ltr\">[She] was referred to Medical Admissions Unit (MAU) on the \n",
       "<mark class=\"entity\" style=\"background: palegreen; padding: 0.45em 0.6em; margin: 0 0.25em; line-height: 1; border-radius: 0.35em;\">\n",
       "    from\n",
       "    <span style=\"font-size: 0.8em; font-weight: bold; line-height: 1; border-radius: 0.35em; vertical-align: middle; margin-left: 0.5rem\">1</span>\n",
       "</mark>\n",
       " his General Practitioner (GP) due to recurrent chest infections and a reduced response to antibiotics . had a productive cough that was not improving following three courses of antibiotics . [...] \n",
       "<mark class=\"entity\" style=\"background: limegreen; padding: 0.45em 0.6em; margin: 0 0.25em; line-height: 1; border-radius: 0.35em;\">\n",
       "    Your\n",
       "    <span style=\"font-size: 0.8em; font-weight: bold; line-height: 1; border-radius: 0.35em; vertical-align: middle; margin-left: 0.5rem\">ALL</span>\n",
       "</mark>\n",
       " have had a number of infections over the last year , which have in the past responded to antibiotics . [...] We would therefore also like to give you a blood transfusion , as you have had in the past , to try and increase \n",
       "<mark class=\"entity\" style=\"background: limegreen; padding: 0.45em 0.6em; margin: 0 0.25em; line-height: 1; border-radius: 0.35em;\">\n",
       "    you\n",
       "    <span style=\"font-size: 0.8em; font-weight: bold; line-height: 1; border-radius: 0.35em; vertical-align: middle; margin-left: 0.5rem\">ALL</span>\n",
       "</mark>\n",
       " haemoglobin levels . [...] We will refer to back to the care of your haematologist who \n",
       "<mark class=\"entity\" style=\"background: limegreen; padding: 0.45em 0.6em; margin: 0 0.25em; line-height: 1; border-radius: 0.35em;\">\n",
       "    your\n",
       "    <span style=\"font-size: 0.8em; font-weight: bold; line-height: 1; border-radius: 0.35em; vertical-align: middle; margin-left: 0.5rem\">ALL</span>\n",
       "</mark>\n",
       " have outpatient appointments with and inform her about what has been happening '' . [...] The most common symptoms in those patients who have symptoms at the time of diagnosis include weakness , fatigue , night sweats or proneness to repeated infections . On examination , such patients may have enlarged , non-tender lymph nodes , an enlarged \n",
       "<mark class=\"entity\" style=\"background: lightgreen; padding: 0.45em 0.6em; margin: 0 0.25em; line-height: 1; border-radius: 0.35em;\">\n",
       "    live\n",
       "    <span style=\"font-size: 0.8em; font-weight: bold; line-height: 1; border-radius: 0.35em; vertical-align: middle; margin-left: 0.5rem\">1,10,20</span>\n",
       "</mark>\n",
       " and/or spleen .</div>\n"
      ]
     },
     "metadata": {},
     "output_type": "display_data"
    }
   ],
   "execution_count": 48
  },
  {
   "metadata": {
    "ExecuteTime": {
     "end_time": "2025-03-30T17:47:56.014082Z",
     "start_time": "2025-03-30T17:47:56.012413Z"
    }
   },
   "cell_type": "code",
   "source": "",
   "id": "b7c13fe71baef15b",
   "outputs": [],
   "execution_count": null
  }
 ],
 "metadata": {
  "kernelspec": {
   "display_name": "Python 3",
   "language": "python",
   "name": "python3"
  },
  "language_info": {
   "codemirror_mode": {
    "name": "ipython",
    "version": 2
   },
   "file_extension": ".py",
   "mimetype": "text/x-python",
   "name": "python",
   "nbconvert_exporter": "python",
   "pygments_lexer": "ipython2",
   "version": "2.7.6"
  }
 },
 "nbformat": 4,
 "nbformat_minor": 5
}
