{
 "cells": [
  {
   "metadata": {},
   "cell_type": "markdown",
   "source": "### RWSE-Checker: true-positives statistics from filtered corpus",
   "id": "421a2e9efb7631ae"
  },
  {
   "cell_type": "code",
   "id": "initial_id",
   "metadata": {
    "collapsed": true,
    "ExecuteTime": {
     "end_time": "2025-01-21T09:47:59.409433Z",
     "start_time": "2025-01-21T09:47:59.406324Z"
    }
   },
   "source": "from rwse import RWSE_Checker",
   "outputs": [],
   "execution_count": 3
  },
  {
   "metadata": {
    "ExecuteTime": {
     "end_time": "2025-01-21T09:48:00.280289Z",
     "start_time": "2025-01-21T09:47:59.421315Z"
    }
   },
   "cell_type": "code",
   "source": [
    "rwse = RWSE_Checker()\n",
    "rwse.set_confusion_sets('../data/confusion_sets_modified.csv')"
   ],
   "id": "a0932c10ebc1e5af",
   "outputs": [
    {
     "name": "stderr",
     "output_type": "stream",
     "text": [
      "Some weights of the model checkpoint at bert-base-cased were not used when initializing BertForMaskedLM: ['bert.pooler.dense.bias', 'bert.pooler.dense.weight', 'cls.seq_relationship.bias', 'cls.seq_relationship.weight']\n",
      "- This IS expected if you are initializing BertForMaskedLM from the checkpoint of a model trained on another task or with another architecture (e.g. initializing a BertForSequenceClassification model from a BertForPreTraining model).\n",
      "- This IS NOT expected if you are initializing BertForMaskedLM from the checkpoint of a model that you expect to be exactly identical (initializing a BertForSequenceClassification model from a BertForSequenceClassification model).\n",
      "Hardware accelerator e.g. GPU is available in the environment, but no `device` argument is passed to the `Pipeline` object. Model will be on CPU.\n"
     ]
    }
   ],
   "execution_count": 4
  },
  {
   "metadata": {},
   "cell_type": "markdown",
   "source": "#### Read from corpus and collect sentences by confusion sets",
   "id": "b15b220fc4c36fa6"
  },
  {
   "metadata": {
    "ExecuteTime": {
     "end_time": "2025-01-21T09:48:30.732617Z",
     "start_time": "2025-01-21T09:48:00.285363Z"
    }
   },
   "cell_type": "code",
   "source": [
    "with open('../data/eng_news_2023_10K-sentences.txt', 'r') as f:\n",
    "    sentences = f.readlines()\n",
    "\n",
    "sentences_cleaned = [sentence.split('\\t')[1].strip() for sentence in sentences]\n",
    "\n",
    "from util import collect_sentences_by_confusion_sets\n",
    "\n",
    "sentences_by_confusion_sets = collect_sentences_by_confusion_sets(rwse.confusion_sets.values(), sentences_cleaned)\n",
    "\n",
    "total = 0\n",
    "\n",
    "for key, value in sentences_by_confusion_sets.items():\n",
    "    total += len(value)\n",
    "    print(key, '=', len(value))\n",
    "\n",
    "print('total =', total)"
   ],
   "id": "ad7219e32c9680b2",
   "outputs": [
    {
     "name": "stdout",
     "output_type": "stream",
     "text": [
      "accept,except = 20\n",
      "advise,advice = 21\n",
      "affect,effect = 31\n",
      "begin,being = 213\n",
      "bitch,pitch = 7\n",
      "brakes,breaks = 7\n",
      "burrows,borrows = 0\n",
      "sight,site = 29\n",
      "cords,chords = 0\n",
      "country,county = 100\n",
      "crap,crab = 2\n",
      "dessert,desert = 6\n",
      "ease,easy = 30\n",
      "effects,affects = 23\n",
      "extend,extent = 16\n",
      "feet,feat = 21\n",
      "few,view = 103\n",
      "form,from = 839\n",
      "forth,fourth = 33\n",
      "forums,forms = 3\n",
      "fund,found = 115\n",
      "lead,led = 96\n",
      "life,live = 147\n",
      "loose,lose = 20\n",
      "mad,made = 154\n",
      "or,ore = 413\n",
      "passed,past = 80\n",
      "peace,piece = 28\n",
      "plane,plain = 12\n",
      "principal,principle = 13\n",
      "quite,quiet = 37\n",
      "raise,rise = 32\n",
      "safe,save = 48\n",
      "spit,split = 9\n",
      "than,then = 419\n",
      "their,there,they = 1421\n",
      "theme,them = 246\n",
      "things,thinks = 69\n",
      "trail,trial = 27\n",
      "tree,three = 174\n",
      "two,too,to = 4563\n",
      "weak,week = 121\n",
      "weather,whether = 56\n",
      "weed,wheat = 1\n",
      "where,were = 598\n",
      "which,witch = 424\n",
      "whole,hole = 33\n",
      "with,width = 1383\n",
      "world,word = 119\n",
      "you,your = 698\n",
      "total = 13060\n"
     ]
    }
   ],
   "execution_count": 5
  },
  {
   "metadata": {},
   "cell_type": "markdown",
   "source": "#### Switch confusion words in sentences",
   "id": "6449a8578e6ce09a"
  },
  {
   "metadata": {
    "ExecuteTime": {
     "end_time": "2025-01-21T09:50:48.825280Z",
     "start_time": "2025-01-21T09:48:30.737378Z"
    }
   },
   "cell_type": "code",
   "source": [
    "from util import replace_confusion_set_words_in_sentences\n",
    "modified_sentences_by_confusion_sets = replace_confusion_set_words_in_sentences(sentences_by_confusion_sets)\n",
    "total = 0\n",
    "\n",
    "for key, value in modified_sentences_by_confusion_sets.items():\n",
    "    total += len(value)\n",
    "    print(key, '=', len(value))\n",
    "\n",
    "print('total =', total)"
   ],
   "id": "15a303c49b3c3978",
   "outputs": [
    {
     "name": "stdout",
     "output_type": "stream",
     "text": [
      "accept,except = 20\n",
      "advise,advice = 21\n",
      "affect,effect = 32\n",
      "begin,being = 230\n",
      "bitch,pitch = 7\n",
      "brakes,breaks = 7\n",
      "burrows,borrows = 0\n",
      "sight,site = 29\n",
      "cords,chords = 0\n",
      "country,county = 104\n",
      "crap,crab = 2\n",
      "dessert,desert = 6\n",
      "ease,easy = 30\n",
      "effects,affects = 23\n",
      "extend,extent = 16\n",
      "feet,feat = 22\n",
      "few,view = 104\n",
      "form,from = 898\n",
      "forth,fourth = 34\n",
      "forums,forms = 3\n",
      "fund,found = 118\n",
      "lead,led = 100\n",
      "life,live = 153\n",
      "loose,lose = 20\n",
      "mad,made = 156\n",
      "or,ore = 443\n",
      "passed,past = 80\n",
      "peace,piece = 28\n",
      "plane,plain = 13\n",
      "principal,principle = 13\n",
      "quite,quiet = 39\n",
      "raise,rise = 32\n",
      "safe,save = 50\n",
      "spit,split = 9\n",
      "than,then = 435\n",
      "their,there,they = 3730\n",
      "theme,them = 259\n",
      "things,thinks = 69\n",
      "trail,trial = 27\n",
      "tree,three = 176\n",
      "two,too,to = 12638\n",
      "weak,week = 128\n",
      "weather,whether = 56\n",
      "weed,wheat = 1\n",
      "where,were = 671\n",
      "which,witch = 437\n",
      "whole,hole = 33\n",
      "with,width = 1491\n",
      "world,word = 122\n",
      "you,your = 1149\n",
      "total = 24264\n"
     ]
    }
   ],
   "execution_count": 6
  },
  {
   "metadata": {},
   "cell_type": "markdown",
   "source": "#### Determine RWSEs",
   "id": "f1becca5e6105f9f"
  },
  {
   "metadata": {
    "ExecuteTime": {
     "end_time": "2025-01-21T11:38:46.297963Z",
     "start_time": "2025-01-21T11:38:46.019443Z"
    }
   },
   "cell_type": "code",
   "source": [
    "from cassis import Cas, load_typesystem\n",
    "import spacy\n",
    "\n",
    "T_SENTENCE = 'de.tudarmstadt.ukp.dkpro.core.api.segmentation.type.Sentence'\n",
    "T_RWSE = 'de.tudarmstadt.ukp.dkpro.core.api.anomaly.type.RWSE'\n",
    "T_TOKEN = 'de.tudarmstadt.ukp.dkpro.core.api.segmentation.type.Token'\n",
    "\n",
    "nlp = spacy.load('en_core_web_sm')\n",
    "\n",
    "path = '../data/TypeSystem.xml'\n",
    "\n",
    "with open(path, 'rb') as f:\n",
    "    ts = load_typesystem(f)\n",
    "\n",
    "S = ts.get_type(T_SENTENCE)\n",
    "T = ts.get_type(T_TOKEN)\n",
    "\n",
    "result = dict()"
   ],
   "id": "bd85a1d549b23ece",
   "outputs": [],
   "execution_count": 14
  },
  {
   "metadata": {
    "ExecuteTime": {
     "end_time": "2025-01-21T12:06:25.685903Z",
     "start_time": "2025-01-21T11:38:48.188670Z"
    }
   },
   "cell_type": "code",
   "source": [
    "result = dict()\n",
    "for confusion_set, sentences in modified_sentences_by_confusion_sets.items():\n",
    "    rwse.set_confusion_sets([set(confusion_set.split(','))])\n",
    "    matches = 0\n",
    "    for sentence in sentences:\n",
    "        cas = Cas(ts)\n",
    "        # TODO clean sentence?\n",
    "        cas.sofa_string = sentence\n",
    "        doc = nlp(cas.sofa_string)\n",
    "        cas_sentence = S(begin=0, end=len(sentence))\n",
    "        cas.add(cas_sentence)\n",
    "        for token in doc:\n",
    "            cas_token = T(begin=token.idx, end=token.idx+len(token.text), id=token.i)\n",
    "            cas.add(cas_token)\n",
    "        rwse.check_cas(cas, ts)\n",
    "        true_positives = cas.select(T_RWSE)\n",
    "        if len(true_positives) == 0:\n",
    "            with open('../experiments/data/true_positives_missed.csv', 'a') as f:\n",
    "                print(confusion_set, cas.sofa_string, sep='\\t', file=f)\n",
    "        else:\n",
    "            matches += 1\n",
    "    result[confusion_set] = {\n",
    "        'num_sentences':len(sentences),\n",
    "        'num_matches':matches,\n",
    "    }"
   ],
   "id": "2db82ca79085232b",
   "outputs": [],
   "execution_count": 15
  },
  {
   "metadata": {},
   "cell_type": "markdown",
   "source": "#### Determine true-positive rate",
   "id": "29a6fd7cf07758cf"
  },
  {
   "metadata": {
    "ExecuteTime": {
     "end_time": "2025-01-21T12:07:02.034791Z",
     "start_time": "2025-01-21T12:07:02.031989Z"
    }
   },
   "cell_type": "code",
   "source": [
    "total = sum(item['num_sentences'] for item in result.values())\n",
    "total_matches = sum(item['num_matches'] for item in result.values())\n",
    "print(f'true positive rate: {total_matches/total:.2f}')\n",
    "print(f'correctly identified {total_matches} out of {total}')"
   ],
   "id": "5ee3249bf547ef32",
   "outputs": [
    {
     "name": "stdout",
     "output_type": "stream",
     "text": [
      "true positive rate: 0.99\n",
      "correctly identified 23917 out of 24264\n"
     ]
    }
   ],
   "execution_count": 16
  },
  {
   "metadata": {
    "ExecuteTime": {
     "end_time": "2025-01-21T12:07:29.869657Z",
     "start_time": "2025-01-21T12:07:29.866109Z"
    }
   },
   "cell_type": "code",
   "source": [
    "for key, value in result.items():\n",
    "    if value['num_matches'] != value['num_sentences']:\n",
    "        print(key, value, sep='\\t')"
   ],
   "id": "c37fb05a0467ea",
   "outputs": [
    {
     "name": "stdout",
     "output_type": "stream",
     "text": [
      "accept,except\t{'num_sentences': 20, 'num_matches': 19}\n",
      "affect,effect\t{'num_sentences': 32, 'num_matches': 30}\n",
      "sight,site\t{'num_sentences': 29, 'num_matches': 28}\n",
      "country,county\t{'num_sentences': 104, 'num_matches': 90}\n",
      "crap,crab\t{'num_sentences': 2, 'num_matches': 1}\n",
      "ease,easy\t{'num_sentences': 30, 'num_matches': 29}\n",
      "feet,feat\t{'num_sentences': 22, 'num_matches': 21}\n",
      "form,from\t{'num_sentences': 898, 'num_matches': 893}\n",
      "fund,found\t{'num_sentences': 118, 'num_matches': 116}\n",
      "lead,led\t{'num_sentences': 100, 'num_matches': 96}\n",
      "life,live\t{'num_sentences': 153, 'num_matches': 147}\n",
      "loose,lose\t{'num_sentences': 20, 'num_matches': 19}\n",
      "passed,past\t{'num_sentences': 80, 'num_matches': 79}\n",
      "peace,piece\t{'num_sentences': 28, 'num_matches': 27}\n",
      "plane,plain\t{'num_sentences': 13, 'num_matches': 12}\n",
      "principal,principle\t{'num_sentences': 13, 'num_matches': 12}\n",
      "raise,rise\t{'num_sentences': 32, 'num_matches': 27}\n",
      "safe,save\t{'num_sentences': 50, 'num_matches': 49}\n",
      "than,then\t{'num_sentences': 435, 'num_matches': 427}\n",
      "their,there,they\t{'num_sentences': 3730, 'num_matches': 3614}\n",
      "theme,them\t{'num_sentences': 259, 'num_matches': 257}\n",
      "things,thinks\t{'num_sentences': 69, 'num_matches': 68}\n",
      "trail,trial\t{'num_sentences': 27, 'num_matches': 25}\n",
      "tree,three\t{'num_sentences': 176, 'num_matches': 175}\n",
      "two,too,to\t{'num_sentences': 12638, 'num_matches': 12595}\n",
      "weak,week\t{'num_sentences': 128, 'num_matches': 126}\n",
      "where,were\t{'num_sentences': 671, 'num_matches': 661}\n",
      "whole,hole\t{'num_sentences': 33, 'num_matches': 32}\n",
      "world,word\t{'num_sentences': 122, 'num_matches': 118}\n",
      "you,your\t{'num_sentences': 1149, 'num_matches': 1041}\n"
     ]
    }
   ],
   "execution_count": 17
  }
 ],
 "metadata": {
  "kernelspec": {
   "display_name": "Python 3",
   "language": "python",
   "name": "python3"
  },
  "language_info": {
   "codemirror_mode": {
    "name": "ipython",
    "version": 2
   },
   "file_extension": ".py",
   "mimetype": "text/x-python",
   "name": "python",
   "nbconvert_exporter": "python",
   "pygments_lexer": "ipython2",
   "version": "2.7.6"
  }
 },
 "nbformat": 4,
 "nbformat_minor": 5
}
