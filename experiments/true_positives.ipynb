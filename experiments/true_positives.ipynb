{
 "cells": [
  {
   "cell_type": "markdown",
   "id": "421a2e9efb7631ae",
   "metadata": {},
   "source": [
    "### RWSE-Checker: true-positives statistics from filtered corpus"
   ]
  },
  {
   "cell_type": "code",
   "execution_count": 2,
   "id": "initial_id",
   "metadata": {
    "ExecuteTime": {
     "end_time": "2025-01-21T13:20:25.679350Z",
     "start_time": "2025-01-21T13:20:24.500927Z"
    },
    "collapsed": true
   },
   "outputs": [
    {
     "name": "stderr",
     "output_type": "stream",
     "text": [
      "/Users/zesch/git/experiments/rwse-experiments/.venv/lib/python3.11/site-packages/tqdm/auto.py:21: TqdmWarning: IProgress not found. Please update jupyter and ipywidgets. See https://ipywidgets.readthedocs.io/en/stable/user_install.html\n",
      "  from .autonotebook import tqdm as notebook_tqdm\n"
     ]
    }
   ],
   "source": [
    "from rwse import RWSE_Checker"
   ]
  },
  {
   "cell_type": "code",
   "execution_count": 3,
   "id": "a0932c10ebc1e5af",
   "metadata": {
    "ExecuteTime": {
     "end_time": "2025-01-21T13:20:26.326240Z",
     "start_time": "2025-01-21T13:20:25.683339Z"
    }
   },
   "outputs": [
    {
     "name": "stderr",
     "output_type": "stream",
     "text": [
      "Some weights of the model checkpoint at bert-base-cased were not used when initializing BertForMaskedLM: ['bert.pooler.dense.bias', 'bert.pooler.dense.weight', 'cls.seq_relationship.bias', 'cls.seq_relationship.weight']\n",
      "- This IS expected if you are initializing BertForMaskedLM from the checkpoint of a model trained on another task or with another architecture (e.g. initializing a BertForSequenceClassification model from a BertForPreTraining model).\n",
      "- This IS NOT expected if you are initializing BertForMaskedLM from the checkpoint of a model that you expect to be exactly identical (initializing a BertForSequenceClassification model from a BertForSequenceClassification model).\n",
      "/Users/zesch/git/experiments/rwse-experiments/.venv/lib/python3.11/site-packages/transformers/tokenization_utils_base.py:1601: FutureWarning: `clean_up_tokenization_spaces` was not set. It will be set to `True` by default. This behavior will be depracted in transformers v4.45, and will be then set to `False` by default. For more details check this issue: https://github.com/huggingface/transformers/issues/31884\n",
      "  warnings.warn(\n",
      "Hardware accelerator e.g. GPU is available in the environment, but no `device` argument is passed to the `Pipeline` object. Model will be on CPU.\n"
     ]
    }
   ],
   "source": [
    "rwse = RWSE_Checker()\n",
    "rwse.set_confusion_sets('input/confusion_sets_modified.csv')"
   ]
  },
  {
   "cell_type": "markdown",
   "id": "b15b220fc4c36fa6",
   "metadata": {},
   "source": [
    "#### Read from corpus and collect sentences by confusion sets"
   ]
  },
  {
   "cell_type": "code",
   "execution_count": 4,
   "id": "ad7219e32c9680b2",
   "metadata": {
    "ExecuteTime": {
     "end_time": "2025-01-21T13:20:58.079352Z",
     "start_time": "2025-01-21T13:20:26.413733Z"
    }
   },
   "outputs": [
    {
     "name": "stdout",
     "output_type": "stream",
     "text": [
      "accept,except = 20\n",
      "advise,advice = 21\n",
      "affect,effect = 31\n",
      "begin,being = 213\n",
      "bitch,pitch = 7\n",
      "brakes,breaks = 7\n",
      "burrows,borrows = 0\n",
      "sight,site = 29\n",
      "cords,chords = 0\n",
      "country,county = 100\n",
      "crap,crab = 2\n",
      "dessert,desert = 6\n",
      "ease,easy = 30\n",
      "effects,affects = 23\n",
      "extend,extent = 16\n",
      "feet,feat = 21\n",
      "few,view = 103\n",
      "form,from = 839\n",
      "forth,fourth = 33\n",
      "forums,forms = 3\n",
      "fund,found = 115\n",
      "lead,led = 96\n",
      "life,live = 147\n",
      "loose,lose = 20\n",
      "mad,made = 154\n",
      "or,ore = 413\n",
      "passed,past = 80\n",
      "peace,piece = 28\n",
      "plane,plain = 12\n",
      "principal,principle = 13\n",
      "quite,quiet = 37\n",
      "raise,rise = 32\n",
      "safe,save = 48\n",
      "spit,split = 9\n",
      "than,then = 419\n",
      "their,there,they = 1421\n",
      "theme,them = 246\n",
      "things,thinks = 69\n",
      "trail,trial = 27\n",
      "tree,three = 174\n",
      "two,too,to = 4563\n",
      "weak,week = 121\n",
      "weather,whether = 56\n",
      "weed,wheat = 1\n",
      "where,were = 598\n",
      "which,witch = 424\n",
      "whole,hole = 33\n",
      "with,width = 1383\n",
      "world,word = 119\n",
      "you,your = 698\n",
      "total = 13060\n"
     ]
    }
   ],
   "source": [
    "from util import collect_sentences_by_confusion_sets\n",
    "\n",
    "with open('input/eng_news_2023_10K-sentences.txt', 'r') as f:\n",
    "    sentences = f.readlines()\n",
    "\n",
    "sentences_cleaned = [sentence.split('\\t')[1].strip() for sentence in sentences]\n",
    "\n",
    "sentences_by_confusion_sets = collect_sentences_by_confusion_sets(rwse.confusion_sets.values(), sentences_cleaned)\n",
    "\n",
    "total = 0\n",
    "for key, value in sentences_by_confusion_sets.items():\n",
    "    total += len(value)\n",
    "    print(key, '=', len(value))\n",
    "\n",
    "print('total =', total)"
   ]
  },
  {
   "cell_type": "markdown",
   "id": "6449a8578e6ce09a",
   "metadata": {},
   "source": [
    "#### Switch confusion words in sentences"
   ]
  },
  {
   "cell_type": "code",
   "execution_count": 4,
   "id": "15a303c49b3c3978",
   "metadata": {
    "ExecuteTime": {
     "end_time": "2025-01-21T13:23:24.154971Z",
     "start_time": "2025-01-21T13:20:58.089135Z"
    }
   },
   "outputs": [
    {
     "name": "stdout",
     "output_type": "stream",
     "text": [
      "accept,except = 20\n",
      "advise,advice = 21\n",
      "affect,effect = 32\n",
      "begin,being = 230\n",
      "bitch,pitch = 7\n",
      "brakes,breaks = 7\n",
      "burrows,borrows = 0\n",
      "sight,site = 29\n",
      "cords,chords = 0\n",
      "country,county = 104\n",
      "crap,crab = 2\n",
      "dessert,desert = 6\n",
      "ease,easy = 30\n",
      "effects,affects = 23\n",
      "extend,extent = 16\n",
      "feet,feat = 22\n",
      "few,view = 104\n",
      "form,from = 898\n",
      "forth,fourth = 34\n",
      "forums,forms = 3\n",
      "fund,found = 118\n",
      "lead,led = 100\n",
      "life,live = 153\n",
      "loose,lose = 20\n",
      "mad,made = 156\n",
      "or,ore = 443\n",
      "passed,past = 80\n",
      "peace,piece = 28\n",
      "plane,plain = 13\n",
      "principal,principle = 13\n",
      "quite,quiet = 39\n",
      "raise,rise = 32\n",
      "safe,save = 50\n",
      "spit,split = 9\n",
      "than,then = 435\n",
      "their,there,they = 3730\n",
      "theme,them = 259\n",
      "things,thinks = 69\n",
      "trail,trial = 27\n",
      "tree,three = 176\n",
      "two,too,to = 12638\n",
      "weak,week = 128\n",
      "weather,whether = 56\n",
      "weed,wheat = 1\n",
      "where,were = 671\n",
      "which,witch = 437\n",
      "whole,hole = 33\n",
      "with,width = 1491\n",
      "world,word = 122\n",
      "you,your = 1149\n",
      "total = 24264\n"
     ]
    }
   ],
   "source": [
    "from util import replace_confusion_set_words_in_sentences\n",
    "modified_sentences_by_confusion_sets = replace_confusion_set_words_in_sentences(sentences_by_confusion_sets)\n",
    "total = 0\n",
    "\n",
    "for key, value in modified_sentences_by_confusion_sets.items():\n",
    "    total += len(value)\n",
    "    print(key, '=', len(value))\n",
    "\n",
    "print('total =', total)"
   ]
  },
  {
   "cell_type": "markdown",
   "id": "f1becca5e6105f9f",
   "metadata": {},
   "source": [
    "#### Determine RWSEs"
   ]
  },
  {
   "cell_type": "code",
   "execution_count": 7,
   "id": "bd85a1d549b23ece",
   "metadata": {
    "ExecuteTime": {
     "end_time": "2025-01-21T13:31:19.499430Z",
     "start_time": "2025-01-21T13:31:19.232480Z"
    }
   },
   "outputs": [],
   "source": [
    "from cassis import Cas, load_typesystem\n",
    "import spacy\n",
    "\n",
    "T_SENTENCE = 'de.tudarmstadt.ukp.dkpro.core.api.segmentation.type.Sentence'\n",
    "T_RWSE = 'de.tudarmstadt.ukp.dkpro.core.api.anomaly.type.RWSE'\n",
    "T_TOKEN = 'de.tudarmstadt.ukp.dkpro.core.api.segmentation.type.Token'\n",
    "\n",
    "nlp = spacy.load('en_core_web_sm')\n",
    "\n",
    "path = 'TypeSystem.xml'\n",
    "\n",
    "with open(path, 'rb') as f:\n",
    "    ts = load_typesystem(f)\n",
    "\n",
    "S = ts.get_type(T_SENTENCE)\n",
    "T = ts.get_type(T_TOKEN)\n",
    "\n",
    "result = dict()"
   ]
  },
  {
   "cell_type": "code",
   "execution_count": 8,
   "id": "2db82ca79085232b",
   "metadata": {
    "ExecuteTime": {
     "end_time": "2025-01-21T13:59:37.219344Z",
     "start_time": "2025-01-21T13:31:41.112882Z"
    }
   },
   "outputs": [],
   "source": [
    "result = dict()\n",
    "for confusion_set, sentences in modified_sentences_by_confusion_sets.items():\n",
    "    rwse.set_confusion_sets([set(confusion_set.split(','))])\n",
    "    matches = 0\n",
    "    for sentence in sentences:\n",
    "        cas = Cas(ts)\n",
    "        # TODO clean sentence?\n",
    "        cas.sofa_string = sentence\n",
    "        doc = nlp(cas.sofa_string)\n",
    "        cas_sentence = S(begin=0, end=len(sentence))\n",
    "        cas.add(cas_sentence)\n",
    "        for token in doc:\n",
    "            cas_token = T(begin=token.idx, end=token.idx+len(token.text), id=token.i)\n",
    "            cas.add(cas_token)\n",
    "        rwse.check_cas(cas, ts)\n",
    "        true_positives = cas.select(T_RWSE)\n",
    "        if len(true_positives) == 0:\n",
    "            with open('output/true_positives_missed.csv', 'a') as f:\n",
    "                print(confusion_set, cas.sofa_string, sep='\\t', file=f)\n",
    "        else:\n",
    "            matches += 1\n",
    "    result[confusion_set] = {\n",
    "        'num_sentences':len(sentences),\n",
    "        'num_matches':matches,\n",
    "    }"
   ]
  },
  {
   "cell_type": "markdown",
   "id": "29a6fd7cf07758cf",
   "metadata": {},
   "source": [
    "#### Determine true-positive rate"
   ]
  },
  {
   "cell_type": "code",
   "execution_count": 9,
   "id": "5ee3249bf547ef32",
   "metadata": {
    "ExecuteTime": {
     "end_time": "2025-01-21T14:04:34.939502Z",
     "start_time": "2025-01-21T14:04:34.934894Z"
    }
   },
   "outputs": [
    {
     "name": "stdout",
     "output_type": "stream",
     "text": [
      "true positive rate: 0.99\n",
      "correctly identified 23917 out of 24264\n"
     ]
    }
   ],
   "source": [
    "total = sum(item['num_sentences'] for item in result.values())\n",
    "total_matches = sum(item['num_matches'] for item in result.values())\n",
    "print(f'true positive rate: {total_matches/total:.2f}')\n",
    "print(f'correctly identified {total_matches} out of {total}')"
   ]
  },
  {
   "cell_type": "code",
   "execution_count": 10,
   "id": "c37fb05a0467ea",
   "metadata": {
    "ExecuteTime": {
     "end_time": "2025-01-21T14:04:37.837784Z",
     "start_time": "2025-01-21T14:04:37.833580Z"
    }
   },
   "outputs": [
    {
     "name": "stdout",
     "output_type": "stream",
     "text": [
      "accept,except\t{'num_sentences': 20, 'num_matches': 19}\n",
      "affect,effect\t{'num_sentences': 32, 'num_matches': 30}\n",
      "sight,site\t{'num_sentences': 29, 'num_matches': 28}\n",
      "country,county\t{'num_sentences': 104, 'num_matches': 90}\n",
      "crap,crab\t{'num_sentences': 2, 'num_matches': 1}\n",
      "ease,easy\t{'num_sentences': 30, 'num_matches': 29}\n",
      "feet,feat\t{'num_sentences': 22, 'num_matches': 21}\n",
      "form,from\t{'num_sentences': 898, 'num_matches': 893}\n",
      "fund,found\t{'num_sentences': 118, 'num_matches': 116}\n",
      "lead,led\t{'num_sentences': 100, 'num_matches': 96}\n",
      "life,live\t{'num_sentences': 153, 'num_matches': 147}\n",
      "loose,lose\t{'num_sentences': 20, 'num_matches': 19}\n",
      "passed,past\t{'num_sentences': 80, 'num_matches': 79}\n",
      "peace,piece\t{'num_sentences': 28, 'num_matches': 27}\n",
      "plane,plain\t{'num_sentences': 13, 'num_matches': 12}\n",
      "principal,principle\t{'num_sentences': 13, 'num_matches': 12}\n",
      "raise,rise\t{'num_sentences': 32, 'num_matches': 27}\n",
      "safe,save\t{'num_sentences': 50, 'num_matches': 49}\n",
      "than,then\t{'num_sentences': 435, 'num_matches': 427}\n",
      "their,there,they\t{'num_sentences': 3730, 'num_matches': 3614}\n",
      "theme,them\t{'num_sentences': 259, 'num_matches': 257}\n",
      "things,thinks\t{'num_sentences': 69, 'num_matches': 68}\n",
      "trail,trial\t{'num_sentences': 27, 'num_matches': 25}\n",
      "tree,three\t{'num_sentences': 176, 'num_matches': 175}\n",
      "two,too,to\t{'num_sentences': 12638, 'num_matches': 12595}\n",
      "weak,week\t{'num_sentences': 128, 'num_matches': 126}\n",
      "where,were\t{'num_sentences': 671, 'num_matches': 661}\n",
      "whole,hole\t{'num_sentences': 33, 'num_matches': 32}\n",
      "world,word\t{'num_sentences': 122, 'num_matches': 118}\n",
      "you,your\t{'num_sentences': 1149, 'num_matches': 1041}\n"
     ]
    }
   ],
   "source": [
    "for key, value in result.items():\n",
    "    if value['num_matches'] != value['num_sentences']:\n",
    "        print(key, value, sep='\\t')"
   ]
  },
  {
   "cell_type": "code",
   "execution_count": 11,
   "id": "903deb0bc372c6f9",
   "metadata": {
    "ExecuteTime": {
     "end_time": "2025-01-21T14:04:48.104517Z",
     "start_time": "2025-01-21T14:04:48.099293Z"
    }
   },
   "outputs": [
    {
     "name": "stdout",
     "output_type": "stream",
     "text": [
      "accept,except\t19\t20\n",
      "advise,advice\t21\t21\n",
      "affect,effect\t30\t32\n",
      "begin,being\t230\t230\n",
      "bitch,pitch\t7\t7\n",
      "brakes,breaks\t7\t7\n",
      "burrows,borrows\t0\t0\n",
      "sight,site\t28\t29\n",
      "cords,chords\t0\t0\n",
      "country,county\t90\t104\n",
      "crap,crab\t1\t2\n",
      "dessert,desert\t6\t6\n",
      "ease,easy\t29\t30\n",
      "effects,affects\t23\t23\n",
      "extend,extent\t16\t16\n",
      "feet,feat\t21\t22\n",
      "few,view\t104\t104\n",
      "form,from\t893\t898\n",
      "forth,fourth\t34\t34\n",
      "forums,forms\t3\t3\n",
      "fund,found\t116\t118\n",
      "lead,led\t96\t100\n",
      "life,live\t147\t153\n",
      "loose,lose\t19\t20\n",
      "mad,made\t156\t156\n",
      "or,ore\t443\t443\n",
      "passed,past\t79\t80\n",
      "peace,piece\t27\t28\n",
      "plane,plain\t12\t13\n",
      "principal,principle\t12\t13\n",
      "quite,quiet\t39\t39\n",
      "raise,rise\t27\t32\n",
      "safe,save\t49\t50\n",
      "spit,split\t9\t9\n",
      "than,then\t427\t435\n",
      "their,there,they\t3614\t3730\n",
      "theme,them\t257\t259\n",
      "things,thinks\t68\t69\n",
      "trail,trial\t25\t27\n",
      "tree,three\t175\t176\n",
      "two,too,to\t12595\t12638\n",
      "weak,week\t126\t128\n",
      "weather,whether\t56\t56\n",
      "weed,wheat\t1\t1\n",
      "where,were\t661\t671\n",
      "which,witch\t437\t437\n",
      "whole,hole\t32\t33\n",
      "with,width\t1491\t1491\n",
      "world,word\t118\t122\n",
      "you,your\t1041\t1149\n"
     ]
    }
   ],
   "source": [
    "with open('output/report_true_positives_missed.csv', 'a') as f:\n",
    "    print('confusion_set', 'num_matches', 'num_sentences', sep=';', file=f)\n",
    "    for key, value in result.items():\n",
    "        print(key, value['num_matches'], value['num_sentences'], sep=';', file=f)\n",
    "        print(key, value['num_matches'], value['num_sentences'], sep='\\t')"
   ]
  },
  {
   "cell_type": "code",
   "execution_count": null,
   "id": "750b0196b67d64ba",
   "metadata": {},
   "outputs": [],
   "source": []
  }
 ],
 "metadata": {
  "kernelspec": {
   "display_name": ".venv",
   "language": "python",
   "name": "python3"
  },
  "language_info": {
   "codemirror_mode": {
    "name": "ipython",
    "version": 3
   },
   "file_extension": ".py",
   "mimetype": "text/x-python",
   "name": "python",
   "nbconvert_exporter": "python",
   "pygments_lexer": "ipython3",
   "version": "3.11.10"
  }
 },
 "nbformat": 4,
 "nbformat_minor": 5
}
