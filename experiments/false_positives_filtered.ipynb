{
 "cells": [
  {
   "metadata": {},
   "cell_type": "markdown",
   "source": "### RWSE-Checker: false-positives (false alarm) statistics from filtered corpus",
   "id": "421a2e9efb7631ae"
  },
  {
   "cell_type": "code",
   "id": "initial_id",
   "metadata": {
    "collapsed": true,
    "ExecuteTime": {
     "end_time": "2025-01-19T16:54:09.063665Z",
     "start_time": "2025-01-19T16:54:08.054282Z"
    }
   },
   "source": "from rwse import RWSE_Checker",
   "outputs": [
    {
     "name": "stderr",
     "output_type": "stream",
     "text": [
      "/Users/dgardner/GitHub/catalpa-cl/rwse-experiments/.venv/lib/python3.11/site-packages/tqdm/auto.py:21: TqdmWarning: IProgress not found. Please update jupyter and ipywidgets. See https://ipywidgets.readthedocs.io/en/stable/user_install.html\n",
      "  from .autonotebook import tqdm as notebook_tqdm\n"
     ]
    }
   ],
   "execution_count": 1
  },
  {
   "metadata": {
    "ExecuteTime": {
     "end_time": "2025-01-19T16:54:09.657999Z",
     "start_time": "2025-01-19T16:54:09.067926Z"
    }
   },
   "cell_type": "code",
   "source": [
    "rwse = RWSE_Checker()\n",
    "rwse.set_confusion_sets('../data/confusion_sets_modified.csv')"
   ],
   "id": "a0932c10ebc1e5af",
   "outputs": [
    {
     "name": "stderr",
     "output_type": "stream",
     "text": [
      "Some weights of the model checkpoint at bert-base-cased were not used when initializing BertForMaskedLM: ['bert.pooler.dense.bias', 'bert.pooler.dense.weight', 'cls.seq_relationship.bias', 'cls.seq_relationship.weight']\n",
      "- This IS expected if you are initializing BertForMaskedLM from the checkpoint of a model trained on another task or with another architecture (e.g. initializing a BertForSequenceClassification model from a BertForPreTraining model).\n",
      "- This IS NOT expected if you are initializing BertForMaskedLM from the checkpoint of a model that you expect to be exactly identical (initializing a BertForSequenceClassification model from a BertForSequenceClassification model).\n",
      "/Users/dgardner/GitHub/catalpa-cl/rwse-experiments/.venv/lib/python3.11/site-packages/transformers/tokenization_utils_base.py:1601: FutureWarning: `clean_up_tokenization_spaces` was not set. It will be set to `True` by default. This behavior will be depracted in transformers v4.45, and will be then set to `False` by default. For more details check this issue: https://github.com/huggingface/transformers/issues/31884\n",
      "  warnings.warn(\n",
      "Hardware accelerator e.g. GPU is available in the environment, but no `device` argument is passed to the `Pipeline` object. Model will be on CPU.\n"
     ]
    }
   ],
   "execution_count": 2
  },
  {
   "metadata": {},
   "cell_type": "markdown",
   "source": "#### Read from corpus and collect sentences by confusion sets",
   "id": "b15b220fc4c36fa6"
  },
  {
   "metadata": {
    "ExecuteTime": {
     "end_time": "2025-01-19T16:54:40.849990Z",
     "start_time": "2025-01-19T16:54:09.734533Z"
    }
   },
   "cell_type": "code",
   "source": [
    "with open('../data/eng_news_2023_10K-sentences.txt', 'r') as f:\n",
    "    sentences = f.readlines()\n",
    "\n",
    "sentences_cleaned = [sentence.split('\\t')[1].strip() for sentence in sentences]\n",
    "\n",
    "from util import collect_sentences_by_confusion_sets\n",
    "\n",
    "sentences_by_confusion_sets = collect_sentences_by_confusion_sets(rwse.confusion_sets.values(), sentences_cleaned)\n",
    "\n",
    "total = 0\n",
    "\n",
    "for key, value in sentences_by_confusion_sets.items():\n",
    "    total += len(value)\n",
    "    print(key, '=', len(value))\n",
    "\n",
    "print('total =', total)"
   ],
   "id": "ad7219e32c9680b2",
   "outputs": [
    {
     "name": "stdout",
     "output_type": "stream",
     "text": [
      "accept,except = 20\n",
      "advise,advice = 21\n",
      "affect,effect = 31\n",
      "begin,being = 213\n",
      "bitch,pitch = 7\n",
      "brakes,breaks = 7\n",
      "burrows,borrows = 0\n",
      "sight,site = 29\n",
      "cords,chords = 0\n",
      "country,county = 100\n",
      "crap,crab = 2\n",
      "dessert,desert = 6\n",
      "ease,easy = 30\n",
      "effects,affects = 23\n",
      "extend,extent = 16\n",
      "feet,feat = 21\n",
      "few,view = 103\n",
      "form,from = 839\n",
      "forth,fourth = 33\n",
      "forums,forms = 3\n",
      "fund,found = 115\n",
      "lead,led = 96\n",
      "life,live = 147\n",
      "loose,lose = 20\n",
      "mad,made = 154\n",
      "or,ore = 413\n",
      "passed,past = 80\n",
      "peace,piece = 28\n",
      "plane,plain = 12\n",
      "principal,principle = 13\n",
      "quite,quiet = 37\n",
      "raise,rise = 32\n",
      "safe,save = 48\n",
      "spit,split = 9\n",
      "than,then = 419\n",
      "their,there,they = 1421\n",
      "theme,them = 246\n",
      "things,thinks = 69\n",
      "trail,trial = 27\n",
      "tree,three = 174\n",
      "two,too,to = 4563\n",
      "weak,week = 121\n",
      "weather,whether = 56\n",
      "weed,wheat = 1\n",
      "where,were = 598\n",
      "which,witch = 424\n",
      "whole,hole = 33\n",
      "with,width = 1383\n",
      "world,word = 119\n",
      "you,your = 698\n",
      "total = 13060\n"
     ]
    }
   ],
   "execution_count": 3
  },
  {
   "metadata": {},
   "cell_type": "markdown",
   "source": "#### Determine RWSEs",
   "id": "f1becca5e6105f9f"
  },
  {
   "metadata": {
    "ExecuteTime": {
     "end_time": "2025-01-19T17:07:22.317173Z",
     "start_time": "2025-01-19T16:54:40.861718Z"
    }
   },
   "cell_type": "code",
   "source": [
    "from cassis import Cas, load_typesystem\n",
    "import spacy\n",
    "\n",
    "T_SENTENCE = 'de.tudarmstadt.ukp.dkpro.core.api.segmentation.type.Sentence'\n",
    "T_RWSE = 'de.tudarmstadt.ukp.dkpro.core.api.anomaly.type.RWSE'\n",
    "T_TOKEN = 'de.tudarmstadt.ukp.dkpro.core.api.segmentation.type.Token'\n",
    "\n",
    "nlp = spacy.load('en_core_web_sm')\n",
    "\n",
    "path = '../data/TypeSystem.xml'\n",
    "\n",
    "with open(path, 'rb') as f:\n",
    "    ts = load_typesystem(f)\n",
    "\n",
    "S = ts.get_type(T_SENTENCE)\n",
    "T = ts.get_type(T_TOKEN)\n",
    "\n",
    "for confusion_set, sentences in sentences_by_confusion_sets.items():\n",
    "    cas = Cas(ts)\n",
    "    cas.sofa_string = ' '.join(sentences)\n",
    "    doc = nlp(cas.sofa_string)\n",
    "    for sent in doc.sents:\n",
    "        cas_sentence = S(begin=sent.start_char, end=sent.end_char)\n",
    "        cas.add(cas_sentence)\n",
    "    for token in doc:\n",
    "        cas_token = T(begin=token.idx, end=token.idx+len(token.text), id=token.i)\n",
    "        cas.add(cas_token)\n",
    "    rwse.set_confusion_sets([set(confusion_set.split(','))])\n",
    "    rwse.check_cas(cas, ts)\n",
    "    false_positives = cas.select(T_RWSE)\n",
    "    with open('../experiments/data/false_positives.csv', 'a') as f:\n",
    "        false_positives_transformed = [(token.begin, token.end, cas.sofa_string[token.begin:token.end]) for token in false_positives]\n",
    "        for sent in doc.sents:\n",
    "            for token in false_positives_transformed:\n",
    "                if sent.start_char <= token[0] and sent.end_char >= token[1]:\n",
    "                    print(confusion_set, sent.text, sep='\\t', file=f)\n",
    "    print(confusion_set, \":\", len(false_positives), 'from', len(sentences))"
   ],
   "id": "2db82ca79085232b",
   "outputs": [
    {
     "name": "stdout",
     "output_type": "stream",
     "text": [
      "accept,except : 0 from 20\n",
      "advise,advice : 0 from 21\n",
      "affect,effect : 0 from 31\n",
      "begin,being : 0 from 213\n",
      "bitch,pitch : 0 from 7\n",
      "brakes,breaks : 0 from 7\n",
      "burrows,borrows : 0 from 0\n",
      "sight,site : 0 from 29\n",
      "cords,chords : 0 from 0\n",
      "d.t.u.d.c.a.a.t.RWSE(begin=14100, end=14106)\n",
      "d.t.u.d.c.a.a.t.RWSE(begin=14188, end=14194)\n",
      "d.t.u.d.c.a.a.t.RWSE(begin=14923, end=14929)\n",
      "country,county : 3 from 100\n",
      "crap,crab : 0 from 2\n",
      "dessert,desert : 0 from 6\n",
      "ease,easy : 0 from 30\n",
      "effects,affects : 0 from 23\n",
      "extend,extent : 0 from 16\n",
      "feet,feat : 0 from 21\n",
      "few,view : 0 from 103\n",
      "d.t.u.d.c.a.a.t.RWSE(begin=119955, end=119959)\n",
      "form,from : 1 from 839\n",
      "forth,fourth : 0 from 33\n",
      "forums,forms : 0 from 3\n",
      "fund,found : 0 from 115\n",
      "lead,led : 0 from 96\n",
      "life,live : 0 from 147\n",
      "loose,lose : 0 from 20\n",
      "mad,made : 0 from 154\n",
      "or,ore : 0 from 413\n",
      "passed,past : 0 from 80\n",
      "peace,piece : 0 from 28\n",
      "plane,plain : 0 from 12\n",
      "principal,principle : 0 from 13\n",
      "quite,quiet : 0 from 37\n",
      "raise,rise : 0 from 32\n",
      "safe,save : 0 from 48\n",
      "spit,split : 0 from 9\n",
      "than,then : 0 from 419\n",
      "d.t.u.d.c.a.a.t.RWSE(begin=14503, end=14507)\n",
      "d.t.u.d.c.a.a.t.RWSE(begin=70749, end=70754)\n",
      "d.t.u.d.c.a.a.t.RWSE(begin=163282, end=163287)\n",
      "their,there,they : 3 from 1421\n",
      "d.t.u.d.c.a.a.t.RWSE(begin=34159, end=34164)\n",
      "theme,them : 1 from 246\n",
      "things,thinks : 0 from 69\n",
      "trail,trial : 0 from 27\n",
      "tree,three : 0 from 174\n",
      "two,too,to : 0 from 4563\n",
      "weak,week : 0 from 121\n",
      "weather,whether : 0 from 56\n",
      "weed,wheat : 0 from 1\n",
      "where,were : 0 from 598\n",
      "which,witch : 0 from 424\n",
      "d.t.u.d.c.a.a.t.RWSE(begin=3149, end=3154)\n",
      "whole,hole : 1 from 33\n",
      "with,width : 0 from 1383\n",
      "world,word : 0 from 119\n",
      "d.t.u.d.c.a.a.t.RWSE(begin=4613, end=4617)\n",
      "d.t.u.d.c.a.a.t.RWSE(begin=65675, end=65678)\n",
      "you,your : 2 from 698\n"
     ]
    }
   ],
   "execution_count": 4
  }
 ],
 "metadata": {
  "kernelspec": {
   "display_name": "Python 3",
   "language": "python",
   "name": "python3"
  },
  "language_info": {
   "codemirror_mode": {
    "name": "ipython",
    "version": 2
   },
   "file_extension": ".py",
   "mimetype": "text/x-python",
   "name": "python",
   "nbconvert_exporter": "python",
   "pygments_lexer": "ipython2",
   "version": "2.7.6"
  }
 },
 "nbformat": 4,
 "nbformat_minor": 5
}
