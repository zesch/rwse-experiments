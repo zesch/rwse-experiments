{
 "cells": [
  {
   "cell_type": "code",
   "id": "initial_id",
   "metadata": {
    "collapsed": true,
    "ExecuteTime": {
     "end_time": "2025-04-06T14:45:03.922978Z",
     "start_time": "2025-04-06T14:45:03.919798Z"
    }
   },
   "source": [
    "from cas_visualizer.visualizer import SpacySpanVisualiser\n",
    "from IPython.display import display, HTML\n",
    "\n",
    "import spacy\n",
    "import cassis\n",
    "from rwse import RWSE_Checker"
   ],
   "outputs": [],
   "execution_count": 15
  },
  {
   "metadata": {},
   "cell_type": "markdown",
   "source": "### Build CAS",
   "id": "5a6bd8e28694331"
  },
  {
   "metadata": {
    "ExecuteTime": {
     "end_time": "2025-04-06T14:45:05.950168Z",
     "start_time": "2025-04-06T14:45:03.932389Z"
    }
   },
   "cell_type": "code",
   "source": [
    "ts_file = 'input/TypeSystem.xml'\n",
    "with open(ts_file, 'rb') as f:\n",
    "    ts = cassis.load_typesystem(f)\n",
    "\n",
    "T_SENTENCE = 'de.tudarmstadt.ukp.dkpro.core.api.segmentation.type.Sentence'\n",
    "T_TOKEN = 'de.tudarmstadt.ukp.dkpro.core.api.segmentation.type.Token'\n",
    "\n",
    "S = ts.get_type(T_SENTENCE)\n",
    "T = ts.get_type(T_TOKEN)\n",
    "\n",
    "cas = cassis.Cas(ts)\n",
    "\n",
    "input_file = 'input/use_case_example_bawe_0246b_modified.txt'\n",
    "with open(input_file, 'r') as f:\n",
    "    cas.sofa_string = f.readlines()[0]\n",
    "\n",
    "nlp = spacy.load(\"en_core_web_sm\")\n",
    "doc = nlp(cas.sofa_string)\n",
    "for sent in doc.sents:\n",
    "    cas_sentence = S(begin=sent.start_char, end=sent.end_char)\n",
    "    cas.add(cas_sentence)\n",
    "for token in doc:\n",
    "    cas_token = T(begin=token.idx, end=token.idx+len(token.text), id=token.i)\n",
    "    cas.add(cas_token)\n",
    "\n",
    "rwse = RWSE_Checker()\n",
    "rwse.set_confusion_sets('input/confusion_sets_modified.csv')\n",
    "rwse.check_cas(cas, ts, 1)"
   ],
   "id": "4033ae075c8eb62c",
   "outputs": [
    {
     "name": "stderr",
     "output_type": "stream",
     "text": [
      "Some weights of the model checkpoint at bert-base-cased were not used when initializing BertForMaskedLM: ['bert.pooler.dense.bias', 'bert.pooler.dense.weight', 'cls.seq_relationship.bias', 'cls.seq_relationship.weight']\n",
      "- This IS expected if you are initializing BertForMaskedLM from the checkpoint of a model trained on another task or with another architecture (e.g. initializing a BertForSequenceClassification model from a BertForPreTraining model).\n",
      "- This IS NOT expected if you are initializing BertForMaskedLM from the checkpoint of a model that you expect to be exactly identical (initializing a BertForSequenceClassification model from a BertForSequenceClassification model).\n",
      "Device set to use cpu\n"
     ]
    }
   ],
   "execution_count": 16
  },
  {
   "metadata": {},
   "cell_type": "markdown",
   "source": "### Visualize CAS",
   "id": "534e8164b34f24c4"
  },
  {
   "metadata": {
    "ExecuteTime": {
     "end_time": "2025-04-06T14:45:05.962661Z",
     "start_time": "2025-04-06T14:45:05.956624Z"
    }
   },
   "cell_type": "code",
   "source": [
    "#[(59, 63, 'from'), (261, 265, 'Your'), (488, 491, 'you'), (579, 583, 'your'), (928, 932, 'live')] indices from use_case_bawe_0246b.txt\n",
    "T_RWSE = 'de.tudarmstadt.ukp.dkpro.core.api.anomaly.type.RWSE'\n",
    "\n",
    "ts.create_type('custom_1', T_RWSE)\n",
    "C1 = ts.get_type('custom_1')\n",
    "ts.create_type('custom_st100', T_RWSE)\n",
    "C_st100 = ts.get_type('custom_st100')\n",
    "ts.create_type('custom_all', T_RWSE)\n",
    "C_all = ts.get_type('custom_all')\n",
    "\n",
    "for annotation in cas.select(T_RWSE):\n",
    "    if annotation.begin < 70:\n",
    "        custom = C1(begin=annotation.begin, end=annotation.end)\n",
    "        cas.add(custom)\n",
    "    elif annotation.begin > 900:\n",
    "        custom = C_st100(begin=annotation.begin, end=annotation.end)\n",
    "        cas.add(custom)\n",
    "    else:\n",
    "        custom = C_all(begin=annotation.begin, end=annotation.end)\n",
    "        cas.add(custom)\n",
    "\n",
    "spacy_span_vis = SpacySpanVisualiser(cas, [])\n",
    "\n",
    "spacy_span_vis.set_selected_annotations_to_types({\n",
    "    '1': C1,\n",
    "    '1,10,20': C_st100,\n",
    "    'ALL': C_all,\n",
    "})\n",
    "\n",
    "spacy_span_vis.set_annotations_to_colors({\n",
    "    '1': 'palegreen',#'#0DF5B3',\n",
    "    '1,10,20': 'lightgreen',#'#0AC590',\n",
    "    'ALL': 'limegreen',#'#078A65',\n",
    "})\n",
    "spacy_span_vis.set_span_type(SpacySpanVisualiser.SPAN_STYLE_HIGHLIGHTING)\n",
    "spacy_span_vis.set_allow_highlighting_overlap(True)\n",
    "html = spacy_span_vis.visualise()"
   ],
   "id": "c916d3c02f468387",
   "outputs": [],
   "execution_count": 17
  },
  {
   "metadata": {
    "ExecuteTime": {
     "end_time": "2025-04-06T14:45:05.971079Z",
     "start_time": "2025-04-06T14:45:05.968560Z"
    }
   },
   "cell_type": "code",
   "source": "display(HTML(html))",
   "id": "715de250e2d56abe",
   "outputs": [
    {
     "data": {
      "text/plain": [
       "<IPython.core.display.HTML object>"
      ],
      "text/html": [
       "\n",
       "<div class=\"entities\" style=\"line-height: 2.5; direction: ltr\">[She] was referred to Medical Admissions Unit (MAU) on the \n",
       "<mark class=\"entity\" style=\"background: palegreen; padding: 0.45em 0.6em; margin: 0 0.25em; line-height: 1; border-radius: 0.35em;\">\n",
       "    from\n",
       "    <span style=\"font-size: 0.8em; font-weight: bold; line-height: 1; border-radius: 0.35em; vertical-align: middle; margin-left: 0.5rem\">1</span>\n",
       "</mark>\n",
       " his General Practitioner (GP) due to recurrent chest infections and a reduced response to antibiotics . had a productive cough that was not improving following three courses of antibiotics . [...] \n",
       "<mark class=\"entity\" style=\"background: limegreen; padding: 0.45em 0.6em; margin: 0 0.25em; line-height: 1; border-radius: 0.35em;\">\n",
       "    Your\n",
       "    <span style=\"font-size: 0.8em; font-weight: bold; line-height: 1; border-radius: 0.35em; vertical-align: middle; margin-left: 0.5rem\">ALL</span>\n",
       "</mark>\n",
       " have had a number of infections over the last year , which have in the past responded to antibiotics . [...] We would therefore also like to give you a blood transfusion , as you have had in the past , to try and increase \n",
       "<mark class=\"entity\" style=\"background: limegreen; padding: 0.45em 0.6em; margin: 0 0.25em; line-height: 1; border-radius: 0.35em;\">\n",
       "    you\n",
       "    <span style=\"font-size: 0.8em; font-weight: bold; line-height: 1; border-radius: 0.35em; vertical-align: middle; margin-left: 0.5rem\">ALL</span>\n",
       "</mark>\n",
       " haemoglobin levels . [...] We will refer to back to the care of your haematologist who \n",
       "<mark class=\"entity\" style=\"background: limegreen; padding: 0.45em 0.6em; margin: 0 0.25em; line-height: 1; border-radius: 0.35em;\">\n",
       "    your\n",
       "    <span style=\"font-size: 0.8em; font-weight: bold; line-height: 1; border-radius: 0.35em; vertical-align: middle; margin-left: 0.5rem\">ALL</span>\n",
       "</mark>\n",
       " have outpatient appointments with and inform her about what has been happening '' . [...] The most common symptoms in those patients who have symptoms at the time of diagnosis include weakness , fatigue , night sweats or proneness to repeated infections . On examination , such patients may have enlarged , non-tender lymph nodes , an enlarged \n",
       "<mark class=\"entity\" style=\"background: lightgreen; padding: 0.45em 0.6em; margin: 0 0.25em; line-height: 1; border-radius: 0.35em;\">\n",
       "    live\n",
       "    <span style=\"font-size: 0.8em; font-weight: bold; line-height: 1; border-radius: 0.35em; vertical-align: middle; margin-left: 0.5rem\">1,10,20</span>\n",
       "</mark>\n",
       " and/or spleen .</div>\n"
      ]
     },
     "metadata": {},
     "output_type": "display_data"
    }
   ],
   "execution_count": 18
  },
  {
   "metadata": {},
   "cell_type": "markdown",
   "source": "### Analyze sentence",
   "id": "8a9e2ccde7fce3d1"
  },
  {
   "metadata": {
    "ExecuteTime": {
     "end_time": "2025-04-06T14:45:06.686240Z",
     "start_time": "2025-04-06T14:45:05.978691Z"
    }
   },
   "cell_type": "code",
   "source": [
    "from transformers import pipeline\n",
    "\n",
    "pipe = pipeline(\"fill-mask\", model=\"bert-base-cased\", device=-1)\n",
    "masked_sentence = \"On examination , such patients may have enlarged , non-tender lymph nodes , an enlarged [MASK] and/or spleen .\"\n",
    "results = pipe(masked_sentence, targets=[\"Life\", \"Live\", \"life\", \"live\"])\n",
    "#0.82254 liver (best prediction overall)\n",
    "#0.06170 kidney\n",
    "#0.04681 lung\n",
    "#0.02685 stomach\n",
    "#0.00831 heart\n",
    "#1.406122720482017e-07 life (best prediction from confusion set)\n",
    "#1.796062853998137e-08 live (original token)\n",
    "results"
   ],
   "id": "b7c13fe71baef15b",
   "outputs": [
    {
     "name": "stderr",
     "output_type": "stream",
     "text": [
      "Some weights of the model checkpoint at bert-base-cased were not used when initializing BertForMaskedLM: ['bert.pooler.dense.bias', 'bert.pooler.dense.weight', 'cls.seq_relationship.bias', 'cls.seq_relationship.weight']\n",
      "- This IS expected if you are initializing BertForMaskedLM from the checkpoint of a model trained on another task or with another architecture (e.g. initializing a BertForSequenceClassification model from a BertForPreTraining model).\n",
      "- This IS NOT expected if you are initializing BertForMaskedLM from the checkpoint of a model that you expect to be exactly identical (initializing a BertForSequenceClassification model from a BertForSequenceClassification model).\n",
      "Device set to use cpu\n"
     ]
    },
    {
     "data": {
      "text/plain": [
       "[{'score': 1.406122720482017e-07,\n",
       "  'token': 1297,\n",
       "  'token_str': 'life',\n",
       "  'sequence': 'On examination, such patients may have enlarged, non - tender lymph nodes, an enlarged life and / or spleen.'},\n",
       " {'score': 1.796062853998137e-08,\n",
       "  'token': 1686,\n",
       "  'token_str': 'live',\n",
       "  'sequence': 'On examination, such patients may have enlarged, non - tender lymph nodes, an enlarged live and / or spleen.'},\n",
       " {'score': 1.086198464506083e-09,\n",
       "  'token': 3374,\n",
       "  'token_str': 'Live',\n",
       "  'sequence': 'On examination, such patients may have enlarged, non - tender lymph nodes, an enlarged Live and / or spleen.'},\n",
       " {'score': 4.452583024505685e-10,\n",
       "  'token': 2583,\n",
       "  'token_str': 'Life',\n",
       "  'sequence': 'On examination, such patients may have enlarged, non - tender lymph nodes, an enlarged Life and / or spleen.'}]"
      ]
     },
     "execution_count": 19,
     "metadata": {},
     "output_type": "execute_result"
    }
   ],
   "execution_count": 19
  }
 ],
 "metadata": {
  "kernelspec": {
   "display_name": "Python 3",
   "language": "python",
   "name": "python3"
  },
  "language_info": {
   "codemirror_mode": {
    "name": "ipython",
    "version": 2
   },
   "file_extension": ".py",
   "mimetype": "text/x-python",
   "name": "python",
   "nbconvert_exporter": "python",
   "pygments_lexer": "ipython2",
   "version": "2.7.6"
  }
 },
 "nbformat": 4,
 "nbformat_minor": 5
}
